{
 "cells": [
  {
   "cell_type": "markdown",
   "metadata": {},
   "source": [
    "### Tugas Besar IF2220 Probabilitas dan Statistika\n",
    "# Penarikan Kesimpulan dan Pengujian Hipotesis\n",
    "\n",
    "> untuk setiap kolom numerik, akan diberikan informasi mengenai\n",
    "1. Deskripsi Statistika\n",
    "- mean\n",
    "- median\n",
    "- modus\n",
    "- standar deviasi\n",
    "- variansi\n",
    "- range\n",
    "- min\n",
    "- max\n",
    "- kuartil\n",
    "- IQR\n",
    "- skewness\n",
    "- kurtosis\n",
    "- dll\n",
    "\n",
    "2. Visualisasi plot distribusi\n",
    "- histogram\n",
    "- boxplot\n",
    "- penjelasan kondisi berdasarkan plot\n",
    "\n",
    "3. Normality test\n",
    "- apakah berdistribusi normal atau tidak"
   ]
  },
  {
   "cell_type": "code",
   "execution_count": null,
   "metadata": {},
   "outputs": [],
   "source": [
    "# load\n",
    "import pandas as pd\n",
    "import seaborn as sns\n",
    "import numpy as np\n",
    "import matplotlib.pyplot as plt\n",
    "import scipy.stats as stats\n",
    "\n",
    "df = pd.read_csv('water_potability.csv', header=None) # header=None karena data ini tidak memiliki header\n",
    "df.columns = [\"id\", \"pH\", \"hardness\", \"solids\", \"chloramines\", \"sulfate\", \"conductivity\", \"organic_carbon\", \"trihalomethanes\", \"turbidity\", \"potability\"] # menambahkan nama kolom\n",
    "df.set_index('id', inplace=True) # inplace menggantikan data yang lama dengan data baru\n",
    "df.head()"
   ]
  },
  {
   "cell_type": "markdown",
   "metadata": {},
   "source": [
    "### pH"
   ]
  },
  {
   "cell_type": "markdown",
   "metadata": {},
   "source": [
    "Deskripsi Statistik"
   ]
  },
  {
   "cell_type": "code",
   "execution_count": null,
   "metadata": {},
   "outputs": [],
   "source": [
    "# deskripsi statistik\n",
    "desc = df[\"pH\"].describe()\n",
    "desc.loc[\"median\"] = df[\"pH\"].median()\n",
    "if df[\"pH\"].mode().count() == df.shape[0]:\n",
    "    desc.loc[\"mode\"] = \"all same\"\n",
    "else:\n",
    "    desc.loc[\"modus\"] = df[\"pH\"].mode()\n",
    "desc.loc[\"variansi\"] = df[\"pH\"].var()\n",
    "desc.loc[\"range\"] = df[\"pH\"].max() - df[\"pH\"].min()\n",
    "desc.loc[\"IQR\"] = desc.loc[\"75%\"] - desc.loc[\"25%\"]\n",
    "desc.loc[\"skewness\"] = df[\"pH\"].skew()\n",
    "desc.loc[\"kurtosis\"] = df[\"pH\"].kurtosis()\n",
    "\n",
    "desc\n"
   ]
  },
  {
   "cell_type": "markdown",
   "metadata": {},
   "source": [
    "Visualisasi"
   ]
  },
  {
   "cell_type": "code",
   "execution_count": null,
   "metadata": {},
   "outputs": [],
   "source": [
    "# histogram\n",
    "sns.histplot(df[\"pH\"], kde=True) # kde=True menampilkan grafik kumulatif (garis tipis)"
   ]
  },
  {
   "cell_type": "code",
   "execution_count": null,
   "metadata": {},
   "outputs": [],
   "source": [
    "# boxplot\n",
    "df.boxplot(column=\"pH\")"
   ]
  },
  {
   "cell_type": "markdown",
   "metadata": {},
   "source": [
    "- Histogram  \n",
    "grafik terlihat seperti berdistribusi normal dengan nilai modus, median, dan mean yang sama sekitar tujuh. Grafik terlihat juga seperti tertarik ke atas, ini ditunujukkan dengan nilai kurtosis yang lebih besar dari 0.\n",
    "\n",
    "- Boxplot  \n",
    "distribusi terlihat simetris, nilai rata rata = 7 diikuti dengan nilai kuartil 1 yang sama dengan 6 dan kuartil 3 sama dengan 8. Ini didukung dengan nilai skewed yang mendekati nol. Outlier cenderung lebih menyebar di luar sisi minimum."
   ]
  },
  {
   "cell_type": "markdown",
   "metadata": {},
   "source": [
    "Normality test"
   ]
  },
  {
   "cell_type": "code",
   "execution_count": null,
   "metadata": {},
   "outputs": [],
   "source": [
    "# statistical tests\n",
    "\n",
    "stat, p = stats.normaltest(df[\"pH\"])\n",
    "if p < 0.05: # p < 0.05 menunjukkan bahwa data tidak normal\n",
    "    print(\"pH is not normal\")\n",
    "else:\n",
    "    print(\"pH is normal\")"
   ]
  },
  {
   "cell_type": "markdown",
   "metadata": {},
   "source": [
    "Graphical methods  \n",
    "Dengan melihat pada histogram pH, sekilas dapat kita ketahui grafik membentuk distribusi normal. Data pH memenuhi rata rata = modus = mean, yaitu sekitar 7. Kurva juga terlihat berbentuk simetri terhadap sumbu tegak pada x = $\\mu$ dan secara asimtotik, kurva mendekati sumbu datar ke arah kiri dan kanan yang juga berawal dari $\\mu$."
   ]
  },
  {
   "cell_type": "markdown",
   "metadata": {},
   "source": [
    "### hardness"
   ]
  },
  {
   "cell_type": "markdown",
   "metadata": {},
   "source": [
    "Deskripsi Statistik"
   ]
  },
  {
   "cell_type": "code",
   "execution_count": null,
   "metadata": {},
   "outputs": [],
   "source": [
    "# deskripsi statistik\n",
    "desc = df[\"hardness\"].describe()\n",
    "desc.loc[\"median\"] = df[\"hardness\"].median()\n",
    "if df[\"hardness\"].mode().count() == df.shape[0]:\n",
    "    desc.loc[\"mode\"] = \"all same\"\n",
    "else:\n",
    "    desc.loc[\"modus\"] = df[\"hardness\"].mode()\n",
    "desc.loc[\"variansi\"] = df[\"hardness\"].var()\n",
    "desc.loc[\"range\"] = df[\"hardness\"].max() - df[\"hardness\"].min()\n",
    "desc.loc[\"IQR\"] = desc.loc[\"75%\"] - desc.loc[\"25%\"]\n",
    "desc.loc[\"skewness\"] = df[\"hardness\"].skew()\n",
    "desc.loc[\"kurtosis\"] = df[\"hardness\"].kurtosis()\n",
    "\n",
    "desc\n"
   ]
  },
  {
   "cell_type": "markdown",
   "metadata": {},
   "source": [
    "Visualisasi"
   ]
  },
  {
   "cell_type": "code",
   "execution_count": null,
   "metadata": {},
   "outputs": [],
   "source": [
    "# histogram\n",
    "sns.histplot(df[\"hardness\"], kde=True) # kde=True menampilkan grafik kumulatif (garis tipis)"
   ]
  },
  {
   "cell_type": "code",
   "execution_count": null,
   "metadata": {},
   "outputs": [],
   "source": [
    "# boxplot\n",
    "df.boxplot(column=\"hardness\")"
   ]
  },
  {
   "cell_type": "markdown",
   "metadata": {},
   "source": [
    "- Histogram  \n",
    "terlihat pada grafik nilai modus, median memiliki nilai yang haampir sama yaitu sekitar 200. Jika dihitung, nilai rata rata juga mendekati 200. Grafik terlihat simetris, namun pada daerah sekitar 250 - 300, terjadi pelandaian yang membuat grafik tidak terlihat simetris lagi. Dapat dikatakan, grafik masih terlihat berdistribusi normal\n",
    "\n",
    "- Boxplot  \n",
    "jarak antara Q1 dan Q3 masih terlihat simetris dan nilai rata rata terlihat sama dengan median. Jumlah outlier banyak menumpuk di atas maksimal dan lebih menyebar pada bagian bawah minimum. Dapat dikatakan, grafik masih terlihat berdistribusi normal"
   ]
  },
  {
   "cell_type": "markdown",
   "metadata": {},
   "source": [
    "Normality test"
   ]
  },
  {
   "cell_type": "code",
   "execution_count": null,
   "metadata": {},
   "outputs": [],
   "source": [
    "# statistical tests\n",
    "\n",
    "stat, p = stats.normaltest(df[\"hardness\"])\n",
    "if p < 0.05: # p < 0.05 menunjukkan bahwa data tidak normal\n",
    "    print(\"hardness is not normal\")\n",
    "else:\n",
    "    print(\"hardness is normal\")"
   ]
  },
  {
   "cell_type": "markdown",
   "metadata": {},
   "source": [
    "Graphical methods  \n",
    "jika dikaitkan dengan grafik, penyebab yang membuat kolom hardness ternyata tidak nomal adalah adanya ketidaksimetrisan pada data di antara 250 - 300"
   ]
  },
  {
   "cell_type": "markdown",
   "metadata": {},
   "source": [
    "### solids"
   ]
  },
  {
   "cell_type": "markdown",
   "metadata": {},
   "source": [
    "Deskripsi Statistik"
   ]
  },
  {
   "cell_type": "code",
   "execution_count": null,
   "metadata": {},
   "outputs": [],
   "source": [
    "# deskripsi statistik\n",
    "desc = df[\"solids\"].describe()\n",
    "desc.loc[\"median\"] = df[\"solids\"].median()\n",
    "if df[\"solids\"].mode().count() == df.shape[0]:\n",
    "    desc.loc[\"mode\"] = \"all same\"\n",
    "else:\n",
    "    desc.loc[\"modus\"] = df[\"solids\"].mode()\n",
    "desc.loc[\"variansi\"] = df[\"solids\"].var()\n",
    "desc.loc[\"range\"] = df[\"solids\"].max() - df[\"solids\"].min()\n",
    "desc.loc[\"IQR\"] = desc.loc[\"75%\"] - desc.loc[\"25%\"]\n",
    "desc.loc[\"skewness\"] = df[\"solids\"].skew()\n",
    "desc.loc[\"kurtosis\"] = df[\"solids\"].kurtosis()\n",
    "\n",
    "desc\n"
   ]
  },
  {
   "cell_type": "markdown",
   "metadata": {},
   "source": [
    "Visualisasi"
   ]
  },
  {
   "cell_type": "code",
   "execution_count": null,
   "metadata": {},
   "outputs": [],
   "source": [
    "# histogram\n",
    "sns.histplot(df[\"solids\"], kde=True) # kde=True menampilkan grafik kumulatif (garis tipis)"
   ]
  },
  {
   "cell_type": "code",
   "execution_count": null,
   "metadata": {},
   "outputs": [],
   "source": [
    "# boxplot\n",
    "df.boxplot(column=\"solids\")"
   ]
  },
  {
   "cell_type": "markdown",
   "metadata": {},
   "source": [
    "- Histogram  \n",
    "terlihat pada grafik, nilai modus cenderung berada di sebelah kiri dari median. grafik tidak terlihat simetris. Dapat dikatakan, grafik tidak berdistribusi normal. Ini didukung dengan nilai skewness yang lebih dari 0.5 menandakan grafik adalah positive skew.\n",
    "\n",
    "- Boxplot  \n",
    "nilai median tidak terletak di tengah data. Terdapat banyak outlier yang berada di daerah luar maksimum, sedangkan pada daerah di luar minimum tidak ada. Ini mengindikasikan bahwa distribusi data tidak simetris. Dapat dikatakan, grafik tidak berdistribusi normal."
   ]
  },
  {
   "cell_type": "markdown",
   "metadata": {},
   "source": [
    "Normality test"
   ]
  },
  {
   "cell_type": "code",
   "execution_count": null,
   "metadata": {},
   "outputs": [],
   "source": [
    "# statistical tests\n",
    "\n",
    "stat, p = stats.normaltest(df[\"solids\"])\n",
    "if p < 0.05: # p < 0.05 menunjukkan bahwa data tidak normal\n",
    "    print(\"solids is not normal\")\n",
    "else:\n",
    "    print(\"solids is normal\")"
   ]
  },
  {
   "cell_type": "markdown",
   "metadata": {},
   "source": [
    "Graphical methods  \n",
    "Hasil tes mengatakan bahwa grafik solids tidak normal. Hal ini mendukung bahwa memang benar grafik tidak berdistribusi normal, cenderung berbentuk positif skew."
   ]
  },
  {
   "cell_type": "markdown",
   "metadata": {},
   "source": [
    "### chloramines"
   ]
  },
  {
   "cell_type": "markdown",
   "metadata": {},
   "source": [
    "Deskripsi Statistik"
   ]
  },
  {
   "cell_type": "code",
   "execution_count": null,
   "metadata": {},
   "outputs": [],
   "source": [
    "# deskripsi statistik\n",
    "desc = df[\"chloramines\"].describe()\n",
    "desc.loc[\"median\"] = df[\"chloramines\"].median()\n",
    "if df[\"chloramines\"].mode().count() == df.shape[0]:\n",
    "    desc.loc[\"mode\"] = \"all same\"\n",
    "else:\n",
    "    desc.loc[\"modus\"] = df[\"chloramines\"].mode()\n",
    "desc.loc[\"variansi\"] = df[\"chloramines\"].var()\n",
    "desc.loc[\"range\"] = df[\"chloramines\"].max() - df[\"chloramines\"].min()\n",
    "desc.loc[\"IQR\"] = desc.loc[\"75%\"] - desc.loc[\"25%\"]\n",
    "desc.loc[\"skewness\"] = df[\"chloramines\"].skew()\n",
    "desc.loc[\"kurtosis\"] = df[\"chloramines\"].kurtosis()\n",
    "\n",
    "desc\n"
   ]
  },
  {
   "cell_type": "markdown",
   "metadata": {},
   "source": [
    "Visualisasi"
   ]
  },
  {
   "cell_type": "code",
   "execution_count": null,
   "metadata": {},
   "outputs": [],
   "source": [
    "# histogram\n",
    "sns.histplot(df[\"chloramines\"], kde=True) # kde=True menampilkan grafik kumulatif (garis tipis)"
   ]
  },
  {
   "cell_type": "code",
   "execution_count": null,
   "metadata": {},
   "outputs": [],
   "source": [
    "# boxplot\n",
    "df.boxplot(column=\"chloramines\")"
   ]
  },
  {
   "cell_type": "markdown",
   "metadata": {},
   "source": [
    "- Histogram  \n",
    "terlihat pada grafik, nilai modus tidak berada di tengah tengah grafik. Meskipun jika diperhatikan nilai median dan rata rata sama. Grafik juga tidak simetris dan kurang membentuk bell curve. Dapat dikatakan grafik tersebut tidak berdistribusi normal.\n",
    "\n",
    "- Boxplot  \n",
    "median terdapat di tengah tengah data. Sekilas, jarak Q1 dnegan Q2 lebih lebar daripada Q3 dengan Q2, ini berarti distribui kurang simetris. Persebaran data lebih banyak terdapat di bagian luar batas maksimum. Dapat dikatakan grafik tidak berdistribusi normal."
   ]
  },
  {
   "cell_type": "markdown",
   "metadata": {},
   "source": [
    "Normality test"
   ]
  },
  {
   "cell_type": "code",
   "execution_count": null,
   "metadata": {},
   "outputs": [],
   "source": [
    "# statistical tests\n",
    "\n",
    "stat, p = stats.normaltest(df[\"chloramines\"])\n",
    "if p < 0.05: # p < 0.05 menunjukkan bahwa data tidak normal\n",
    "    print(\"chloramines is not normal\")\n",
    "else:\n",
    "    print(\"chloramines is normal\")"
   ]
  },
  {
   "cell_type": "markdown",
   "metadata": {},
   "source": [
    "Graphical methods  \n",
    "Hasil normality test mendukung bahwa grafik memang terlihat tidak berdistribusi normal karena kurang terlihat membentuk bell curve."
   ]
  },
  {
   "cell_type": "markdown",
   "metadata": {},
   "source": [
    "### sulfate"
   ]
  },
  {
   "cell_type": "markdown",
   "metadata": {},
   "source": [
    "Deskripsi Statistik"
   ]
  },
  {
   "cell_type": "code",
   "execution_count": null,
   "metadata": {},
   "outputs": [],
   "source": [
    "# deskripsi statistik\n",
    "desc = df[\"sulfate\"].describe()\n",
    "desc.loc[\"median\"] = df[\"sulfate\"].median()\n",
    "if df[\"sulfate\"].mode().count() == df.shape[0]:\n",
    "    desc.loc[\"mode\"] = \"all same\"\n",
    "else:\n",
    "    desc.loc[\"modus\"] = df[\"sulfate\"].mode()\n",
    "desc.loc[\"variansi\"] = df[\"sulfate\"].var()\n",
    "desc.loc[\"range\"] = df[\"sulfate\"].max() - df[\"sulfate\"].min()\n",
    "desc.loc[\"IQR\"] = desc.loc[\"75%\"] - desc.loc[\"25%\"]\n",
    "desc.loc[\"skewness\"] = df[\"sulfate\"].skew()\n",
    "desc.loc[\"kurtosis\"] = df[\"sulfate\"].kurtosis()\n",
    "\n",
    "desc\n"
   ]
  },
  {
   "cell_type": "markdown",
   "metadata": {},
   "source": [
    "Visualisasi"
   ]
  },
  {
   "cell_type": "code",
   "execution_count": null,
   "metadata": {},
   "outputs": [],
   "source": [
    "# histogram\n",
    "sns.histplot(df[\"sulfate\"], kde=True) # kde=True menampilkan grafik kumulatif (garis tipis)"
   ]
  },
  {
   "cell_type": "code",
   "execution_count": null,
   "metadata": {},
   "outputs": [],
   "source": [
    "# boxplot\n",
    "df.boxplot(column=\"sulfate\")"
   ]
  },
  {
   "cell_type": "markdown",
   "metadata": {},
   "source": [
    "- Histogram  \n",
    "[tulis di sini]\n",
    "\n",
    "- Boxplot  \n",
    "[tulis di sini]"
   ]
  },
  {
   "cell_type": "markdown",
   "metadata": {},
   "source": [
    "Normality test"
   ]
  },
  {
   "cell_type": "code",
   "execution_count": null,
   "metadata": {},
   "outputs": [],
   "source": [
    "# statistical tests\n",
    "\n",
    "stat, p = stats.normaltest(df[\"sulfate\"])\n",
    "if p < 0.05: # p < 0.05 menunjukkan bahwa data tidak normal\n",
    "    print(\"sulfate is not normal\")\n",
    "else:\n",
    "    print(\"sulfate is normal\")"
   ]
  },
  {
   "cell_type": "markdown",
   "metadata": {},
   "source": [
    "Graphical methods  \n",
    "[tulis di sini]"
   ]
  },
  {
   "cell_type": "markdown",
   "metadata": {},
   "source": [
    "### conductivity"
   ]
  },
  {
   "cell_type": "markdown",
   "metadata": {},
   "source": [
    "Deskripsi Statistik"
   ]
  },
  {
   "cell_type": "code",
   "execution_count": null,
   "metadata": {},
   "outputs": [],
   "source": [
    "# deskripsi statistik\n",
    "desc = df[\"solids\"].describe()\n",
    "desc.loc[\"median\"] = df[\"solids\"].median()\n",
    "if df[\"solids\"].mode().count() == df.shape[0]:\n",
    "    desc.loc[\"mode\"] = \"all same\"\n",
    "else:\n",
    "    desc.loc[\"modus\"] = df[\"solids\"].mode()\n",
    "desc.loc[\"variansi\"] = df[\"solids\"].var()\n",
    "desc.loc[\"range\"] = df[\"solids\"].max() - df[\"solids\"].min()\n",
    "desc.loc[\"IQR\"] = desc.loc[\"75%\"] - desc.loc[\"25%\"]\n",
    "desc.loc[\"skewness\"] = df[\"solids\"].skew()\n",
    "desc.loc[\"kurtosis\"] = df[\"solids\"].kurtosis()\n",
    "\n",
    "desc\n"
   ]
  },
  {
   "cell_type": "markdown",
   "metadata": {},
   "source": [
    "Visualisasi"
   ]
  },
  {
   "cell_type": "code",
   "execution_count": null,
   "metadata": {},
   "outputs": [],
   "source": [
    "# histogram\n",
    "sns.histplot(df[\"solids\"], kde=True) # kde=True menampilkan grafik kumulatif (garis tipis)"
   ]
  },
  {
   "cell_type": "code",
   "execution_count": null,
   "metadata": {},
   "outputs": [],
   "source": [
    "# boxplot\n",
    "df.boxplot(column=\"solids\")"
   ]
  },
  {
   "cell_type": "markdown",
   "metadata": {},
   "source": [
    "- Histogram  \n",
    "[tulis di sini]\n",
    "\n",
    "- Boxplot  \n",
    "[tulis di sini]"
   ]
  },
  {
   "cell_type": "markdown",
   "metadata": {},
   "source": [
    "Normality test"
   ]
  },
  {
   "cell_type": "code",
   "execution_count": null,
   "metadata": {},
   "outputs": [],
   "source": [
    "# statistical tests\n",
    "\n",
    "stat, p = stats.normaltest(df[\"solids\"])\n",
    "if p < 0.05: # p < 0.05 menunjukkan bahwa data tidak normal\n",
    "    print(\"solids is not normal\")\n",
    "else:\n",
    "    print(\"solids is normal\")"
   ]
  },
  {
   "cell_type": "markdown",
   "metadata": {},
   "source": [
    "Graphical methods  \n",
    "[tulis di sini]"
   ]
  },
  {
   "cell_type": "markdown",
   "metadata": {},
   "source": [
    "### organic_carbon"
   ]
  },
  {
   "cell_type": "markdown",
   "metadata": {},
   "source": [
    "Deskripsi Statistik"
   ]
  },
  {
   "cell_type": "code",
   "execution_count": null,
   "metadata": {},
   "outputs": [],
   "source": [
    "# deskripsi statistik\n",
    "desc = df[\"organic_carbon\"].describe()\n",
    "desc.loc[\"median\"] = df[\"organic_carbon\"].median()\n",
    "if df[\"organic_carbon\"].mode().count() == df.shape[0]:\n",
    "    desc.loc[\"mode\"] = \"all same\"\n",
    "else:\n",
    "    desc.loc[\"modus\"] = df[\"organic_carbon\"].mode()\n",
    "desc.loc[\"variansi\"] = df[\"organic_carbon\"].var()\n",
    "desc.loc[\"range\"] = df[\"organic_carbon\"].max() - df[\"organic_carbon\"].min()\n",
    "desc.loc[\"IQR\"] = desc.loc[\"75%\"] - desc.loc[\"25%\"]\n",
    "desc.loc[\"skewness\"] = df[\"organic_carbon\"].skew()\n",
    "desc.loc[\"kurtosis\"] = df[\"organic_carbon\"].kurtosis()\n",
    "\n",
    "desc\n"
   ]
  },
  {
   "cell_type": "markdown",
   "metadata": {},
   "source": [
    "Visualisasi"
   ]
  },
  {
   "cell_type": "code",
   "execution_count": null,
   "metadata": {},
   "outputs": [],
   "source": [
    "# histogram\n",
    "sns.histplot(df[\"organic_carbon\"], kde=True) # kde=True menampilkan grafik kumulatif (garis tipis)"
   ]
  },
  {
   "cell_type": "code",
   "execution_count": null,
   "metadata": {},
   "outputs": [],
   "source": [
    "# boxplot\n",
    "df.boxplot(column=\"organic_carbon\")"
   ]
  },
  {
   "cell_type": "markdown",
   "metadata": {},
   "source": [
    "- Histogram  \n",
    "[tulis di sini]\n",
    "\n",
    "- Boxplot  \n",
    "[tulis di sini]"
   ]
  },
  {
   "cell_type": "markdown",
   "metadata": {},
   "source": [
    "Normality test"
   ]
  },
  {
   "cell_type": "code",
   "execution_count": null,
   "metadata": {},
   "outputs": [],
   "source": [
    "# statistical tests\n",
    "\n",
    "stat, p = stats.normaltest(df[\"organic_carbon\"])\n",
    "if p < 0.05: # p < 0.05 menunjukkan bahwa data tidak normal\n",
    "    print(\"organic_carbon is not normal\")\n",
    "else:\n",
    "    print(\"organic_carbon is normal\")"
   ]
  },
  {
   "cell_type": "markdown",
   "metadata": {},
   "source": [
    "Graphical methods  \n",
    "[tulis di sini]"
   ]
  },
  {
   "cell_type": "markdown",
   "metadata": {},
   "source": [
    "### trihalomethanes"
   ]
  },
  {
   "cell_type": "markdown",
   "metadata": {},
   "source": [
    "Deskripsi Statistik"
   ]
  },
  {
   "cell_type": "code",
   "execution_count": null,
   "metadata": {},
   "outputs": [],
   "source": [
    "# deskripsi statistik\n",
    "desc = df[\"trihalomethanes\"].describe()\n",
    "desc.loc[\"median\"] = df[\"trihalomethanes\"].median()\n",
    "if df[\"trihalomethanes\"].mode().count() == df.shape[0]:\n",
    "    desc.loc[\"mode\"] = \"all same\"\n",
    "else:\n",
    "    desc.loc[\"modus\"] = df[\"trihalomethanes\"].mode()\n",
    "desc.loc[\"variansi\"] = df[\"trihalomethanes\"].var()\n",
    "desc.loc[\"range\"] = df[\"trihalomethanes\"].max() - df[\"trihalomethanes\"].min()\n",
    "desc.loc[\"IQR\"] = desc.loc[\"75%\"] - desc.loc[\"25%\"]\n",
    "desc.loc[\"skewness\"] = df[\"trihalomethanes\"].skew()\n",
    "desc.loc[\"kurtosis\"] = df[\"trihalomethanes\"].kurtosis()\n",
    "\n",
    "desc\n"
   ]
  },
  {
   "cell_type": "markdown",
   "metadata": {},
   "source": [
    "Visualisasi"
   ]
  },
  {
   "cell_type": "code",
   "execution_count": null,
   "metadata": {},
   "outputs": [],
   "source": [
    "# histogram\n",
    "sns.histplot(df[\"trihalomethanes\"], kde=True) # kde=True menampilkan grafik kumulatif (garis tipis)"
   ]
  },
  {
   "cell_type": "code",
   "execution_count": null,
   "metadata": {},
   "outputs": [],
   "source": [
    "# boxplot\n",
    "df.boxplot(column=\"trihalomethanes\")"
   ]
  },
  {
   "cell_type": "markdown",
   "metadata": {},
   "source": [
    "- Histogram  \n",
    "[tulis di sini]\n",
    "\n",
    "- Boxplot  \n",
    "[tulis di sini]"
   ]
  },
  {
   "cell_type": "markdown",
   "metadata": {},
   "source": [
    "Normality test"
   ]
  },
  {
   "cell_type": "code",
   "execution_count": null,
   "metadata": {},
   "outputs": [],
   "source": [
    "# statistical tests\n",
    "\n",
    "stat, p = stats.normaltest(df[\"trihalomethanes\"])\n",
    "if p < 0.05: # p < 0.05 menunjukkan bahwa data tidak normal\n",
    "    print(\"trihalomethanes is not normal\")\n",
    "else:\n",
    "    print(\"trihalomethanes is normal\")"
   ]
  },
  {
   "cell_type": "markdown",
   "metadata": {},
   "source": [
    "Graphical methods  \n",
    "[tulis di sini]"
   ]
  },
  {
   "cell_type": "markdown",
   "metadata": {},
   "source": [
    "### turbidity"
   ]
  },
  {
   "cell_type": "markdown",
   "metadata": {},
   "source": [
    "Deskripsi Statistik"
   ]
  },
  {
   "cell_type": "code",
   "execution_count": null,
   "metadata": {},
   "outputs": [],
   "source": [
    "# deskripsi statistik\n",
    "desc = df[\"turbidity\"].describe()\n",
    "desc.loc[\"median\"] = df[\"turbidity\"].median()\n",
    "if df[\"turbidity\"].mode().count() == df.shape[0]:\n",
    "    desc.loc[\"mode\"] = \"all same\"\n",
    "else:\n",
    "    desc.loc[\"modus\"] = df[\"turbidity\"].mode()\n",
    "desc.loc[\"variansi\"] = df[\"turbidity\"].var()\n",
    "desc.loc[\"range\"] = df[\"turbidity\"].max() - df[\"turbidity\"].min()\n",
    "desc.loc[\"IQR\"] = desc.loc[\"75%\"] - desc.loc[\"25%\"]\n",
    "desc.loc[\"skewness\"] = df[\"turbidity\"].skew()\n",
    "desc.loc[\"kurtosis\"] = df[\"turbidity\"].kurtosis()\n",
    "\n",
    "desc\n"
   ]
  },
  {
   "cell_type": "markdown",
   "metadata": {},
   "source": [
    "Visualisasi"
   ]
  },
  {
   "cell_type": "code",
   "execution_count": null,
   "metadata": {},
   "outputs": [],
   "source": [
    "# histogram\n",
    "sns.histplot(df[\"turbidity\"], kde=True) # kde=True menampilkan grafik kumulatif (garis tipis)"
   ]
  },
  {
   "cell_type": "code",
   "execution_count": null,
   "metadata": {},
   "outputs": [],
   "source": [
    "# boxplot\n",
    "df.boxplot(column=\"turbidity\")"
   ]
  },
  {
   "cell_type": "markdown",
   "metadata": {},
   "source": [
    "- Histogram  \n",
    "[tulis di sini]\n",
    "\n",
    "- Boxplot  \n",
    "[tulis di sini]"
   ]
  },
  {
   "cell_type": "markdown",
   "metadata": {},
   "source": [
    "Normality test"
   ]
  },
  {
   "cell_type": "code",
   "execution_count": null,
   "metadata": {},
   "outputs": [],
   "source": [
    "# statistical tests\n",
    "\n",
    "stat, p = stats.normaltest(df[\"turbidity\"])\n",
    "if p < 0.05: # p < 0.05 menunjukkan bahwa data tidak normal\n",
    "    print(\"turbidity is not normal\")\n",
    "else:\n",
    "    print(\"turbidity is normal\")"
   ]
  },
  {
   "cell_type": "markdown",
   "metadata": {},
   "source": [
    "Graphical methods  \n",
    "[tulis di sini]"
   ]
  },
  {
   "cell_type": "markdown",
   "metadata": {},
   "source": [
    "## Tes Hipotesis\n",
    "> untuk setiap hipotesis akan dituliskan 6 langkah testing beserta boxplot\n",
    "### 1 sampel\n",
    "a. Nilai rata-rata pH di atas 7?  \n",
    "1. Hipotesis nol H<sub>0</sub>:  $\\mu$ = 7\n",
    "2. Hipotesis alternatif H<sub>1</sub>: $\\mu$ > 7\n",
    "3. Tingkat signifikasi: α = 0.05\n",
    "4. uji statistik yang sesuai dan critical region\n",
    "5. uji statistik dari data sample dan p-value"
   ]
  },
  {
   "cell_type": "code",
   "execution_count": null,
   "metadata": {},
   "outputs": [],
   "source": [
    "print(\"== Informasi Sampel ==\")\n",
    "\n",
    "mu0 = 7         # H0: mu = 7\n",
    "n = df.shape[0] # banyak sampel\n",
    "print(\"n =\", n)\n",
    "\n",
    "α = 0.05\n",
    "print(\"Tingkat signifikansi α =\", α)\n",
    "\n",
    "std = df[\"pH\"].std()    # standar deviasi sampel\n",
    "print(\"std =\", std)\n",
    "\n",
    "mean = df[\"pH\"].mean()  # rata-rata sampel\n",
    "print(\"mean =\", mean)\n",
    "\n",
    "print(\"\\n== Uji Statistik ==\")\n",
    "critical_region = stats.t.ppf(1 - α, n - 1)     # gunakan 1 - α untuk nilai t yang berada di kanan, sebaliknya gunakan α untuk nilai t yang berada di kiri\n",
    "print(\"critical region >\", critical_region)\n",
    "\n",
    "t = (mean - mu0) / (std / np.sqrt(n))\n",
    "print(\"t =\", t)\n",
    "\n",
    "p_value = 1 - stats.t.cdf(t, n - 1)     # stats.t.cdf(t, n - 1) itu adalah P(T < t), sedangkan untuk P(T > t) gunakan 1 - P(T < t)\n",
    "print(\"p-value =\", p_value)\n"
   ]
  },
  {
   "cell_type": "markdown",
   "metadata": {},
   "source": [
    "6. keputusan: \n"
   ]
  },
  {
   "cell_type": "code",
   "execution_count": null,
   "metadata": {},
   "outputs": [],
   "source": [
    "if t > critical_region:\n",
    "    print(\"t > critical region\")\n",
    "else:\n",
    "    print(\"t <= critical region\")\n",
    "\n",
    "if p_value >= α:\n",
    "    print(\"p-value >= α\")\n",
    "else:\n",
    "    print(\"p-value < α\")\n",
    "\n",
    "if t > critical_region and p_value < α:\n",
    "    print(\"Hipotesis nol ditolak\")\n",
    "else:\n",
    "    print(\"Hipotesis nol diterima\")"
   ]
  },
  {
   "cell_type": "markdown",
   "metadata": {},
   "source": [
    "Boxplot"
   ]
  },
  {
   "cell_type": "code",
   "execution_count": null,
   "metadata": {},
   "outputs": [],
   "source": [
    "# boxplot ph\n",
    "df.boxplot(column=\"pH\")"
   ]
  },
  {
   "cell_type": "markdown",
   "metadata": {},
   "source": [
    "b. Nilai Rata-rata Hardness tidak sama dengan 205?  \n",
    "1. Hipotesis nol H<sub>0</sub>: $\\mu$ = 205\n",
    "2. Hipotesis alternatif H<sub>1</sub>: $\\mu$ ≠ 205\n",
    "3. Tingkat signifikasi: α = 0.05\n",
    "4. uji statistik yang sesuai dan critical region\n",
    "5. uji statistik dari data sample dan p-value\n"
   ]
  },
  {
   "cell_type": "code",
   "execution_count": null,
   "metadata": {},
   "outputs": [],
   "source": [
    "print(\"== Informasi Sampel ==\")\n",
    "\n",
    "mu0 = 205         # H0: mu = 205\n",
    "n = df.shape[0] # banyak sampel\n",
    "print(\"n =\", n)\n",
    "\n",
    "α = 0.05\n",
    "print(\"Tingkat signifikansi α =\", α)\n",
    "\n",
    "std = df[\"hardness\"].std()    # standar deviasi sampel\n",
    "print(\"std =\", std)\n",
    "\n",
    "mean = df[\"hardness\"].mean()  # rata-rata sampel\n",
    "print(\"mean =\", mean)\n",
    "\n",
    "print(\"\\n== Uji Statistik ==\")\n",
    "critical_region_kanan = stats.t.ppf((1 - α/2), n - 1)\n",
    "critical_region_kiri = stats.t.ppf(α/2, n - 1)\n",
    "print(\"critical region >\", critical_region_kanan)\n",
    "print(\"atau\")\n",
    "print(\"critical region <\", critical_region_kiri)\n",
    "\n",
    "t = (mean - mu0) / (std / np.sqrt(n))\n",
    "print(\"t =\", t)\n",
    "\n",
    "p_value = 2 * stats.t.cdf(t, n - 1)     # stats.t.cdf(t, n - 1) itu adalah P(T < t), sedangkan untuk P(T > t) gunakan 1 - P(T < t)\n",
    "print(\"p-value =\", p_value)\n"
   ]
  },
  {
   "cell_type": "markdown",
   "metadata": {},
   "source": [
    "6. keputusan: \n"
   ]
  },
  {
   "cell_type": "code",
   "execution_count": null,
   "metadata": {},
   "outputs": [],
   "source": [
    "if t > critical_region:\n",
    "    print(\"t > critical region\")\n",
    "else:\n",
    "    print(\"t <= critical region\")\n",
    "\n",
    "if p_value >= α:\n",
    "    print(\"p-value >= α\")\n",
    "else:\n",
    "    print(\"p-value < α\")\n",
    "\n",
    "if (t > critical_region_kanan or t < critical_region_kiri) and p_value < α:\n",
    "    print(\"Hipotesis nol ditolak\")\n",
    "else:\n",
    "    print(\"Hipotesis nol diterima\")"
   ]
  },
  {
   "cell_type": "markdown",
   "metadata": {},
   "source": [
    "Boxplot"
   ]
  },
  {
   "cell_type": "code",
   "execution_count": null,
   "metadata": {},
   "outputs": [],
   "source": [
    "# boxplot hardness\n",
    "df.boxplot(column=\"hardness\")"
   ]
  },
  {
   "cell_type": "markdown",
   "metadata": {},
   "source": [
    "\n",
    "c. Nilai Rata-rata 100 baris pertama kolom Solids bukan 21900?  \n",
    "1. Hipotesis nol H<sub>0</sub>: =  \n",
    "2. Hipotesis alternatif H<sub>1</sub>: ≠\n",
    "3. Tingkat signifikasi: α =\n",
    "4. uji statistik yang sesuai dan critical region\n",
    "5. uji statistik dari data sample dan p-value\n"
   ]
  },
  {
   "cell_type": "code",
   "execution_count": null,
   "metadata": {},
   "outputs": [],
   "source": []
  },
  {
   "cell_type": "markdown",
   "metadata": {},
   "source": [
    "6. keputusan: \n"
   ]
  },
  {
   "cell_type": "code",
   "execution_count": null,
   "metadata": {},
   "outputs": [],
   "source": []
  },
  {
   "cell_type": "markdown",
   "metadata": {},
   "source": [
    "Boxplot"
   ]
  },
  {
   "cell_type": "code",
   "execution_count": null,
   "metadata": {},
   "outputs": [],
   "source": []
  },
  {
   "cell_type": "markdown",
   "metadata": {},
   "source": [
    "\n",
    "d. Proporsi nilai Conductivity yang lebih dari 450, adalah tidak sama dengan 10%?  \n",
    "1. Hipotesis nol H<sub>0</sub>: =  \n",
    "2. Hipotesis alternatif H<sub>1</sub>: ≠\n",
    "3. Tingkat signifikasi: α =\n",
    "4. uji statistik yang sesuai dan critical region\n",
    "5. uji statistik dari data sample dan p-value\n"
   ]
  },
  {
   "cell_type": "code",
   "execution_count": null,
   "metadata": {},
   "outputs": [],
   "source": []
  },
  {
   "cell_type": "markdown",
   "metadata": {},
   "source": [
    "6. keputusan: \n"
   ]
  },
  {
   "cell_type": "code",
   "execution_count": null,
   "metadata": {},
   "outputs": [],
   "source": []
  },
  {
   "cell_type": "markdown",
   "metadata": {},
   "source": [
    "Boxplot"
   ]
  },
  {
   "cell_type": "code",
   "execution_count": null,
   "metadata": {},
   "outputs": [],
   "source": []
  },
  {
   "cell_type": "markdown",
   "metadata": {},
   "source": [
    "\n",
    "e. Proporsi nilai Trihalomethanes yang kurang dari 40, adalah kurang dari 5%?  \n",
    "1. Hipotesis nol H<sub>0</sub>: =  \n",
    "2. Hipotesis alternatif H<sub>1</sub>: ≠\n",
    "3. Tingkat signifikasi: α =\n",
    "4. uji statistik yang sesuai dan critical region\n",
    "5. uji statistik dari data sample dan p-value\n"
   ]
  },
  {
   "cell_type": "code",
   "execution_count": null,
   "metadata": {},
   "outputs": [],
   "source": []
  },
  {
   "cell_type": "markdown",
   "metadata": {},
   "source": [
    "6. keputusan: \n",
    "\n"
   ]
  },
  {
   "cell_type": "code",
   "execution_count": null,
   "metadata": {},
   "outputs": [],
   "source": []
  },
  {
   "cell_type": "markdown",
   "metadata": {},
   "source": [
    "Boxplot"
   ]
  },
  {
   "cell_type": "code",
   "execution_count": null,
   "metadata": {},
   "outputs": [],
   "source": []
  },
  {
   "cell_type": "markdown",
   "metadata": {},
   "source": [
    "### 2 sampel\n",
    "a. Data kolom Sulfate dibagi 2 sama rata: bagian awal dan bagian akhir kolom. Benarkah rata-rata kedua bagian tersebut sama?\n",
    "\n",
    "μ1 = rata-rata bagian awal <br>\n",
    "μ2 = rata-rata bagian akhir\n",
    "\n",
    "1. Hipotesis nol: H<sub>0</sub> = (μ1 - μ2 = 0) <br>\n",
    "2. Hipotesis alternatif: H<sub>1</sub> = (μ1 - μ2 $\\ne$ 0)\n",
    "3. Tingkat signifikasi: $\\alpha$ = 0.05\n",
    "\n",
    "Daerah kritis $z < -z_{\\alpha_{/2}} \\lor z > z_{\\alpha_{/2}}$\n",
    "\n",
    "Terdapat 2010 instance/individu dalam populasi, sehingga bagian awal berjumlah 1005 instance dan bagian akhir berjumlah 1005 instance\n",
    "\n",
    "Uji hipotesis dilakukan dengan menghitung Z dari sampel bagian awal dan sampel bagian akhir\n",
    "\n",
    "$$ z = \\frac{(\\bar{x_{1}} - \\bar{x_{2}}) - d_{0}} {\\sqrt{\\sigma_{1}^{2}/n_{1} + \\sigma_{2}^{2}/n_{2}}}$$\n",
    "\n",
    "Z akan dibandingkan dengan daerah kritis yang telah ditentukan berdasarkan $\\alpha$\n",
    "\n",
    "Lalu, juga dilakukan test p value dengan membandingkan nilai probabilitas Z dengan nilai $\\alpha$\n",
    "\n",
    "Jika Z memasuki daerah kritis dan p value kurang dari $\\alpha$, maka dapat diambil kesimpulan H0 ditolak\n",
    "\n",
    "Jika Z di luar daerah kritis dan p value lebih dari $\\alpha$, maka H0 diterima\n"
   ]
  },
  {
   "cell_type": "markdown",
   "metadata": {},
   "source": [
    "4. uji statistik yang sesuai dan critical region"
   ]
  },
  {
   "cell_type": "code",
   "execution_count": null,
   "metadata": {},
   "outputs": [],
   "source": [
    "α = 0.05\n",
    "sulfateAwal = df[\"sulfate\"][:len(df)//2]\n",
    "nAwal5a = len(sulfateAwal)\n",
    "miuAwal5a = sulfateAwal.mean()\n",
    "sigmaAwal5a = sulfateAwal.std()\n",
    "\n",
    "sulfateAkhir = df[\"sulfate\"][len(df)//2:]\n",
    "nAkhir5a = len(sulfateAkhir)\n",
    "miuAkhir5a = sulfateAkhir.mean()\n",
    "sigmaAkhir5a = sulfateAkhir.std()\n",
    "\n",
    "fig, axs = plt.subplots(2, figsize=(8,12))\n",
    "\n",
    "sulfateAwal.plot.box(label = \"Sulfate bagian awal\", ax=axs[0])\n",
    "sulfateAkhir.plot.box(label = \"Sulfate bagian akhir\", ax=axs[1])\n",
    "plt.plot()"
   ]
  },
  {
   "cell_type": "markdown",
   "metadata": {},
   "source": [
    "5. uji statistik dari data sample dan p-value"
   ]
  },
  {
   "cell_type": "code",
   "execution_count": null,
   "metadata": {},
   "outputs": [],
   "source": [
    "d0 = 0\n",
    "z5a = ((miuAwal5a-miuAkhir5a)-d0)/np.sqrt((pow(sigmaAwal5a,2)/nAwal5a)+(pow(sigmaAkhir5a,2)/nAkhir5a))\n",
    "criticalValue5a = (stats.norm.ppf(1-α/2))\n",
    "if z5a < 0:\n",
    "  pValue5a = 2*(stats.norm.cdf(z5a))\n",
    "else:\n",
    "  pValue5a = 2*(stats.norm.sf(z5a))\n",
    "print(\"Nilai z adalah \" + str(z5a))\n",
    "print(\"Nilai p adalah \" + str(pValue5a))\n",
    "print(\"Nilai daerah kritis adalah \" + str(-criticalValue5a) + \" dan \" + str(criticalValue5a))"
   ]
  },
  {
   "cell_type": "markdown",
   "metadata": {},
   "source": [
    "\n",
    "6. Keputusan :"
   ]
  },
  {
   "cell_type": "code",
   "execution_count": null,
   "metadata": {},
   "outputs": [],
   "source": [
    "if z5a > criticalValue5a or z5a < -criticalValue5a:\n",
    "    print(\"Z masuk dalam daerah kritis, H0 pasti ditolak\")\n",
    "else:\n",
    "    print(\"Z di luar daerah kritis, H0 mungkin diterima\")\n",
    "\n",
    "if pValue5a < α:\n",
    "    print(\"P value kurang dari alpha, H0 pasti ditolak\")\n",
    "else:\n",
    "    print(\"P value lebih dari alpha, H0 mungkin diterima\")\n",
    "\n",
    "if (z5a > criticalValue5a or z5a < -criticalValue5a) or (pValue5a < α):\n",
    "    print(\"Karena salah satu syarat ditolak, maka kesimpulannya H0 ditolak\")\n",
    "    print(\"Sehingga rata-rata kedua bagian itu tidak sama\")\n",
    "else:\n",
    "    print(\"Karena kedua syarat terpenuhi, maka kesimpulannya H0 diterima\")\n",
    "    print(\"Sehingga rata-rata kedua bagian itu sama\")"
   ]
  },
  {
   "cell_type": "markdown",
   "metadata": {},
   "source": [
    "b. Data kolom OrganicCarbon dibagi 2 sama rata: bagian awal dan bagian akhir kolom. Benarkah rata-rata bagian awal lebih besar dari pada bagian akhir sebesar 0.15? \n",
    "\n",
    "μ1 = rata-rata bagian awal <br>\n",
    "μ2 = rata-rata bagian akhir\n",
    "\n",
    "1. Hipotesis nol: H<sub>0</sub> =  (μ1 - μ2 = 0.15) <br>\n",
    "2. Hipotesis alternatif: H<sub>1</sub> = (μ1 - μ2 $\\ne$ 0.15)\n",
    "3. Tingkat signifikasi: $\\alpha$ = 0.05\n",
    "\n",
    "Daerah kritis $z < -z_{\\alpha_{/2}} \\lor z > z_{\\alpha_{/2}}$\n",
    "\n",
    "Terdapat 2010 instance/individu dalam populasi, sehingga bagian awal berjumlah 1005 instance dan bagian akhir berjumlah 1005 instance\n",
    "\n",
    "Uji hipotesis dilakukan dengan menghitung Z dari sampel bagian awal dan sampel bagian akhir\n",
    "\n",
    "$$ z = \\frac{(\\bar{x_{1}} - \\bar{x_{2}}) - d_{0}} {\\sqrt{\\sigma_{1}^{2}/n_{1} + \\sigma_{2}^{2}/n_{2}}}$$\n",
    "\n",
    "Z akan dibandingkan dengan daerah kritis yang telah ditentukan berdasarkan $\\alpha$\n",
    "\n",
    "Lalu, juga dilakukan test p value dengan membandingkan nilai probabilitas Z dengan nilai $\\alpha$\n",
    "\n",
    "Jika Z memasuki daerah kritis dan p value kurang dari $\\alpha$, maka dapat diambil kesimpulan H0 ditolak\n",
    "\n",
    "Jika Z di luar daerah kritis dan p value lebih dari $\\alpha$, maka H0 diterima"
   ]
  },
  {
   "cell_type": "markdown",
   "metadata": {},
   "source": [
    "4. uji statistik yang sesuai dan critical region"
   ]
  },
  {
   "cell_type": "code",
   "execution_count": null,
   "metadata": {},
   "outputs": [],
   "source": [
    "α = 0.05\n",
    "organicCarbonAwal = df[\"organic_carbon\"][:len(df)//2]\n",
    "nAwal5b = len(organicCarbonAwal)\n",
    "miuAwal5b = organicCarbonAwal.mean()\n",
    "sigmaAwal5b = organicCarbonAwal.std()\n",
    "\n",
    "organicCarbonAkhir = df[\"organic_carbon\"][len(df)//2:]\n",
    "nAkhir5b = len(organicCarbonAkhir)\n",
    "miuAkhir5b = organicCarbonAkhir.mean()\n",
    "sigmaAkhir5b = organicCarbonAkhir.std()\n",
    "\n",
    "fig, axs = plt.subplots(2, figsize=(8,12))\n",
    "\n",
    "organicCarbonAwal.plot.box(label = \"Organic Carbon bagian awal\", ax=axs[0])\n",
    "organicCarbonAkhir.plot.box(label = \"Organic Carbon bagian akhir\", ax=axs[1])\n",
    "plt.plot()"
   ]
  },
  {
   "cell_type": "markdown",
   "metadata": {},
   "source": [
    "5. uji statistik dari data sample dan p-value"
   ]
  },
  {
   "cell_type": "code",
   "execution_count": null,
   "metadata": {},
   "outputs": [],
   "source": [
    "d0 = 0.15\n",
    "z5b = ((miuAwal5b-miuAkhir5b)-d0)/np.sqrt((pow(sigmaAwal5b,2)/nAwal5b)+(pow(sigmaAkhir5b,2)/nAkhir5b))\n",
    "criticalValue5b = (stats.norm.ppf(1-α/2))\n",
    "if z5b < 0:\n",
    "  pValue5b = 2*(stats.norm.cdf(z5b))\n",
    "else:\n",
    "  pValue5b = 2*(stats.norm.sf(z5b))\n",
    "print(\"Nilai z adalah \" + str(z5b))\n",
    "print(\"Nilai p adalah \" + str(pValue5b))\n",
    "print(\"Nilai daerah kritis adalah \" + str(-criticalValue5b) + \" dan \" + str(criticalValue5b))"
   ]
  },
  {
   "cell_type": "markdown",
   "metadata": {},
   "source": [
    "6. keputusan: "
   ]
  },
  {
   "cell_type": "code",
   "execution_count": null,
   "metadata": {},
   "outputs": [],
   "source": [
    "if z5b > criticalValue5b or z5b < -criticalValue5b:\n",
    "    print(\"Z masuk dalam daerah kritis, H0 pasti ditolak\")\n",
    "else:\n",
    "    print(\"Z di luar daerah kritis, H0 mungkin diterima\")\n",
    "\n",
    "if pValue5a < α:\n",
    "    print(\"P value kurang dari alpha, H0 pasti ditolak\")\n",
    "else:\n",
    "    print(\"P value lebih dari alpha, H0 mungkin diterima\")\n",
    "\n",
    "if (z5b > criticalValue5b or z5b < -criticalValue5b) or (pValue5b < α):\n",
    "    print(\"Karena salah satu syarat ditolak, maka kesimpulannya H0 ditolak\")\n",
    "    print(\"Sehingga rata-rata bagian awal tidak lebih besar 0.15 dari bagian akhir\")\n",
    "else:\n",
    "    print(\"Karena kedua syarat terpenuhi, maka kesimpulannya H0 diterima\")\n",
    "    print(\"Sehingga rata-rata bagian awal lebih besar 0.15 dari bagian akhir\")"
   ]
  },
  {
   "cell_type": "markdown",
   "metadata": {},
   "source": [
    "c. Rata-rata 100 baris pertama kolom Chloramines sama dengan 100 baris terakhirnya? \n",
    "\n",
    "μ1 = rata-rata 100 baris pertama <br>\n",
    "μ2 = rata-rata 100 baris terakhir\n",
    "\n",
    "1. Hipotesis nol: H<sub>0</sub> =  (μ1 - μ2 = 0) <br>\n",
    "2. Hipotesis alternatif: H<sub>1</sub> =  (μ1 - μ2 $\\ne$ 0)\n",
    "3. Tingkat signifikasi: α = 0.05\n",
    "\n",
    "Daerah kritis $z < -z_{\\alpha_{/2}} \\lor z > z_{\\alpha_{/2}}$\n",
    "\n",
    "Terdapat 2010 instance/individu dalam populasi, sehingga bagian awal berjumlah 1005 instance dan bagian akhir berjumlah 1005 instance\n",
    "\n",
    "Uji hipotesis dilakukan dengan menghitung Z dari sampel sejumlah 100 pertama yang diambil dari populasi bagian awal dan 100 terakhir yang diambil dari bagian akhir\n",
    "\n",
    "$$ z = \\frac{(\\bar{x_{1}} - \\bar{x_{2}}) - d_{0}} {\\sqrt{\\sigma_{1}^{2}/n_{1} + \\sigma_{2}^{2}/n_{2}}}$$\n",
    "\n",
    "Z akan dibandingkan dengan daerah kritis yang telah ditentukan berdasarkan $\\alpha$\n",
    "\n",
    "Lalu, juga dilakukan test p value dengan membandingkan nilai probabilitas Z dengan nilai $\\alpha$\n",
    "\n",
    "Jika Z memasuki daerah kritis dan p value kurang dari $\\alpha$, maka dapat diambil kesimpulan H0 ditolak\n",
    "\n",
    "Jika Z di luar daerah kritis dan p value lebih dari $\\alpha$, maka H0 diterima"
   ]
  },
  {
   "cell_type": "markdown",
   "metadata": {},
   "source": [
    "4. uji statistik yang sesuai dan critical region"
   ]
  },
  {
   "cell_type": "code",
   "execution_count": null,
   "metadata": {},
   "outputs": [],
   "source": [
    "α = 0.05\n",
    "nAwal5c = 100\n",
    "chloraminesAwal = df[\"chloramines\"][:nAwal5c]\n",
    "miuAwal5c = chloraminesAwal.mean()\n",
    "sigmaAwal5c = chloraminesAwal.std()\n",
    "\n",
    "nAkhir5c = 100\n",
    "chloraminesAkhir = df[\"organic_carbon\"][len(df)-nAkhir5c:]\n",
    "miuAkhir5c = chloraminesAkhir.mean()\n",
    "sigmaAkhir5c = chloraminesAkhir.std()\n",
    "\n",
    "fig, axs = plt.subplots(2, figsize=(8,12))\n",
    "\n",
    "chloraminesAwal.plot.box(label = \"Chloramines 100 baris pertama\", ax=axs[0])\n",
    "chloraminesAkhir.plot.box(label = \"Chloramines 100 baris terakhir\", ax=axs[1])\n",
    "plt.plot()"
   ]
  },
  {
   "cell_type": "markdown",
   "metadata": {},
   "source": [
    "5. uji statistik dari data sample dan p-value"
   ]
  },
  {
   "cell_type": "code",
   "execution_count": null,
   "metadata": {},
   "outputs": [],
   "source": [
    "d0 = 0\n",
    "z5c = ((miuAwal5c-miuAkhir5c)-d0)/np.sqrt((pow(sigmaAwal5c,2)/nAwal5c)+(pow(sigmaAkhir5c,2)/nAkhir5c))\n",
    "criticalValue5c = (stats.norm.ppf(1-α/2))\n",
    "if z5c < 0:\n",
    "  pValue5c = 2*(stats.norm.cdf(z5c))\n",
    "else:\n",
    "  pValue5c = 2*(stats.norm.sf(z5c))\n",
    "print(\"Nilai z adalah \" + str(z5c))\n",
    "print(\"Nilai p adalah \" + str(pValue5c))\n",
    "print(\"Nilai daerah kritis adalah \" + str(-criticalValue5c) + \" dan \" + str(criticalValue5c))"
   ]
  },
  {
   "cell_type": "markdown",
   "metadata": {},
   "source": [
    "6. keputusan: "
   ]
  },
  {
   "cell_type": "code",
   "execution_count": null,
   "metadata": {},
   "outputs": [],
   "source": [
    "if z5c > criticalValue5c or z5c < -criticalValue5c:\n",
    "    print(\"Z masuk dalam daerah kritis, H0 pasti ditolak\")\n",
    "else:\n",
    "    print(\"Z di luar daerah kritis, H0 mungkin diterima\")\n",
    "\n",
    "if pValue5a < α:\n",
    "    print(\"P value kurang dari alpha, H0 pasti ditolak\")\n",
    "else:\n",
    "    print(\"P value lebih dari alpha, H0 mungkin diterima\")\n",
    "\n",
    "if (z5c > criticalValue5c or z5c < -criticalValue5c) or (pValue5c < α):\n",
    "    print(\"Karena salah satu syarat ditolak, maka kesimpulannya H0 ditolak\")\n",
    "    print(\"Sehingga rata-rata kedua bagian itu tidak sama\")\n",
    "else:\n",
    "    print(\"Karena kedua syarat terpenuhi, maka kesimpulannya H0 diterima\")\n",
    "    print(\"Sehingga rata-rata kedua bagian itu sama\")"
   ]
  },
  {
   "cell_type": "markdown",
   "metadata": {},
   "source": [
    "\n",
    "d. Proporsi nilai bagian awal Turbidity yang lebih dari 4, adalah lebih besar daripada, proporsi nilai yang sama di bagian akhir Turbidity? \n",
    "\n",
    "p1 = proporsi bagian awal <br>\n",
    "p2 = proporsi bagian akhir\n",
    "\n",
    "1. Hipotesis nol: H<sub>0</sub> = (p1 = p2) <br>\n",
    "2. Hipotesis alternatif: H<sub>1</sub> = (p1 > p2)\n",
    "3. Tingkat signifikasi: α = 0.05\n",
    "\n",
    "Daerah kritis $z > z_\\alpha$\n",
    "\n",
    "Terdapat 2010 instance/individu dalam populasi, sehingga bagian awal berjumlah 1005 instance dan bagian akhir berjumlah 1005 instance\n",
    "\n",
    "Uji hipotesis dilakukan dengan menghitung Z dari sampel bagian awal dan sampel bagian akhir\n",
    "\n",
    "$$ z = \\frac{\\hat{p_{1}}-\\hat{p_{2}}}{\\sqrt{\\hat{p}\\hat{q}(1/n_{1}+1/n_{2})}} $$\n",
    "\n",
    "Z akan dibandingkan dengan daerah kritis yang telah ditentukan berdasarkan $\\alpha$\n",
    "\n",
    "Lalu, juga dilakukan test p value dengan membandingkan nilai probabilitas Z dengan nilai $\\alpha$\n",
    "\n",
    "Jika Z memasuki daerah kritis dan p value kurang dari $\\alpha$, maka dapat diambil kesimpulan H0 ditolak\n",
    "\n",
    "Jika Z di luar daerah kritis dan p value lebih dari $\\alpha$, maka H0 diterima"
   ]
  },
  {
   "cell_type": "markdown",
   "metadata": {},
   "source": [
    "4. uji statistik yang sesuai dan critical region"
   ]
  },
  {
   "cell_type": "code",
   "execution_count": null,
   "metadata": {},
   "outputs": [],
   "source": [
    "α = 0.05\n",
    "turbidityAwal = df[\"turbidity\"][:len(df)//2]\n",
    "nAwal5d = len(turbidityAwal)\n",
    "sampleAwal5d = turbidityAwal[turbidityAwal > 4]\n",
    "xAwal5d = len(sampleAwal5d)\n",
    "pAwal5d = xAwal5d / nAwal5d\n",
    "\n",
    "turbidityAkhir = df[\"turbidity\"][len(df)//2:]\n",
    "nAkhir5d = len(turbidityAkhir)\n",
    "sampleAkhir5d = turbidityAkhir[turbidityAkhir > 4]\n",
    "xAkhir5d = len(sampleAkhir5d)\n",
    "pAkhir5d = xAkhir5d / nAkhir5d\n",
    "\n",
    "fig, axs = plt.subplots(2, 2, figsize=(8,12))\n",
    "\n",
    "turbidityAwal.plot.box(label = \"Turbidity bagian awal\", ax=axs[0,0])\n",
    "turbidityAkhir.plot.box(label = \"Turbidity bagian akhir\", ax=axs[0,1])\n",
    "sampleAwal5c.plot.box(label = \"Sampel Turbidity awal > 4\", ax=axs[1,0])\n",
    "sampleAkhir5c.plot.box(label = \"Sampel Turbidity akhir > 4\", ax=axs[1,1])\n",
    "plt.plot()"
   ]
  },
  {
   "cell_type": "markdown",
   "metadata": {},
   "source": [
    "5. uji statistik dari data sample dan p-value"
   ]
  },
  {
   "cell_type": "code",
   "execution_count": null,
   "metadata": {},
   "outputs": [],
   "source": [
    "criticalValue5d = stats.norm.ppf(1-α)\n",
    "p = (xAwal5d + xAkhir5d) / (nAwal5d + nAkhir5d)             # Probability Z\n",
    "q = 1-p                                                     # Probability non-Z\n",
    "z5d = (pAwal5d - pAkhir5d) / np.sqrt(p*q * (1/nAwal5d + 1/nAkhir5d))\n",
    "if z5d < 0:\n",
    "  pValue5d = (stats.norm.cdf(z5d))\n",
    "else:\n",
    "  pValue5d = (stats.norm.sf(z5d))\n",
    "\n",
    "print(\"Banyak Turbudity awal yang lebih dari 4 adalah \" + str(xAwal5d) + \" dari \" + str(nAwal5d))\n",
    "print(\"Banyak Turbudity akhir yang lebih dari 4 adalah \" + str(xAkhir5d) + \" dari \" + str(nAkhir5d))\n",
    "print(\"Proporsi bagian awal adalah \" + str(pAwal5d))\n",
    "print(\"Proporsi bagian akhir adalah \" + str(pAkhir5d))\n",
    "print(\"Proporsi gabungan adalah \" + str(p))\n",
    "print(\"Nilai daerah kritis adalah \" + str(criticalValue5d))\n",
    "print(\"Nilai z adalah \" + str(z5d))"
   ]
  },
  {
   "cell_type": "markdown",
   "metadata": {},
   "source": [
    "6. keputusan: "
   ]
  },
  {
   "cell_type": "code",
   "execution_count": null,
   "metadata": {},
   "outputs": [],
   "source": [
    "if z5d > criticalValue5d:\n",
    "    print(\"Z masuk dalam daerah kritis, H0 pasti ditolak\")\n",
    "else:\n",
    "    print(\"Z di luar daerah kritis, H0 mungkin diterima\")\n",
    "\n",
    "if pValue5d < α:\n",
    "    print(\"P value kurang dari alpha, H0 pasti ditolak\")\n",
    "else:\n",
    "    print(\"P value lebih dari alpha, H0 mungkin diterima\")\n",
    "\n",
    "if (z5d > criticalValue5d) or (pValue5d < α):\n",
    "    print(\"Karena salah satu syarat ditolak, maka kesimpulannya H0 ditolak\")\n",
    "    print(\"Sehingga proporsi bagian awal tidak lebih besar dari bagian akhir\")\n",
    "else:\n",
    "    print(\"Karena kedua syarat terpenuhi, maka kesimpulannya H0 diterima\")\n",
    "    print(\"Sehingga proporsi bagian awal lebih besar dari bagian akhir\")"
   ]
  },
  {
   "cell_type": "markdown",
   "metadata": {},
   "source": [
    "\n",
    "e. Bagian awal kolom Sulfate memiliki variansi yang sama dengan bagian akhirnya?\n",
    "1. Hipotesis nol: H<sub>0</sub> =  \n",
    "2. Hipotesis alternatif: H<sub>1</sub> ≠\n",
    "3. Tingkat signifikasi: α =\n",
    "4. uji statistik yang sesuai dan critical region\n",
    "5. uji statistik dari data sample dan p-value\n",
    "6. keputusan: "
   ]
  },
  {
   "cell_type": "markdown",
   "metadata": {},
   "source": [
    "### Tes Korelasi\n",
    "> setiap kolom nontarget akan dicari korelasinya dengan kolom target dengan menggambarkan scatter plotnya"
   ]
  },
  {
   "cell_type": "markdown",
   "metadata": {},
   "source": [
    "### Referensi syntax markdown \n",
    "[cheat sheet](https://www.markdownguide.org/cheat-sheet/)  \n",
    "[mathematics](https://rpruim.github.io/s341/S19/from-class/MathinRmd.html)\n"
   ]
  }
 ],
 "metadata": {
  "interpreter": {
   "hash": "40cf7a1061013614c60d9a89e6a9ad09253e16cd13af19a45f84172550acdad0"
  },
  "kernelspec": {
   "display_name": "Python 3.9.1 64-bit",
   "language": "python",
   "name": "python3"
  },
  "language_info": {
   "codemirror_mode": {
    "name": "ipython",
    "version": 3
   },
   "file_extension": ".py",
   "mimetype": "text/x-python",
   "name": "python",
   "nbconvert_exporter": "python",
   "pygments_lexer": "ipython3",
   "version": "3.9.6"
  },
  "orig_nbformat": 4
 },
 "nbformat": 4,
 "nbformat_minor": 2
}
