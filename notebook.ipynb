{
 "cells": [
  {
   "cell_type": "markdown",
   "metadata": {},
   "source": [
    "### Tugas Besar IF2220 Probabilitas dan Statistika\n",
    "# Penarikan Kesimpulan dan Pengujian Hipotesis\n",
    "\n",
    "> untuk setiap kolom numerik, akan diberikan informasi mengenai\n",
    "1. Deskripsi Statistika\n",
    "- mean\n",
    "- median\n",
    "- modus\n",
    "- standar deviasi\n",
    "- variansi\n",
    "- range\n",
    "- min\n",
    "- max\n",
    "- kuartil\n",
    "- IQR\n",
    "- skewness\n",
    "- kurtosis\n",
    "- dll\n",
    "\n",
    "2. Visualisasi plot distribusi\n",
    "- histogram\n",
    "- boxplot\n",
    "- penjelasan kondisi berdasarkan plot\n",
    "\n",
    "3. Normality test\n",
    "- apakah berdistribusi normal atau tidak"
   ]
  },
  {
   "cell_type": "code",
   "execution_count": 104,
   "metadata": {},
   "outputs": [
    {
     "data": {
      "text/html": [
       "<div>\n",
       "<style scoped>\n",
       "    .dataframe tbody tr th:only-of-type {\n",
       "        vertical-align: middle;\n",
       "    }\n",
       "\n",
       "    .dataframe tbody tr th {\n",
       "        vertical-align: top;\n",
       "    }\n",
       "\n",
       "    .dataframe thead th {\n",
       "        text-align: right;\n",
       "    }\n",
       "</style>\n",
       "<table border=\"1\" class=\"dataframe\">\n",
       "  <thead>\n",
       "    <tr style=\"text-align: right;\">\n",
       "      <th></th>\n",
       "      <th>pH</th>\n",
       "      <th>hardness</th>\n",
       "      <th>solids</th>\n",
       "      <th>chloramines</th>\n",
       "      <th>sulfate</th>\n",
       "      <th>conductivity</th>\n",
       "      <th>organic_carbon</th>\n",
       "      <th>trihalomethanes</th>\n",
       "      <th>turbidity</th>\n",
       "      <th>potability</th>\n",
       "    </tr>\n",
       "    <tr>\n",
       "      <th>id</th>\n",
       "      <th></th>\n",
       "      <th></th>\n",
       "      <th></th>\n",
       "      <th></th>\n",
       "      <th></th>\n",
       "      <th></th>\n",
       "      <th></th>\n",
       "      <th></th>\n",
       "      <th></th>\n",
       "      <th></th>\n",
       "    </tr>\n",
       "  </thead>\n",
       "  <tbody>\n",
       "    <tr>\n",
       "      <th>1</th>\n",
       "      <td>8.316766</td>\n",
       "      <td>214.373394</td>\n",
       "      <td>22018.417441</td>\n",
       "      <td>8.059332</td>\n",
       "      <td>356.886136</td>\n",
       "      <td>363.266516</td>\n",
       "      <td>18.436524</td>\n",
       "      <td>100.341674</td>\n",
       "      <td>4.628771</td>\n",
       "      <td>0</td>\n",
       "    </tr>\n",
       "    <tr>\n",
       "      <th>2</th>\n",
       "      <td>9.092223</td>\n",
       "      <td>181.101509</td>\n",
       "      <td>17978.986339</td>\n",
       "      <td>6.546600</td>\n",
       "      <td>310.135738</td>\n",
       "      <td>398.410813</td>\n",
       "      <td>11.558279</td>\n",
       "      <td>31.997993</td>\n",
       "      <td>4.075075</td>\n",
       "      <td>0</td>\n",
       "    </tr>\n",
       "    <tr>\n",
       "      <th>3</th>\n",
       "      <td>5.584087</td>\n",
       "      <td>188.313324</td>\n",
       "      <td>28748.687739</td>\n",
       "      <td>7.544869</td>\n",
       "      <td>326.678363</td>\n",
       "      <td>280.467916</td>\n",
       "      <td>8.399735</td>\n",
       "      <td>54.917862</td>\n",
       "      <td>2.559708</td>\n",
       "      <td>0</td>\n",
       "    </tr>\n",
       "    <tr>\n",
       "      <th>4</th>\n",
       "      <td>10.223862</td>\n",
       "      <td>248.071735</td>\n",
       "      <td>28749.716544</td>\n",
       "      <td>7.513408</td>\n",
       "      <td>393.663396</td>\n",
       "      <td>283.651634</td>\n",
       "      <td>13.789695</td>\n",
       "      <td>84.603556</td>\n",
       "      <td>2.672989</td>\n",
       "      <td>0</td>\n",
       "    </tr>\n",
       "    <tr>\n",
       "      <th>5</th>\n",
       "      <td>8.635849</td>\n",
       "      <td>203.361523</td>\n",
       "      <td>13672.091764</td>\n",
       "      <td>4.563009</td>\n",
       "      <td>303.309771</td>\n",
       "      <td>474.607645</td>\n",
       "      <td>12.363817</td>\n",
       "      <td>62.798309</td>\n",
       "      <td>4.401425</td>\n",
       "      <td>0</td>\n",
       "    </tr>\n",
       "  </tbody>\n",
       "</table>\n",
       "</div>"
      ],
      "text/plain": [
       "           pH    hardness        solids  chloramines     sulfate  \\\n",
       "id                                                                 \n",
       "1    8.316766  214.373394  22018.417441     8.059332  356.886136   \n",
       "2    9.092223  181.101509  17978.986339     6.546600  310.135738   \n",
       "3    5.584087  188.313324  28748.687739     7.544869  326.678363   \n",
       "4   10.223862  248.071735  28749.716544     7.513408  393.663396   \n",
       "5    8.635849  203.361523  13672.091764     4.563009  303.309771   \n",
       "\n",
       "    conductivity  organic_carbon  trihalomethanes  turbidity  potability  \n",
       "id                                                                        \n",
       "1     363.266516       18.436524       100.341674   4.628771           0  \n",
       "2     398.410813       11.558279        31.997993   4.075075           0  \n",
       "3     280.467916        8.399735        54.917862   2.559708           0  \n",
       "4     283.651634       13.789695        84.603556   2.672989           0  \n",
       "5     474.607645       12.363817        62.798309   4.401425           0  "
      ]
     },
     "execution_count": 104,
     "metadata": {},
     "output_type": "execute_result"
    }
   ],
   "source": [
    "# load\n",
    "import pandas as pd\n",
    "import seaborn as sns\n",
    "import numpy as np\n",
    "import matplotlib.pyplot as plt\n",
    "import scipy.stats as stats\n",
    "\n",
    "df = pd.read_csv('water_potability.csv', header=None) # header=None karena data ini tidak memiliki header\n",
    "df.columns = [\"id\", \"pH\", \"hardness\", \"solids\", \"chloramines\", \"sulfate\", \"conductivity\", \"organic_carbon\", \"trihalomethanes\", \"turbidity\", \"potability\"] # menambahkan nama kolom\n",
    "df.set_index('id', inplace=True) # inplace menggantikan data yang lama dengan data baru\n",
    "df.head()"
   ]
  },
  {
   "cell_type": "markdown",
   "metadata": {},
   "source": [
    "### pH"
   ]
  },
  {
   "cell_type": "markdown",
   "metadata": {},
   "source": [
    "Deskripsi Statistik"
   ]
  },
  {
   "cell_type": "code",
   "execution_count": 105,
   "metadata": {},
   "outputs": [
    {
     "data": {
      "text/plain": [
       "count            2010\n",
       "mean          7.08719\n",
       "std            1.5728\n",
       "min          0.227499\n",
       "25%           6.09079\n",
       "50%           7.02949\n",
       "75%           8.05301\n",
       "max                14\n",
       "median        7.02949\n",
       "mode         all same\n",
       "variansi      2.47371\n",
       "range         13.7725\n",
       "IQR           1.96222\n",
       "skewness    0.0485345\n",
       "kurtosis     0.626904\n",
       "Name: pH, dtype: object"
      ]
     },
     "execution_count": 105,
     "metadata": {},
     "output_type": "execute_result"
    }
   ],
   "source": [
    "# deskripsi statistik\n",
    "desc = df[\"pH\"].describe()\n",
    "desc.loc[\"median\"] = df[\"pH\"].median()\n",
    "if df[\"pH\"].mode().count() == df.shape[0]:\n",
    "    desc.loc[\"mode\"] = \"all same\"\n",
    "else:\n",
    "    desc.loc[\"modus\"] = df[\"pH\"].mode()\n",
    "desc.loc[\"variansi\"] = df[\"pH\"].var()\n",
    "desc.loc[\"range\"] = df[\"pH\"].max() - df[\"pH\"].min()\n",
    "desc.loc[\"IQR\"] = desc.loc[\"75%\"] - desc.loc[\"25%\"]\n",
    "desc.loc[\"skewness\"] = df[\"pH\"].skew()\n",
    "desc.loc[\"kurtosis\"] = df[\"pH\"].kurtosis()\n",
    "\n",
    "desc\n"
   ]
  },
  {
   "cell_type": "markdown",
   "metadata": {},
   "source": [
    "Visualisasi"
   ]
  },
  {
   "cell_type": "code",
   "execution_count": 106,
   "metadata": {},
   "outputs": [
    {
     "data": {
      "text/plain": [
       "<AxesSubplot:xlabel='pH', ylabel='Count'>"
      ]
     },
     "execution_count": 106,
     "metadata": {},
     "output_type": "execute_result"
    },
    {
     "data": {
      "image/png": "[encoded data removed]",
      "text/plain": [
       "<Figure size 432x288 with 1 Axes>"
      ]
     },
     "metadata": {
      "needs_background": "light"
     },
     "output_type": "display_data"
    }
   ],
   "source": [
    "# histogram\n",
    "sns.histplot(df[\"pH\"], kde=True) # kde=True menampilkan grafik kumulatif (garis tipis)"
   ]
  },
  {
   "cell_type": "code",
   "execution_count": 107,
   "metadata": {},
   "outputs": [
    {
     "data": {
      "text/plain": [
       "<AxesSubplot:>"
      ]
     },
     "execution_count": 107,
     "metadata": {},
     "output_type": "execute_result"
    },
    {
     "data": {
      "image/png": "[encoded data removed]",
      "text/plain": [
       "<Figure size 432x288 with 1 Axes>"
      ]
     },
     "metadata": {
      "needs_background": "light"
     },
     "output_type": "display_data"
    }
   ],
   "source": [
    "# boxplot\n",
    "df.boxplot(column=\"pH\")"
   ]
  },
  {
   "cell_type": "markdown",
   "metadata": {},
   "source": [
    "- Histogram  \n",
    "grafik terlihat seperti berdistribusi normal dengan nilai modus, median, dan mean yang sama sekitar tujuh\n",
    "\n",
    "- Boxplot  \n",
    "distribusi terlihat simetris, nilai rata rata = 7 diikuti dengan nilai kuartil 1 yang sama dengan 6 dan kuartil 3 sama dengan 8. Ini didukung dengan nilai skewed yang mendekati nol. Outlier cenderung lebih menyebar di luar sisi minimum."
   ]
  },
  {
   "cell_type": "markdown",
   "metadata": {},
   "source": [
    "Normality test"
   ]
  },
  {
   "cell_type": "code",
   "execution_count": 108,
   "metadata": {},
   "outputs": [
    {
     "name": "stdout",
     "output_type": "stream",
     "text": [
      "pH is not normal\n"
     ]
    }
   ],
   "source": [
    "# statistical tests\n",
    "\n",
    "stat, p = stats.normaltest(df[\"pH\"])\n",
    "if p < 0.05: # p < 0.05 menunjukkan bahwa data tidak normal\n",
    "    print(\"pH is not normal\")\n",
    "else:\n",
    "    print(\"pH is normal\")"
   ]
  },
  {
   "cell_type": "markdown",
   "metadata": {},
   "source": [
    "Graphical methods  \n",
    "Dengan melihat pada histogram pH, sekilas dapat kita ketahui grafik membentuk distribusi normal. Data pH memenuhi rata rata = modus = mean, yaitu sekitar 7. Kurva juga terlihat berbentuk simetri terhadap sumbu tegak pada x = $\\mu$ dan secara asimtotik, kurva mendekati sumbu datar ke arah kiri dan kanan yang juga berawal dari $\\mu$."
   ]
  },
  {
   "cell_type": "markdown",
   "metadata": {},
   "source": [
    "### hardness"
   ]
  },
  {
   "cell_type": "markdown",
   "metadata": {},
   "source": [
    "Deskripsi Statistik"
   ]
  },
  {
   "cell_type": "code",
   "execution_count": 109,
   "metadata": {},
   "outputs": [
    {
     "data": {
      "text/plain": [
       "count           2010\n",
       "mean         195.969\n",
       "std          32.6432\n",
       "min          73.4922\n",
       "25%          176.741\n",
       "50%          197.204\n",
       "75%          216.448\n",
       "max          317.338\n",
       "median       197.204\n",
       "mode        all same\n",
       "variansi     1065.58\n",
       "range        243.846\n",
       "IQR          39.7069\n",
       "skewness   -0.085321\n",
       "kurtosis     0.52548\n",
       "Name: hardness, dtype: object"
      ]
     },
     "execution_count": 109,
     "metadata": {},
     "output_type": "execute_result"
    }
   ],
   "source": [
    "# deskripsi statistik\n",
    "desc = df[\"hardness\"].describe()\n",
    "desc.loc[\"median\"] = df[\"hardness\"].median()\n",
    "if df[\"hardness\"].mode().count() == df.shape[0]:\n",
    "    desc.loc[\"mode\"] = \"all same\"\n",
    "else:\n",
    "    desc.loc[\"modus\"] = df[\"hardness\"].mode()\n",
    "desc.loc[\"variansi\"] = df[\"hardness\"].var()\n",
    "desc.loc[\"range\"] = df[\"hardness\"].max() - df[\"hardness\"].min()\n",
    "desc.loc[\"IQR\"] = desc.loc[\"75%\"] - desc.loc[\"25%\"]\n",
    "desc.loc[\"skewness\"] = df[\"hardness\"].skew()\n",
    "desc.loc[\"kurtosis\"] = df[\"hardness\"].kurtosis()\n",
    "\n",
    "desc\n"
   ]
  },
  {
   "cell_type": "markdown",
   "metadata": {},
   "source": [
    "Visualisasi"
   ]
  },
  {
   "cell_type": "code",
   "execution_count": 110,
   "metadata": {},
   "outputs": [
    {
     "data": {
      "text/plain": [
       "<AxesSubplot:xlabel='hardness', ylabel='Count'>"
      ]
     },
     "execution_count": 110,
     "metadata": {},
     "output_type": "execute_result"
    },
    {
     "data": {
      "image/png": "[encoded data removed]",
      "text/plain": [
       "<Figure size 432x288 with 1 Axes>"
      ]
     },
     "metadata": {
      "needs_background": "light"
     },
     "output_type": "display_data"
    }
   ],
   "source": [
    "# histogram\n",
    "sns.histplot(df[\"hardness\"], kde=True) # kde=True menampilkan grafik kumulatif (garis tipis)"
   ]
  },
  {
   "cell_type": "code",
   "execution_count": 111,
   "metadata": {},
   "outputs": [
    {
     "data": {
      "text/plain": [
       "<AxesSubplot:>"
      ]
     },
     "execution_count": 111,
     "metadata": {},
     "output_type": "execute_result"
    },
    {
     "data": {
      "image/png": "[encoded data removed]",
      "text/plain": [
       "<Figure size 432x288 with 1 Axes>"
      ]
     },
     "metadata": {
      "needs_background": "light"
     },
     "output_type": "display_data"
    }
   ],
   "source": [
    "# boxplot\n",
    "df.boxplot(column=\"hardness\")"
   ]
  },
  {
   "cell_type": "markdown",
   "metadata": {},
   "source": [
    "- Histogram  \n",
    "[tulis di sini]\n",
    "\n",
    "- Boxplot  \n",
    "[tulis di sini]"
   ]
  },
  {
   "cell_type": "markdown",
   "metadata": {},
   "source": [
    "Normality test"
   ]
  },
  {
   "cell_type": "code",
   "execution_count": 112,
   "metadata": {},
   "outputs": [
    {
     "name": "stdout",
     "output_type": "stream",
     "text": [
      "hardness is not normal\n"
     ]
    }
   ],
   "source": [
    "# statistical tests\n",
    "\n",
    "stat, p = stats.normaltest(df[\"hardness\"])\n",
    "if p < 0.05: # p < 0.05 menunjukkan bahwa data tidak normal\n",
    "    print(\"hardness is not normal\")\n",
    "else:\n",
    "    print(\"hardness is normal\")"
   ]
  },
  {
   "cell_type": "markdown",
   "metadata": {},
   "source": [
    "Graphical methods  \n",
    "[tulis di sini]"
   ]
  },
  {
   "cell_type": "markdown",
   "metadata": {},
   "source": [
    "### solids"
   ]
  },
  {
   "cell_type": "markdown",
   "metadata": {},
   "source": [
    "Deskripsi Statistik"
   ]
  },
  {
   "cell_type": "code",
   "execution_count": 113,
   "metadata": {},
   "outputs": [
    {
     "data": {
      "text/plain": [
       "count              2010\n",
       "mean            21904.7\n",
       "std              8625.4\n",
       "min             320.943\n",
       "25%             15614.4\n",
       "50%             20926.9\n",
       "75%             27170.5\n",
       "max             56488.7\n",
       "median          20926.9\n",
       "mode           all same\n",
       "variansi    7.43975e+07\n",
       "range           56167.7\n",
       "IQR             11556.1\n",
       "skewness       0.591011\n",
       "kurtosis        0.33732\n",
       "Name: solids, dtype: object"
      ]
     },
     "execution_count": 113,
     "metadata": {},
     "output_type": "execute_result"
    }
   ],
   "source": [
    "# deskripsi statistik\n",
    "desc = df[\"solids\"].describe()\n",
    "desc.loc[\"median\"] = df[\"solids\"].median()\n",
    "if df[\"solids\"].mode().count() == df.shape[0]:\n",
    "    desc.loc[\"mode\"] = \"all same\"\n",
    "else:\n",
    "    desc.loc[\"modus\"] = df[\"solids\"].mode()\n",
    "desc.loc[\"variansi\"] = df[\"solids\"].var()\n",
    "desc.loc[\"range\"] = df[\"solids\"].max() - df[\"solids\"].min()\n",
    "desc.loc[\"IQR\"] = desc.loc[\"75%\"] - desc.loc[\"25%\"]\n",
    "desc.loc[\"skewness\"] = df[\"solids\"].skew()\n",
    "desc.loc[\"kurtosis\"] = df[\"solids\"].kurtosis()\n",
    "\n",
    "desc\n"
   ]
  },
  {
   "cell_type": "markdown",
   "metadata": {},
   "source": [
    "Visualisasi"
   ]
  },
  {
   "cell_type": "code",
   "execution_count": 114,
   "metadata": {},
   "outputs": [
    {
     "data": {
      "text/plain": [
       "<AxesSubplot:xlabel='solids', ylabel='Count'>"
      ]
     },
     "execution_count": 114,
     "metadata": {},
     "output_type": "execute_result"
    },
    {
     "data": {
      "image/png": "[encoded data removed]",
      "text/plain": [
       "<Figure size 432x288 with 1 Axes>"
      ]
     },
     "metadata": {
      "needs_background": "light"
     },
     "output_type": "display_data"
    }
   ],
   "source": [
    "# histogram\n",
    "sns.histplot(df[\"solids\"], kde=True) # kde=True menampilkan grafik kumulatif (garis tipis)"
   ]
  },
  {
   "cell_type": "code",
   "execution_count": 115,
   "metadata": {},
   "outputs": [
    {
     "data": {
      "text/plain": [
       "<AxesSubplot:>"
      ]
     },
     "execution_count": 115,
     "metadata": {},
     "output_type": "execute_result"
    },
    {
     "data": {
      "image/png": "[encoded data removed]",
      "text/plain": [
       "<Figure size 432x288 with 1 Axes>"
      ]
     },
     "metadata": {
      "needs_background": "light"
     },
     "output_type": "display_data"
    }
   ],
   "source": [
    "# boxplot\n",
    "df.boxplot(column=\"solids\")"
   ]
  },
  {
   "cell_type": "markdown",
   "metadata": {},
   "source": [
    "- Histogram  \n",
    "[tulis di sini]\n",
    "\n",
    "- Boxplot  \n",
    "[tulis di sini]"
   ]
  },
  {
   "cell_type": "markdown",
   "metadata": {},
   "source": [
    "Normality test"
   ]
  },
  {
   "cell_type": "code",
   "execution_count": 116,
   "metadata": {},
   "outputs": [
    {
     "name": "stdout",
     "output_type": "stream",
     "text": [
      "solids is not normal\n"
     ]
    }
   ],
   "source": [
    "# statistical tests\n",
    "\n",
    "stat, p = stats.normaltest(df[\"solids\"])\n",
    "if p < 0.05: # p < 0.05 menunjukkan bahwa data tidak normal\n",
    "    print(\"solids is not normal\")\n",
    "else:\n",
    "    print(\"solids is normal\")"
   ]
  },
  {
   "cell_type": "markdown",
   "metadata": {},
   "source": [
    "Graphical methods  \n",
    "[tulis di sini]"
   ]
  },
  {
   "cell_type": "markdown",
   "metadata": {},
   "source": [
    "### chloramines"
   ]
  },
  {
   "cell_type": "markdown",
   "metadata": {},
   "source": [
    "Deskripsi Statistik"
   ]
  },
  {
   "cell_type": "code",
   "execution_count": 117,
   "metadata": {},
   "outputs": [
    {
     "data": {
      "text/plain": [
       "count            2010\n",
       "mean          7.13432\n",
       "std           1.58521\n",
       "min           1.39087\n",
       "25%           6.13833\n",
       "50%           7.14201\n",
       "75%           8.10993\n",
       "max            13.127\n",
       "median        7.14201\n",
       "mode         all same\n",
       "variansi       2.5129\n",
       "range         11.7361\n",
       "IQR           1.97161\n",
       "skewness    0.0130035\n",
       "kurtosis     0.549782\n",
       "Name: chloramines, dtype: object"
      ]
     },
     "execution_count": 117,
     "metadata": {},
     "output_type": "execute_result"
    }
   ],
   "source": [
    "# deskripsi statistik\n",
    "desc = df[\"chloramines\"].describe()\n",
    "desc.loc[\"median\"] = df[\"chloramines\"].median()\n",
    "if df[\"chloramines\"].mode().count() == df.shape[0]:\n",
    "    desc.loc[\"mode\"] = \"all same\"\n",
    "else:\n",
    "    desc.loc[\"modus\"] = df[\"chloramines\"].mode()\n",
    "desc.loc[\"variansi\"] = df[\"chloramines\"].var()\n",
    "desc.loc[\"range\"] = df[\"chloramines\"].max() - df[\"chloramines\"].min()\n",
    "desc.loc[\"IQR\"] = desc.loc[\"75%\"] - desc.loc[\"25%\"]\n",
    "desc.loc[\"skewness\"] = df[\"chloramines\"].skew()\n",
    "desc.loc[\"kurtosis\"] = df[\"chloramines\"].kurtosis()\n",
    "\n",
    "desc\n"
   ]
  },
  {
   "cell_type": "markdown",
   "metadata": {},
   "source": [
    "Visualisasi"
   ]
  },
  {
   "cell_type": "code",
   "execution_count": 118,
   "metadata": {},
   "outputs": [
    {
     "data": {
      "text/plain": [
       "<AxesSubplot:xlabel='chloramines', ylabel='Count'>"
      ]
     },
     "execution_count": 118,
     "metadata": {},
     "output_type": "execute_result"
    },
    {
     "data": {
      "image/png": "[encoded data removed]",
      "text/plain": [
       "<Figure size 432x288 with 1 Axes>"
      ]
     },
     "metadata": {
      "needs_background": "light"
     },
     "output_type": "display_data"
    }
   ],
   "source": [
    "# histogram\n",
    "sns.histplot(df[\"chloramines\"], kde=True) # kde=True menampilkan grafik kumulatif (garis tipis)"
   ]
  },
  {
   "cell_type": "code",
   "execution_count": 119,
   "metadata": {},
   "outputs": [
    {
     "data": {
      "text/plain": [
       "<AxesSubplot:>"
      ]
     },
     "execution_count": 119,
     "metadata": {},
     "output_type": "execute_result"
    },
    {
     "data": {
      "image/png": "[encoded data removed]",
      "text/plain": [
       "<Figure size 432x288 with 1 Axes>"
      ]
     },
     "metadata": {
      "needs_background": "light"
     },
     "output_type": "display_data"
    }
   ],
   "source": [
    "# boxplot\n",
    "df.boxplot(column=\"chloramines\")"
   ]
  },
  {
   "cell_type": "markdown",
   "metadata": {},
   "source": [
    "- Histogram  \n",
    "[tulis di sini]\n",
    "\n",
    "- Boxplot  \n",
    "[tulis di sini]"
   ]
  },
  {
   "cell_type": "markdown",
   "metadata": {},
   "source": [
    "Normality test"
   ]
  },
  {
   "cell_type": "code",
   "execution_count": 120,
   "metadata": {},
   "outputs": [
    {
     "name": "stdout",
     "output_type": "stream",
     "text": [
      "chloramines is not normal\n"
     ]
    }
   ],
   "source": [
    "# statistical tests\n",
    "\n",
    "stat, p = stats.normaltest(df[\"chloramines\"])\n",
    "if p < 0.05: # p < 0.05 menunjukkan bahwa data tidak normal\n",
    "    print(\"chloramines is not normal\")\n",
    "else:\n",
    "    print(\"chloramines is normal\")"
   ]
  },
  {
   "cell_type": "markdown",
   "metadata": {},
   "source": [
    "Graphical methods  \n",
    "[tulis di sini]"
   ]
  },
  {
   "cell_type": "markdown",
   "metadata": {},
   "source": [
    "### sulfate"
   ]
  },
  {
   "cell_type": "markdown",
   "metadata": {},
   "source": [
    "Deskripsi Statistik"
   ]
  },
  {
   "cell_type": "code",
   "execution_count": 121,
   "metadata": {},
   "outputs": [
    {
     "data": {
      "text/plain": [
       "count            2010\n",
       "mean          333.211\n",
       "std           41.2111\n",
       "min               129\n",
       "25%           307.627\n",
       "50%           332.214\n",
       "75%           359.268\n",
       "max           481.031\n",
       "median        332.214\n",
       "mode         all same\n",
       "variansi      1698.36\n",
       "range         352.031\n",
       "IQR           51.6412\n",
       "skewness   -0.0457278\n",
       "kurtosis     0.786854\n",
       "Name: sulfate, dtype: object"
      ]
     },
     "execution_count": 121,
     "metadata": {},
     "output_type": "execute_result"
    }
   ],
   "source": [
    "# deskripsi statistik\n",
    "desc = df[\"sulfate\"].describe()\n",
    "desc.loc[\"median\"] = df[\"sulfate\"].median()\n",
    "if df[\"sulfate\"].mode().count() == df.shape[0]:\n",
    "    desc.loc[\"mode\"] = \"all same\"\n",
    "else:\n",
    "    desc.loc[\"modus\"] = df[\"sulfate\"].mode()\n",
    "desc.loc[\"variansi\"] = df[\"sulfate\"].var()\n",
    "desc.loc[\"range\"] = df[\"sulfate\"].max() - df[\"sulfate\"].min()\n",
    "desc.loc[\"IQR\"] = desc.loc[\"75%\"] - desc.loc[\"25%\"]\n",
    "desc.loc[\"skewness\"] = df[\"sulfate\"].skew()\n",
    "desc.loc[\"kurtosis\"] = df[\"sulfate\"].kurtosis()\n",
    "\n",
    "desc\n"
   ]
  },
  {
   "cell_type": "markdown",
   "metadata": {},
   "source": [
    "Visualisasi"
   ]
  },
  {
   "cell_type": "code",
   "execution_count": 122,
   "metadata": {},
   "outputs": [
    {
     "data": {
      "text/plain": [
       "<AxesSubplot:xlabel='sulfate', ylabel='Count'>"
      ]
     },
     "execution_count": 122,
     "metadata": {},
     "output_type": "execute_result"
    },
    {
     "data": {
      "image/png": "[encoded data removed]",
      "text/plain": [
       "<Figure size 432x288 with 1 Axes>"
      ]
     },
     "metadata": {
      "needs_background": "light"
     },
     "output_type": "display_data"
    }
   ],
   "source": [
    "# histogram\n",
    "sns.histplot(df[\"sulfate\"], kde=True) # kde=True menampilkan grafik kumulatif (garis tipis)"
   ]
  },
  {
   "cell_type": "code",
   "execution_count": 123,
   "metadata": {},
   "outputs": [
    {
     "data": {
      "text/plain": [
       "<AxesSubplot:>"
      ]
     },
     "execution_count": 123,
     "metadata": {},
     "output_type": "execute_result"
    },
    {
     "data": {
      "image/png": "[encoded data removed]",
      "text/plain": [
       "<Figure size 432x288 with 1 Axes>"
      ]
     },
     "metadata": {
      "needs_background": "light"
     },
     "output_type": "display_data"
    }
   ],
   "source": [
    "# boxplot\n",
    "df.boxplot(column=\"sulfate\")"
   ]
  },
  {
   "cell_type": "markdown",
   "metadata": {},
   "source": [
    "- Histogram  \n",
    "[tulis di sini]\n",
    "\n",
    "- Boxplot  \n",
    "[tulis di sini]"
   ]
  },
  {
   "cell_type": "markdown",
   "metadata": {},
   "source": [
    "Normality test"
   ]
  },
  {
   "cell_type": "code",
   "execution_count": 124,
   "metadata": {},
   "outputs": [
    {
     "name": "stdout",
     "output_type": "stream",
     "text": [
      "sulfate is not normal\n"
     ]
    }
   ],
   "source": [
    "# statistical tests\n",
    "\n",
    "stat, p = stats.normaltest(df[\"sulfate\"])\n",
    "if p < 0.05: # p < 0.05 menunjukkan bahwa data tidak normal\n",
    "    print(\"sulfate is not normal\")\n",
    "else:\n",
    "    print(\"sulfate is normal\")"
   ]
  },
  {
   "cell_type": "markdown",
   "metadata": {},
   "source": [
    "Graphical methods  \n",
    "[tulis di sini]"
   ]
  },
  {
   "cell_type": "markdown",
   "metadata": {},
   "source": [
    "### conductivity"
   ]
  },
  {
   "cell_type": "markdown",
   "metadata": {},
   "source": [
    "Deskripsi Statistik"
   ]
  },
  {
   "cell_type": "code",
   "execution_count": 125,
   "metadata": {},
   "outputs": [
    {
     "data": {
      "text/plain": [
       "count              2010\n",
       "mean            21904.7\n",
       "std              8625.4\n",
       "min             320.943\n",
       "25%             15614.4\n",
       "50%             20926.9\n",
       "75%             27170.5\n",
       "max             56488.7\n",
       "median          20926.9\n",
       "mode           all same\n",
       "variansi    7.43975e+07\n",
       "range           56167.7\n",
       "IQR             11556.1\n",
       "skewness       0.591011\n",
       "kurtosis        0.33732\n",
       "Name: solids, dtype: object"
      ]
     },
     "execution_count": 125,
     "metadata": {},
     "output_type": "execute_result"
    }
   ],
   "source": [
    "# deskripsi statistik\n",
    "desc = df[\"solids\"].describe()\n",
    "desc.loc[\"median\"] = df[\"solids\"].median()\n",
    "if df[\"solids\"].mode().count() == df.shape[0]:\n",
    "    desc.loc[\"mode\"] = \"all same\"\n",
    "else:\n",
    "    desc.loc[\"modus\"] = df[\"solids\"].mode()\n",
    "desc.loc[\"variansi\"] = df[\"solids\"].var()\n",
    "desc.loc[\"range\"] = df[\"solids\"].max() - df[\"solids\"].min()\n",
    "desc.loc[\"IQR\"] = desc.loc[\"75%\"] - desc.loc[\"25%\"]\n",
    "desc.loc[\"skewness\"] = df[\"solids\"].skew()\n",
    "desc.loc[\"kurtosis\"] = df[\"solids\"].kurtosis()\n",
    "\n",
    "desc\n"
   ]
  },
  {
   "cell_type": "markdown",
   "metadata": {},
   "source": [
    "Visualisasi"
   ]
  },
  {
   "cell_type": "code",
   "execution_count": 126,
   "metadata": {},
   "outputs": [
    {
     "data": {
      "text/plain": [
       "<AxesSubplot:xlabel='solids', ylabel='Count'>"
      ]
     },
     "execution_count": 126,
     "metadata": {},
     "output_type": "execute_result"
    },
    {
     "data": {
      "image/png": "[encoded data removed]",
      "text/plain": [
       "<Figure size 432x288 with 1 Axes>"
      ]
     },
     "metadata": {
      "needs_background": "light"
     },
     "output_type": "display_data"
    }
   ],
   "source": [
    "# histogram\n",
    "sns.histplot(df[\"solids\"], kde=True) # kde=True menampilkan grafik kumulatif (garis tipis)"
   ]
  },
  {
   "cell_type": "code",
   "execution_count": 127,
   "metadata": {},
   "outputs": [
    {
     "data": {
      "text/plain": [
       "<AxesSubplot:>"
      ]
     },
     "execution_count": 127,
     "metadata": {},
     "output_type": "execute_result"
    },
    {
     "data": {
      "image/png": "[encoded data removed]",
      "text/plain": [
       "<Figure size 432x288 with 1 Axes>"
      ]
     },
     "metadata": {
      "needs_background": "light"
     },
     "output_type": "display_data"
    }
   ],
   "source": [
    "# boxplot\n",
    "df.boxplot(column=\"solids\")"
   ]
  },
  {
   "cell_type": "markdown",
   "metadata": {},
   "source": [
    "- Histogram  \n",
    "[tulis di sini]\n",
    "\n",
    "- Boxplot  \n",
    "[tulis di sini]"
   ]
  },
  {
   "cell_type": "markdown",
   "metadata": {},
   "source": [
    "Normality test"
   ]
  },
  {
   "cell_type": "code",
   "execution_count": 128,
   "metadata": {},
   "outputs": [
    {
     "name": "stdout",
     "output_type": "stream",
     "text": [
      "solids is not normal\n"
     ]
    }
   ],
   "source": [
    "# statistical tests\n",
    "\n",
    "stat, p = stats.normaltest(df[\"solids\"])\n",
    "if p < 0.05: # p < 0.05 menunjukkan bahwa data tidak normal\n",
    "    print(\"solids is not normal\")\n",
    "else:\n",
    "    print(\"solids is normal\")"
   ]
  },
  {
   "cell_type": "markdown",
   "metadata": {},
   "source": [
    "Graphical methods  \n",
    "[tulis di sini]"
   ]
  },
  {
   "cell_type": "markdown",
   "metadata": {},
   "source": [
    "### organic_carbon"
   ]
  },
  {
   "cell_type": "markdown",
   "metadata": {},
   "source": [
    "Deskripsi Statistik"
   ]
  },
  {
   "cell_type": "code",
   "execution_count": 129,
   "metadata": {},
   "outputs": [
    {
     "data": {
      "text/plain": [
       "count            2010\n",
       "mean          14.3579\n",
       "std           3.32577\n",
       "min               2.2\n",
       "25%           12.1225\n",
       "50%           14.3233\n",
       "75%           16.6836\n",
       "max           27.0067\n",
       "median        14.3233\n",
       "mode         all same\n",
       "variansi      11.0607\n",
       "range         24.8067\n",
       "IQR           4.56103\n",
       "skewness   -0.0202198\n",
       "kurtosis    0.0310184\n",
       "Name: organic_carbon, dtype: object"
      ]
     },
     "execution_count": 129,
     "metadata": {},
     "output_type": "execute_result"
    }
   ],
   "source": [
    "# deskripsi statistik\n",
    "desc = df[\"organic_carbon\"].describe()\n",
    "desc.loc[\"median\"] = df[\"organic_carbon\"].median()\n",
    "if df[\"organic_carbon\"].mode().count() == df.shape[0]:\n",
    "    desc.loc[\"mode\"] = \"all same\"\n",
    "else:\n",
    "    desc.loc[\"modus\"] = df[\"organic_carbon\"].mode()\n",
    "desc.loc[\"variansi\"] = df[\"organic_carbon\"].var()\n",
    "desc.loc[\"range\"] = df[\"organic_carbon\"].max() - df[\"organic_carbon\"].min()\n",
    "desc.loc[\"IQR\"] = desc.loc[\"75%\"] - desc.loc[\"25%\"]\n",
    "desc.loc[\"skewness\"] = df[\"organic_carbon\"].skew()\n",
    "desc.loc[\"kurtosis\"] = df[\"organic_carbon\"].kurtosis()\n",
    "\n",
    "desc\n"
   ]
  },
  {
   "cell_type": "markdown",
   "metadata": {},
   "source": [
    "Visualisasi"
   ]
  },
  {
   "cell_type": "code",
   "execution_count": 130,
   "metadata": {},
   "outputs": [
    {
     "data": {
      "text/plain": [
       "<AxesSubplot:xlabel='organic_carbon', ylabel='Count'>"
      ]
     },
     "execution_count": 130,
     "metadata": {},
     "output_type": "execute_result"
    },
    {
     "data": {
      "image/png": "[encoded data removed]",
      "text/plain": [
       "<Figure size 432x288 with 1 Axes>"
      ]
     },
     "metadata": {
      "needs_background": "light"
     },
     "output_type": "display_data"
    }
   ],
   "source": [
    "# histogram\n",
    "sns.histplot(df[\"organic_carbon\"], kde=True) # kde=True menampilkan grafik kumulatif (garis tipis)"
   ]
  },
  {
   "cell_type": "code",
   "execution_count": 131,
   "metadata": {},
   "outputs": [
    {
     "data": {
      "text/plain": [
       "<AxesSubplot:>"
      ]
     },
     "execution_count": 131,
     "metadata": {},
     "output_type": "execute_result"
    },
    {
     "data": {
      "image/png": "[encoded data removed]",
      "text/plain": [
       "<Figure size 432x288 with 1 Axes>"
      ]
     },
     "metadata": {
      "needs_background": "light"
     },
     "output_type": "display_data"
    }
   ],
   "source": [
    "# boxplot\n",
    "df.boxplot(column=\"organic_carbon\")"
   ]
  },
  {
   "cell_type": "markdown",
   "metadata": {},
   "source": [
    "- Histogram  \n",
    "[tulis di sini]\n",
    "\n",
    "- Boxplot  \n",
    "[tulis di sini]"
   ]
  },
  {
   "cell_type": "markdown",
   "metadata": {},
   "source": [
    "Normality test"
   ]
  },
  {
   "cell_type": "code",
   "execution_count": 132,
   "metadata": {},
   "outputs": [
    {
     "name": "stdout",
     "output_type": "stream",
     "text": [
      "organic_carbon is normal\n"
     ]
    }
   ],
   "source": [
    "# statistical tests\n",
    "\n",
    "stat, p = stats.normaltest(df[\"organic_carbon\"])\n",
    "if p < 0.05: # p < 0.05 menunjukkan bahwa data tidak normal\n",
    "    print(\"organic_carbon is not normal\")\n",
    "else:\n",
    "    print(\"organic_carbon is normal\")"
   ]
  },
  {
   "cell_type": "markdown",
   "metadata": {},
   "source": [
    "Graphical methods  \n",
    "[tulis di sini]"
   ]
  },
  {
   "cell_type": "markdown",
   "metadata": {},
   "source": [
    "### trihalomethanes"
   ]
  },
  {
   "cell_type": "markdown",
   "metadata": {},
   "source": [
    "Deskripsi Statistik"
   ]
  },
  {
   "cell_type": "code",
   "execution_count": 133,
   "metadata": {},
   "outputs": [
    {
     "data": {
      "text/plain": [
       "count            2010\n",
       "mean          66.4007\n",
       "std           16.0811\n",
       "min           8.57701\n",
       "25%             55.95\n",
       "50%            66.482\n",
       "75%           77.2946\n",
       "max               124\n",
       "median         66.482\n",
       "mode         all same\n",
       "variansi      258.602\n",
       "range         115.423\n",
       "IQR           21.3446\n",
       "skewness   -0.0513827\n",
       "kurtosis     0.223017\n",
       "Name: trihalomethanes, dtype: object"
      ]
     },
     "execution_count": 133,
     "metadata": {},
     "output_type": "execute_result"
    }
   ],
   "source": [
    "# deskripsi statistik\n",
    "desc = df[\"trihalomethanes\"].describe()\n",
    "desc.loc[\"median\"] = df[\"trihalomethanes\"].median()\n",
    "if df[\"trihalomethanes\"].mode().count() == df.shape[0]:\n",
    "    desc.loc[\"mode\"] = \"all same\"\n",
    "else:\n",
    "    desc.loc[\"modus\"] = df[\"trihalomethanes\"].mode()\n",
    "desc.loc[\"variansi\"] = df[\"trihalomethanes\"].var()\n",
    "desc.loc[\"range\"] = df[\"trihalomethanes\"].max() - df[\"trihalomethanes\"].min()\n",
    "desc.loc[\"IQR\"] = desc.loc[\"75%\"] - desc.loc[\"25%\"]\n",
    "desc.loc[\"skewness\"] = df[\"trihalomethanes\"].skew()\n",
    "desc.loc[\"kurtosis\"] = df[\"trihalomethanes\"].kurtosis()\n",
    "\n",
    "desc\n"
   ]
  },
  {
   "cell_type": "markdown",
   "metadata": {},
   "source": [
    "Visualisasi"
   ]
  },
  {
   "cell_type": "code",
   "execution_count": 134,
   "metadata": {},
   "outputs": [
    {
     "data": {
      "text/plain": [
       "<AxesSubplot:xlabel='trihalomethanes', ylabel='Count'>"
      ]
     },
     "execution_count": 134,
     "metadata": {},
     "output_type": "execute_result"
    },
    {
     "data": {
      "image/png": "[encoded data removed]",
      "text/plain": [
       "<Figure size 432x288 with 1 Axes>"
      ]
     },
     "metadata": {
      "needs_background": "light"
     },
     "output_type": "display_data"
    }
   ],
   "source": [
    "# histogram\n",
    "sns.histplot(df[\"trihalomethanes\"], kde=True) # kde=True menampilkan grafik kumulatif (garis tipis)"
   ]
  },
  {
   "cell_type": "code",
   "execution_count": 135,
   "metadata": {},
   "outputs": [
    {
     "data": {
      "text/plain": [
       "<AxesSubplot:>"
      ]
     },
     "execution_count": 135,
     "metadata": {},
     "output_type": "execute_result"
    },
    {
     "data": {
      "image/png": "[encoded data removed]",
      "text/plain": [
       "<Figure size 432x288 with 1 Axes>"
      ]
     },
     "metadata": {
      "needs_background": "light"
     },
     "output_type": "display_data"
    }
   ],
   "source": [
    "# boxplot\n",
    "df.boxplot(column=\"trihalomethanes\")"
   ]
  },
  {
   "cell_type": "markdown",
   "metadata": {},
   "source": [
    "- Histogram  \n",
    "[tulis di sini]\n",
    "\n",
    "- Boxplot  \n",
    "[tulis di sini]"
   ]
  },
  {
   "cell_type": "markdown",
   "metadata": {},
   "source": [
    "Normality test"
   ]
  },
  {
   "cell_type": "code",
   "execution_count": 136,
   "metadata": {},
   "outputs": [
    {
     "name": "stdout",
     "output_type": "stream",
     "text": [
      "trihalomethanes is normal\n"
     ]
    }
   ],
   "source": [
    "# statistical tests\n",
    "\n",
    "stat, p = stats.normaltest(df[\"trihalomethanes\"])\n",
    "if p < 0.05: # p < 0.05 menunjukkan bahwa data tidak normal\n",
    "    print(\"trihalomethanes is not normal\")\n",
    "else:\n",
    "    print(\"trihalomethanes is normal\")"
   ]
  },
  {
   "cell_type": "markdown",
   "metadata": {},
   "source": [
    "Graphical methods  \n",
    "[tulis di sini]"
   ]
  },
  {
   "cell_type": "markdown",
   "metadata": {},
   "source": [
    "### turbidity"
   ]
  },
  {
   "cell_type": "markdown",
   "metadata": {},
   "source": [
    "Deskripsi Statistik"
   ]
  },
  {
   "cell_type": "code",
   "execution_count": 137,
   "metadata": {},
   "outputs": [
    {
     "data": {
      "text/plain": [
       "count            2010\n",
       "mean           3.9695\n",
       "std          0.780471\n",
       "min              1.45\n",
       "25%           3.44288\n",
       "50%           3.96737\n",
       "75%           4.51466\n",
       "max           6.49475\n",
       "median        3.96737\n",
       "mode         all same\n",
       "variansi     0.609135\n",
       "range         5.04475\n",
       "IQR           1.07178\n",
       "skewness    -0.032266\n",
       "kurtosis   -0.0498308\n",
       "Name: turbidity, dtype: object"
      ]
     },
     "execution_count": 137,
     "metadata": {},
     "output_type": "execute_result"
    }
   ],
   "source": [
    "# deskripsi statistik\n",
    "desc = df[\"turbidity\"].describe()\n",
    "desc.loc[\"median\"] = df[\"turbidity\"].median()\n",
    "if df[\"turbidity\"].mode().count() == df.shape[0]:\n",
    "    desc.loc[\"mode\"] = \"all same\"\n",
    "else:\n",
    "    desc.loc[\"modus\"] = df[\"turbidity\"].mode()\n",
    "desc.loc[\"variansi\"] = df[\"turbidity\"].var()\n",
    "desc.loc[\"range\"] = df[\"turbidity\"].max() - df[\"turbidity\"].min()\n",
    "desc.loc[\"IQR\"] = desc.loc[\"75%\"] - desc.loc[\"25%\"]\n",
    "desc.loc[\"skewness\"] = df[\"turbidity\"].skew()\n",
    "desc.loc[\"kurtosis\"] = df[\"turbidity\"].kurtosis()\n",
    "\n",
    "desc\n"
   ]
  },
  {
   "cell_type": "markdown",
   "metadata": {},
   "source": [
    "Visualisasi"
   ]
  },
  {
   "cell_type": "code",
   "execution_count": 138,
   "metadata": {},
   "outputs": [
    {
     "data": {
      "text/plain": [
       "<AxesSubplot:xlabel='turbidity', ylabel='Count'>"
      ]
     },
     "execution_count": 138,
     "metadata": {},
     "output_type": "execute_result"
    },
    {
     "data": {
      "image/png": "[encoded data removed]",
      "text/plain": [
       "<Figure size 432x288 with 1 Axes>"
      ]
     },
     "metadata": {
      "needs_background": "light"
     },
     "output_type": "display_data"
    }
   ],
   "source": [
    "# histogram\n",
    "sns.histplot(df[\"turbidity\"], kde=True) # kde=True menampilkan grafik kumulatif (garis tipis)"
   ]
  },
  {
   "cell_type": "code",
   "execution_count": 139,
   "metadata": {},
   "outputs": [
    {
     "data": {
      "text/plain": [
       "<AxesSubplot:>"
      ]
     },
     "execution_count": 139,
     "metadata": {},
     "output_type": "execute_result"
    },
    {
     "data": {
      "image/png": "[encoded data removed]",
      "text/plain": [
       "<Figure size 432x288 with 1 Axes>"
      ]
     },
     "metadata": {
      "needs_background": "light"
     },
     "output_type": "display_data"
    }
   ],
   "source": [
    "# boxplot\n",
    "df.boxplot(column=\"turbidity\")"
   ]
  },
  {
   "cell_type": "markdown",
   "metadata": {},
   "source": [
    "- Histogram  \n",
    "[tulis di sini]\n",
    "\n",
    "- Boxplot  \n",
    "[tulis di sini]"
   ]
  },
  {
   "cell_type": "markdown",
   "metadata": {},
   "source": [
    "Normality test"
   ]
  },
  {
   "cell_type": "code",
   "execution_count": 140,
   "metadata": {},
   "outputs": [
    {
     "name": "stdout",
     "output_type": "stream",
     "text": [
      "turbidity is normal\n"
     ]
    }
   ],
   "source": [
    "# statistical tests\n",
    "\n",
    "stat, p = stats.normaltest(df[\"turbidity\"])\n",
    "if p < 0.05: # p < 0.05 menunjukkan bahwa data tidak normal\n",
    "    print(\"turbidity is not normal\")\n",
    "else:\n",
    "    print(\"turbidity is normal\")"
   ]
  },
  {
   "cell_type": "markdown",
   "metadata": {},
   "source": [
    "Graphical methods  \n",
    "[tulis di sini]"
   ]
  },
  {
   "cell_type": "markdown",
   "metadata": {},
   "source": [
    "## Tes Hipotesis\n",
    "> untuk setiap hipotesis akan dituliskan 6 langkah testing beserta boxplot\n",
    "### 1 sampel\n",
    "a. Nilai rata-rata pH di atas 7?  \n",
    "1. Hipotesis nol: H<sub>0</sub> =  \n",
    "2. Hipotesis alternatif: H<sub>1</sub> ≠\n",
    "3. Tingkat signifikasi: α =\n",
    "4. uji statistik yang sesuai dan critical region\n",
    "5. uji statistik dari data sample dan p-value\n",
    "6. keputusan: \n",
    "\n",
    "b. Nilai Rata-rata Hardness tidak sama dengan 205?  \n",
    "1. Hipotesis nol: H<sub>0</sub> =  \n",
    "2. Hipotesis alternatif: H<sub>1</sub> ≠\n",
    "3. Tingkat signifikasi: α =\n",
    "4. uji statistik yang sesuai dan critical region\n",
    "5. uji statistik dari data sample dan p-value\n",
    "6. keputusan: \n",
    "\n",
    "c. Nilai Rata-rata 100 baris pertama kolom Solids bukan 21900?  \n",
    "1. Hipotesis nol: H<sub>0</sub> =  \n",
    "2. Hipotesis alternatif: H<sub>1</sub> ≠\n",
    "3. Tingkat signifikasi: α =\n",
    "4. uji statistik yang sesuai dan critical region\n",
    "5. uji statistik dari data sample dan p-value\n",
    "6. keputusan: \n",
    "\n",
    "d. Proporsi nilai Conductivity yang lebih dari 450, adalah tidak sama dengan 10%?  \n",
    "1. Hipotesis nol: H<sub>0</sub> =  \n",
    "2. Hipotesis alternatif: H<sub>1</sub> ≠\n",
    "3. Tingkat signifikasi: α =\n",
    "4. uji statistik yang sesuai dan critical region\n",
    "5. uji statistik dari data sample dan p-value\n",
    "6. keputusan: \n",
    "\n",
    "e. Proporsi nilai Trihalomethanes yang kurang dari 40, adalah kurang dari 5%?  \n",
    "1. Hipotesis nol: H<sub>0</sub> =  \n",
    "2. Hipotesis alternatif: H<sub>1</sub> ≠\n",
    "3. Tingkat signifikasi: α =\n",
    "4. uji statistik yang sesuai dan critical region\n",
    "5. uji statistik dari data sample dan p-value\n",
    "6. keputusan: \n",
    "\n"
   ]
  },
  {
   "cell_type": "markdown",
   "metadata": {},
   "source": [
    "### 2 sampel\n",
    "a. Data kolom Sulfate dibagi 2 sama rata: bagian awal dan bagian akhir kolom. Benarkah rata-rata kedua bagian tersebut sama? \n",
    "1. Hipotesis nol: H<sub>0</sub> = μ1 - μ2 = 0 <br>\n",
    "2. Hipotesis alternatif: H<sub>1</sub> = μ1 - μ2 $\\ne$ 0\n",
    "3. Tingkat signifikasi: alpha = 0.05\n",
    "Daerah kritis $z < -z_{\\alpha_{/2}} \\lor z > z_{\\alpha_{/2}}$ dengan $\\alpha$ = 0.05\n",
    "\n",
    "Terdapat 2010 instance/individu dalam populasi, sehingga bagian awal berjumlah 1005 instance dan bagian akhir berjumlah 1005 instance\n",
    "\n",
    "Uji hipotesis dilakukan dengan menghitung Z dari sampel sejumlah 150 yang diambil dari populasi bagian awal dan bagian akhir sejumlah 200\n",
    "\n",
    "$$ z = \\frac{(\\bar{x_{1}} - \\bar{x_{2}}) - d_{0}} {\\sqrt{\\sigma_{1}^{2}/n_{1} + \\sigma_{2}^{2}/n_{2}}}$$\n",
    "\n",
    "Z akan dibandingkan dengan daerah kritis yang telah ditentukan berdasarkan $\\alpha$\n",
    "\n",
    "Lalu, juga dilakukan test p value dengan membandingkan nilai probabilitas Z dengan nilai $\\alpha$\n",
    "\n",
    "Jika Z memasuki daerah kritis dan p value kurang dari $\\alpha$, maka dapat diambil kesimpulan H0 ditolak\n",
    "\n",
    "Jika Z di luar daerah kritis dan p value lebih dari $\\alpha$, maka H0 diterima\n"
   ]
  },
  {
   "cell_type": "markdown",
   "metadata": {},
   "source": [
    "4. uji statistik yang sesuai dan critical region"
   ]
  },
  {
   "cell_type": "code",
   "execution_count": 146,
   "metadata": {},
   "outputs": [
    {
     "data": {
      "text/plain": [
       "[]"
      ]
     },
     "execution_count": 146,
     "metadata": {},
     "output_type": "execute_result"
    },
    {
     "data": {
      "image/png": "[encoded data removed]",
      "text/plain": [
       "<Figure size 576x864 with 2 Axes>"
      ]
     },
     "metadata": {
      "needs_background": "light"
     },
     "output_type": "display_data"
    }
   ],
   "source": [
    "α = 0.05\n",
    "sulfateAwal = df[\"sulfate\"][:len(df)//2]\n",
    "sampleAwal5a = sulfateAwal.sample(150)\n",
    "miuAwal5a = sampleAwal5a.mean()\n",
    "sigmaAwal5a = sulfateAwal.std()\n",
    "\n",
    "sulfateAkhir = df[\"sulfate\"][len(df)//2:]\n",
    "sampleAkhir5a = sulfateAkhir.sample(200)\n",
    "miuAkhir5a = sampleAkhir5a.mean()\n",
    "sigmaAkhir5a = sulfateAkhir.std()\n",
    "\n",
    "fig, axs = plt.subplots(2, figsize=(8,12))\n",
    "\n",
    "sulfateAwal.plot.box(label = \"Sulfate bagian awal\", ax=axs[0])\n",
    "sulfateAkhir.plot.box(label = \"Sulfate bagian akhir\", ax=axs[1])\n",
    "plt.plot()"
   ]
  },
  {
   "cell_type": "markdown",
   "metadata": {},
   "source": [
    "5. uji statistik dari data sample dan p-value"
   ]
  },
  {
   "cell_type": "code",
   "execution_count": 144,
   "metadata": {},
   "outputs": [
    {
     "name": "stdout",
     "output_type": "stream",
     "text": [
      "Nilai z adalah -0.9095566808359219\n",
      "Nilai p adalah 0.36305635286611815\n",
      "Nilai daerah kritis adalah -1.959963984540054 dan 1.959963984540054\n"
     ]
    }
   ],
   "source": [
    "d0 = 0\n",
    "z5a = ((miuAwal5a-miuAkhir5a)-d0)/np.sqrt((pow(sigmaAwal5a,2)/152)+(pow(sigmaAkhir5a,2)/152))\n",
    "criticalValue5a = (stats.norm.ppf(1-α/2))\n",
    "if z5a < 0:\n",
    "  pValue5a = 2*(stats.norm.cdf(z5a))\n",
    "else:\n",
    "  pValue5a = 2*(stats.norm.sf(z5a))\n",
    "print(\"Nilai z adalah \" + str(z5a))\n",
    "print(\"Nilai p adalah \" + str(pValue5a))\n",
    "print(\"Nilai daerah kritis adalah \" + str(-criticalValue5a) + \" dan \" + str(criticalValue5a))"
   ]
  },
  {
   "cell_type": "markdown",
   "metadata": {},
   "source": [
    "\n",
    "6. Keputusan :"
   ]
  },
  {
   "cell_type": "code",
   "execution_count": 145,
   "metadata": {},
   "outputs": [
    {
     "name": "stdout",
     "output_type": "stream",
     "text": [
      "Z di luar daerah kritis, H0 mungkin diterima\n",
      "P value lebih dari alpha, H0 mungkin diterima\n",
      "Karena kedua syarat terpenuhi, maka kesimpulannya H0 diterima\n"
     ]
    }
   ],
   "source": [
    "if z5a > criticalValue5a or z5a < -criticalValue5a:\n",
    "    print(\"Z masuk dalam daerah kritis, H0 pasti ditolak\")\n",
    "else:\n",
    "    print(\"Z di luar daerah kritis, H0 mungkin diterima\")\n",
    "\n",
    "if pValue5a < α:\n",
    "    print(\"P value kurang dari alpha, H0 pasti ditolak\")\n",
    "else:\n",
    "    print(\"P value lebih dari alpha, H0 mungkin diterima\")\n",
    "\n",
    "if (z5a > criticalValue5a or z5a < -criticalValue5a) or (pValue5a < α):\n",
    "    print(\"Karena salah satu syarat ditolak, maka kesimpulannya H0 ditolak\")\n",
    "else:\n",
    "    print(\"Karena kedua syarat terpenuhi, maka kesimpulannya H0 diterima\")"
   ]
  },
  {
   "cell_type": "markdown",
   "metadata": {},
   "source": [
    "b. Data kolom OrganicCarbon dibagi 2 sama rata: bagian awal dan bagian akhir kolom. Benarkah rata-rata bagian awal lebih besar dari pada bagian akhir sebesar 0.15? \n",
    "1. Hipotesis nol: H<sub>0</sub> =  \n",
    "2. Hipotesis alternatif: H<sub>1</sub> ≠\n",
    "3. Tingkat signifikasi: α =\n",
    "4. uji statistik yang sesuai dan critical region\n",
    "5. uji statistik dari data sample dan p-value\n",
    "6. keputusan: \n",
    "\n",
    "c. Rata-rata 100 baris pertama kolom Chloramines sama dengan 100 baris terakhirnya? \n",
    "1. Hipotesis nol: H<sub>0</sub> =  \n",
    "2. Hipotesis alternatif: H<sub>1</sub> ≠\n",
    "3. Tingkat signifikasi: α =\n",
    "4. uji statistik yang sesuai dan critical region\n",
    "5. uji statistik dari data sample dan p-value\n",
    "6. keputusan: \n",
    "\n",
    "d. Proporsi nilai bagian awal Turbidity yang lebih dari 4, adalah lebih besar daripada, proporsi nilai yang sama di bagian akhir Turbidity? \n",
    "1. Hipotesis nol: H<sub>0</sub> =  \n",
    "2. Hipotesis alternatif: H<sub>1</sub> ≠\n",
    "3. Tingkat signifikasi: α =\n",
    "4. uji statistik yang sesuai dan critical region\n",
    "5. uji statistik dari data sample dan p-value\n",
    "6. keputusan: \n",
    "\n",
    "e. Bagian awal kolom Sulfate memiliki variansi yang sama dengan bagian akhirnya?\n",
    "1. Hipotesis nol: H<sub>0</sub> =  \n",
    "2. Hipotesis alternatif: H<sub>1</sub> ≠\n",
    "3. Tingkat signifikasi: α =\n",
    "4. uji statistik yang sesuai dan critical region\n",
    "5. uji statistik dari data sample dan p-value\n",
    "6. keputusan: "
   ]
  },
  {
   "cell_type": "markdown",
   "metadata": {},
   "source": [
    "### Tes Korelasi\n",
    "> setiap kolom nontarget akan dicari korelasinya dengan kolom target dengan menggambarkan scatter plotnya"
   ]
  },
  {
   "cell_type": "markdown",
   "metadata": {},
   "source": [
    "### Referensi syntax markdown \n",
    "[cheat sheet](https://www.markdownguide.org/cheat-sheet/)  \n",
    "[mathematics](https://rpruim.github.io/s341/S19/from-class/MathinRmd.html)\n"
   ]
  }
 ],
 "metadata": {
  "interpreter": {
   "hash": "40cf7a1061013614c60d9a89e6a9ad09253e16cd13af19a45f84172550acdad0"
  },
  "kernelspec": {
   "display_name": "Python 3.9.1 64-bit",
   "language": "python",
   "name": "python3"
  },
  "language_info": {
   "codemirror_mode": {
    "name": "ipython",
    "version": 3
   },
   "file_extension": ".py",
   "mimetype": "text/x-python",
   "name": "python",
   "nbconvert_exporter": "python",
   "pygments_lexer": "ipython3",
   "version": "3.9.6"
  },
  "orig_nbformat": 4
 },
 "nbformat": 4,
 "nbformat_minor": 2
}
