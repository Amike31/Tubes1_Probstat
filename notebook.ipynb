{
 "cells": [
  {
   "cell_type": "markdown",
   "metadata": {},
   "source": [
    "### Tugas Besar IF2220 Probabilitas dan Statistika\n",
    "# Penarikan Kesimpulan dan Pengujian Hipotesis\n",
    "\n",
    "> untuk setiap kolom numerik, akan diberikan informasi mengenai\n",
    "1. Deskripsi Statistika\n",
    "- mean\n",
    "- median\n",
    "- modus\n",
    "- standar deviasi\n",
    "- variansi\n",
    "- range\n",
    "- min\n",
    "- max\n",
    "- kuartil\n",
    "- IQR\n",
    "- skewness\n",
    "- kurtosis\n",
    "- dll\n",
    "\n",
    "2. Visualisasi plot distribusi\n",
    "- histogram\n",
    "- boxplot\n",
    "- penjelasan kondisi berdasarkan plot\n",
    "\n",
    "3. Normality test\n",
    "- apakah berdistribusi normal atau tidak"
   ]
  },
  {
   "cell_type": "code",
   "execution_count": 11,
   "metadata": {},
   "outputs": [
    {
     "name": "stdout",
     "output_type": "stream",
     "text": [
      "(2010, 11)\n"
     ]
    },
    {
     "data": {
      "text/html": [
       "<div>\n",
       "<style scoped>\n",
       "    .dataframe tbody tr th:only-of-type {\n",
       "        vertical-align: middle;\n",
       "    }\n",
       "\n",
       "    .dataframe tbody tr th {\n",
       "        vertical-align: top;\n",
       "    }\n",
       "\n",
       "    .dataframe thead th {\n",
       "        text-align: right;\n",
       "    }\n",
       "</style>\n",
       "<table border=\"1\" class=\"dataframe\">\n",
       "  <thead>\n",
       "    <tr style=\"text-align: right;\">\n",
       "      <th></th>\n",
       "      <th>id</th>\n",
       "      <th>pH</th>\n",
       "      <th>hardness</th>\n",
       "      <th>solids</th>\n",
       "      <th>chloramines</th>\n",
       "      <th>sulfate</th>\n",
       "      <th>conductivity</th>\n",
       "      <th>organic_carbon</th>\n",
       "      <th>trihalomethanes</th>\n",
       "      <th>turbidity</th>\n",
       "      <th>potability</th>\n",
       "    </tr>\n",
       "  </thead>\n",
       "  <tbody>\n",
       "    <tr>\n",
       "      <th>0</th>\n",
       "      <td>1</td>\n",
       "      <td>8.316766</td>\n",
       "      <td>214.373394</td>\n",
       "      <td>22018.417441</td>\n",
       "      <td>8.059332</td>\n",
       "      <td>356.886136</td>\n",
       "      <td>363.266516</td>\n",
       "      <td>18.436524</td>\n",
       "      <td>100.341674</td>\n",
       "      <td>4.628771</td>\n",
       "      <td>0</td>\n",
       "    </tr>\n",
       "    <tr>\n",
       "      <th>1</th>\n",
       "      <td>2</td>\n",
       "      <td>9.092223</td>\n",
       "      <td>181.101509</td>\n",
       "      <td>17978.986339</td>\n",
       "      <td>6.546600</td>\n",
       "      <td>310.135738</td>\n",
       "      <td>398.410813</td>\n",
       "      <td>11.558279</td>\n",
       "      <td>31.997993</td>\n",
       "      <td>4.075075</td>\n",
       "      <td>0</td>\n",
       "    </tr>\n",
       "    <tr>\n",
       "      <th>2</th>\n",
       "      <td>3</td>\n",
       "      <td>5.584087</td>\n",
       "      <td>188.313324</td>\n",
       "      <td>28748.687739</td>\n",
       "      <td>7.544869</td>\n",
       "      <td>326.678363</td>\n",
       "      <td>280.467916</td>\n",
       "      <td>8.399735</td>\n",
       "      <td>54.917862</td>\n",
       "      <td>2.559708</td>\n",
       "      <td>0</td>\n",
       "    </tr>\n",
       "    <tr>\n",
       "      <th>3</th>\n",
       "      <td>4</td>\n",
       "      <td>10.223862</td>\n",
       "      <td>248.071735</td>\n",
       "      <td>28749.716544</td>\n",
       "      <td>7.513408</td>\n",
       "      <td>393.663396</td>\n",
       "      <td>283.651634</td>\n",
       "      <td>13.789695</td>\n",
       "      <td>84.603556</td>\n",
       "      <td>2.672989</td>\n",
       "      <td>0</td>\n",
       "    </tr>\n",
       "    <tr>\n",
       "      <th>4</th>\n",
       "      <td>5</td>\n",
       "      <td>8.635849</td>\n",
       "      <td>203.361523</td>\n",
       "      <td>13672.091764</td>\n",
       "      <td>4.563009</td>\n",
       "      <td>303.309771</td>\n",
       "      <td>474.607645</td>\n",
       "      <td>12.363817</td>\n",
       "      <td>62.798309</td>\n",
       "      <td>4.401425</td>\n",
       "      <td>0</td>\n",
       "    </tr>\n",
       "  </tbody>\n",
       "</table>\n",
       "</div>"
      ],
      "text/plain": [
       "   id         pH    hardness        solids  chloramines     sulfate  \\\n",
       "0   1   8.316766  214.373394  22018.417441     8.059332  356.886136   \n",
       "1   2   9.092223  181.101509  17978.986339     6.546600  310.135738   \n",
       "2   3   5.584087  188.313324  28748.687739     7.544869  326.678363   \n",
       "3   4  10.223862  248.071735  28749.716544     7.513408  393.663396   \n",
       "4   5   8.635849  203.361523  13672.091764     4.563009  303.309771   \n",
       "\n",
       "   conductivity  organic_carbon  trihalomethanes  turbidity  potability  \n",
       "0    363.266516       18.436524       100.341674   4.628771           0  \n",
       "1    398.410813       11.558279        31.997993   4.075075           0  \n",
       "2    280.467916        8.399735        54.917862   2.559708           0  \n",
       "3    283.651634       13.789695        84.603556   2.672989           0  \n",
       "4    474.607645       12.363817        62.798309   4.401425           0  "
      ]
     },
     "execution_count": 11,
     "metadata": {},
     "output_type": "execute_result"
    }
   ],
   "source": [
    "# load\n",
    "import pandas as pd\n",
    "\n",
    "df = pd.read_csv('water_potability.csv', header=None)\n",
    "df.columns = [\"id\", \"pH\", \"hardness\", \"solids\", \"chloramines\", \"sulfate\", \"conductivity\", \"organic_carbon\", \"trihalomethanes\", \"turbidity\", \"potability\"]\n",
    "print(df.shape)\n",
    "df.head()"
   ]
  },
  {
   "cell_type": "markdown",
   "metadata": {},
   "source": [
    "### pH"
   ]
  },
  {
   "cell_type": "code",
   "execution_count": 12,
   "metadata": {},
   "outputs": [],
   "source": [
    "# deskripsi statistik\n",
    "\n",
    "# visualisasi\n",
    "\n",
    "# normality test\n"
   ]
  },
  {
   "cell_type": "markdown",
   "metadata": {},
   "source": [
    "### hardness"
   ]
  },
  {
   "cell_type": "code",
   "execution_count": 13,
   "metadata": {},
   "outputs": [],
   "source": [
    "# deskripsi statistik\n",
    "\n",
    "# visualisasi\n",
    "\n",
    "# normality test\n"
   ]
  },
  {
   "cell_type": "markdown",
   "metadata": {},
   "source": [
    "### solids"
   ]
  },
  {
   "cell_type": "code",
   "execution_count": 14,
   "metadata": {},
   "outputs": [],
   "source": [
    "# deskripsi statistik\n",
    "\n",
    "# visualisasi\n",
    "\n",
    "# normality test\n"
   ]
  },
  {
   "cell_type": "markdown",
   "metadata": {},
   "source": [
    "### chloramines"
   ]
  },
  {
   "cell_type": "code",
   "execution_count": 15,
   "metadata": {},
   "outputs": [],
   "source": [
    "# deskripsi statistik\n",
    "\n",
    "# visualisasi\n",
    "\n",
    "# normality test\n"
   ]
  },
  {
   "cell_type": "markdown",
   "metadata": {},
   "source": [
    "### sulfate"
   ]
  },
  {
   "cell_type": "code",
   "execution_count": 16,
   "metadata": {},
   "outputs": [],
   "source": [
    "# deskripsi statistik\n",
    "\n",
    "# visualisasi\n",
    "\n",
    "# normality test\n"
   ]
  },
  {
   "cell_type": "markdown",
   "metadata": {},
   "source": [
    "### conductivity"
   ]
  },
  {
   "cell_type": "code",
   "execution_count": 17,
   "metadata": {},
   "outputs": [],
   "source": [
    "# deskripsi statistik\n",
    "\n",
    "# visualisasi\n",
    "\n",
    "# normality test\n"
   ]
  },
  {
   "cell_type": "markdown",
   "metadata": {},
   "source": [
    "### organic_carbon"
   ]
  },
  {
   "cell_type": "code",
   "execution_count": 18,
   "metadata": {},
   "outputs": [],
   "source": [
    "# deskripsi statistik\n",
    "\n",
    "# visualisasi\n",
    "\n",
    "# normality test\n"
   ]
  },
  {
   "cell_type": "markdown",
   "metadata": {},
   "source": [
    "### trihalomethanes"
   ]
  },
  {
   "cell_type": "code",
   "execution_count": 19,
   "metadata": {},
   "outputs": [],
   "source": [
    "# deskripsi statistik\n",
    "\n",
    "# visualisasi\n",
    "\n",
    "# normality test\n"
   ]
  },
  {
   "cell_type": "markdown",
   "metadata": {},
   "source": [
    "### turbidity"
   ]
  },
  {
   "cell_type": "code",
   "execution_count": 20,
   "metadata": {},
   "outputs": [],
   "source": [
    "# deskripsi statistik\n",
    "\n",
    "# visualisasi\n",
    "\n",
    "# normality test"
   ]
  },
  {
   "cell_type": "markdown",
   "metadata": {},
   "source": [
    "## Tes Hipotesis\n",
    "> untuk setiap hipotesis akan dituliskan 6 langkah testing beserta boxplot\n",
    "### 1 sampel\n",
    "a. Nilai rata-rata pH di atas 7?  \n",
    "1. Hipotesis nol: H<sub>0</sub> =  \n",
    "2. Hipotesis alternatif: H<sub>1</sub> ≠\n",
    "3. Tingkat signifikasi: α =\n",
    "4. uji statistik yang sesuai dan critical region\n",
    "5. uji statistik dari data sample dan p-value\n",
    "6. keputusan: \n",
    "\n",
    "b. Nilai Rata-rata Hardness tidak sama dengan 205?  \n",
    "1. Hipotesis nol: H<sub>0</sub> =  \n",
    "2. Hipotesis alternatif: H<sub>1</sub> ≠\n",
    "3. Tingkat signifikasi: α =\n",
    "4. uji statistik yang sesuai dan critical region\n",
    "5. uji statistik dari data sample dan p-value\n",
    "6. keputusan: \n",
    "\n",
    "c. Nilai Rata-rata 100 baris pertama kolom Solids bukan 21900?  \n",
    "1. Hipotesis nol: H<sub>0</sub> =  \n",
    "2. Hipotesis alternatif: H<sub>1</sub> ≠\n",
    "3. Tingkat signifikasi: α =\n",
    "4. uji statistik yang sesuai dan critical region\n",
    "5. uji statistik dari data sample dan p-value\n",
    "6. keputusan: \n",
    "\n",
    "d. Proporsi nilai Conductivity yang lebih dari 450, adalah tidak sama dengan 10%?  \n",
    "1. Hipotesis nol: H<sub>0</sub> =  \n",
    "2. Hipotesis alternatif: H<sub>1</sub> ≠\n",
    "3. Tingkat signifikasi: α =\n",
    "4. uji statistik yang sesuai dan critical region\n",
    "5. uji statistik dari data sample dan p-value\n",
    "6. keputusan: \n",
    "\n",
    "e. Proporsi nilai Trihalomethanes yang kurang dari 40, adalah kurang dari 5%?  \n",
    "1. Hipotesis nol: H<sub>0</sub> =  \n",
    "2. Hipotesis alternatif: H<sub>1</sub> ≠\n",
    "3. Tingkat signifikasi: α =\n",
    "4. uji statistik yang sesuai dan critical region\n",
    "5. uji statistik dari data sample dan p-value\n",
    "6. keputusan: \n",
    "\n",
    "### 2 sampel\n",
    "a. Data kolom Sulfate dibagi 2 sama rata: bagian awal dan bagian akhir kolom. Benarkah rata-rata kedua bagian tersebut sama? \n",
    "1. Hipotesis nol: H<sub>0</sub> =  \n",
    "2. Hipotesis alternatif: H<sub>1</sub> ≠\n",
    "3. Tingkat signifikasi: α =\n",
    "4. uji statistik yang sesuai dan critical region\n",
    "5. uji statistik dari data sample dan p-value\n",
    "6. keputusan: \n",
    "\n",
    "b. Data kolom OrganicCarbon dibagi 2 sama rata: bagian awal dan bagian akhir kolom. Benarkah rata-rata bagian awal lebih besar dari pada bagian akhir sebesar 0.15? \n",
    "1. Hipotesis nol: H<sub>0</sub> =  \n",
    "2. Hipotesis alternatif: H<sub>1</sub> ≠\n",
    "3. Tingkat signifikasi: α =\n",
    "4. uji statistik yang sesuai dan critical region\n",
    "5. uji statistik dari data sample dan p-value\n",
    "6. keputusan: \n",
    "\n",
    "c. Rata-rata 100 baris pertama kolom Chloramines sama dengan 100 baris terakhirnya? \n",
    "1. Hipotesis nol: H<sub>0</sub> =  \n",
    "2. Hipotesis alternatif: H<sub>1</sub> ≠\n",
    "3. Tingkat signifikasi: α =\n",
    "4. uji statistik yang sesuai dan critical region\n",
    "5. uji statistik dari data sample dan p-value\n",
    "6. keputusan: \n",
    "\n",
    "d. Proporsi nilai bagian awal Turbidity yang lebih dari 4, adalah lebih besar daripada, proporsi nilai yang sama di bagian akhir Turbidity? \n",
    "1. Hipotesis nol: H<sub>0</sub> =  \n",
    "2. Hipotesis alternatif: H<sub>1</sub> ≠\n",
    "3. Tingkat signifikasi: α =\n",
    "4. uji statistik yang sesuai dan critical region\n",
    "5. uji statistik dari data sample dan p-value\n",
    "6. keputusan: \n",
    "\n",
    "e. Bagian awal kolom Sulfate memiliki variansi yang sama dengan bagian akhirnya?\n",
    "1. Hipotesis nol: H<sub>0</sub> =  \n",
    "2. Hipotesis alternatif: H<sub>1</sub> ≠\n",
    "3. Tingkat signifikasi: α =\n",
    "4. uji statistik yang sesuai dan critical region\n",
    "5. uji statistik dari data sample dan p-value\n",
    "6. keputusan: "
   ]
  },
  {
   "cell_type": "markdown",
   "metadata": {},
   "source": [
    "### Tes Korelasi\n",
    "> setiap kolom nontarget akan cari korelasinya dengan kolom target dengan menggambarkan scatter plotnya"
   ]
  },
  {
   "cell_type": "markdown",
   "metadata": {},
   "source": [
    "### Referensi syntax markdown \n",
    "[cheat sheet](https://www.markdownguide.org/cheat-sheet/)  \n",
    "[mathematics](https://rpruim.github.io/s341/S19/from-class/MathinRmd.html)\n"
   ]
  }
 ],
 "metadata": {
  "interpreter": {
   "hash": "40cf7a1061013614c60d9a89e6a9ad09253e16cd13af19a45f84172550acdad0"
  },
  "kernelspec": {
   "display_name": "Python 3.9.1 64-bit",
   "language": "python",
   "name": "python3"
  },
  "language_info": {
   "codemirror_mode": {
    "name": "ipython",
    "version": 3
   },
   "file_extension": ".py",
   "mimetype": "text/x-python",
   "name": "python",
   "nbconvert_exporter": "python",
   "pygments_lexer": "ipython3",
   "version": "3.9.1"
  },
  "orig_nbformat": 4
 },
 "nbformat": 4,
 "nbformat_minor": 2
}
