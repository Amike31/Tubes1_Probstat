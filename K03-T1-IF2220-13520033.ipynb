{
 "cells": [
  {
   "cell_type": "markdown",
   "metadata": {},
   "source": [
    "### Tugas Besar IF2220 Probabilitas dan Statistika\n",
    "Oleh:  \n",
    "Tri Sulton Adila (13520033)  \n",
    "Rahmat Rafid Akbar (13520090)  \n",
    "# Penarikan Kesimpulan dan Pengujian Hipotesis\n",
    "\n",
    "> Untuk setiap kolom numerik, akan diberikan informasi mengenai  \n",
    "\n",
    "\n",
    "1) Deskripsi Statistika\n",
    "- mean\n",
    "- median\n",
    "- modus\n",
    "- standar deviasi\n",
    "- variansi\n",
    "- range\n",
    "- min\n",
    "- max\n",
    "- kuartil\n",
    "- IQR\n",
    "- skewness\n",
    "- kurtosis  \n",
    "\n",
    "\n",
    "2) Visualisasi plot distribusi\n",
    "- histogram\n",
    "- boxplot\n",
    "- penjelasan kondisi berdasarkan plot\n",
    "\n",
    "\n",
    "3) Normality test\n",
    "- apakah berdistribusi normal atau tidak"
   ]
  },
  {
   "cell_type": "code",
   "execution_count": 188,
   "metadata": {},
   "outputs": [
    {
     "data": {
      "text/html": [
       "<div>\n",
       "<style scoped>\n",
       "    .dataframe tbody tr th:only-of-type {\n",
       "        vertical-align: middle;\n",
       "    }\n",
       "\n",
       "    .dataframe tbody tr th {\n",
       "        vertical-align: top;\n",
       "    }\n",
       "\n",
       "    .dataframe thead th {\n",
       "        text-align: right;\n",
       "    }\n",
       "</style>\n",
       "<table border=\"1\" class=\"dataframe\">\n",
       "  <thead>\n",
       "    <tr style=\"text-align: right;\">\n",
       "      <th></th>\n",
       "      <th>pH</th>\n",
       "      <th>hardness</th>\n",
       "      <th>solids</th>\n",
       "      <th>chloramines</th>\n",
       "      <th>sulfate</th>\n",
       "      <th>conductivity</th>\n",
       "      <th>organic_carbon</th>\n",
       "      <th>trihalomethanes</th>\n",
       "      <th>turbidity</th>\n",
       "      <th>potability</th>\n",
       "    </tr>\n",
       "    <tr>\n",
       "      <th>id</th>\n",
       "      <th></th>\n",
       "      <th></th>\n",
       "      <th></th>\n",
       "      <th></th>\n",
       "      <th></th>\n",
       "      <th></th>\n",
       "      <th></th>\n",
       "      <th></th>\n",
       "      <th></th>\n",
       "      <th></th>\n",
       "    </tr>\n",
       "  </thead>\n",
       "  <tbody>\n",
       "    <tr>\n",
       "      <th>1</th>\n",
       "      <td>8.316766</td>\n",
       "      <td>214.373394</td>\n",
       "      <td>22018.417441</td>\n",
       "      <td>8.059332</td>\n",
       "      <td>356.886136</td>\n",
       "      <td>363.266516</td>\n",
       "      <td>18.436524</td>\n",
       "      <td>100.341674</td>\n",
       "      <td>4.628771</td>\n",
       "      <td>0</td>\n",
       "    </tr>\n",
       "    <tr>\n",
       "      <th>2</th>\n",
       "      <td>9.092223</td>\n",
       "      <td>181.101509</td>\n",
       "      <td>17978.986339</td>\n",
       "      <td>6.546600</td>\n",
       "      <td>310.135738</td>\n",
       "      <td>398.410813</td>\n",
       "      <td>11.558279</td>\n",
       "      <td>31.997993</td>\n",
       "      <td>4.075075</td>\n",
       "      <td>0</td>\n",
       "    </tr>\n",
       "    <tr>\n",
       "      <th>3</th>\n",
       "      <td>5.584087</td>\n",
       "      <td>188.313324</td>\n",
       "      <td>28748.687739</td>\n",
       "      <td>7.544869</td>\n",
       "      <td>326.678363</td>\n",
       "      <td>280.467916</td>\n",
       "      <td>8.399735</td>\n",
       "      <td>54.917862</td>\n",
       "      <td>2.559708</td>\n",
       "      <td>0</td>\n",
       "    </tr>\n",
       "    <tr>\n",
       "      <th>4</th>\n",
       "      <td>10.223862</td>\n",
       "      <td>248.071735</td>\n",
       "      <td>28749.716544</td>\n",
       "      <td>7.513408</td>\n",
       "      <td>393.663396</td>\n",
       "      <td>283.651634</td>\n",
       "      <td>13.789695</td>\n",
       "      <td>84.603556</td>\n",
       "      <td>2.672989</td>\n",
       "      <td>0</td>\n",
       "    </tr>\n",
       "    <tr>\n",
       "      <th>5</th>\n",
       "      <td>8.635849</td>\n",
       "      <td>203.361523</td>\n",
       "      <td>13672.091764</td>\n",
       "      <td>4.563009</td>\n",
       "      <td>303.309771</td>\n",
       "      <td>474.607645</td>\n",
       "      <td>12.363817</td>\n",
       "      <td>62.798309</td>\n",
       "      <td>4.401425</td>\n",
       "      <td>0</td>\n",
       "    </tr>\n",
       "  </tbody>\n",
       "</table>\n",
       "</div>"
      ],
      "text/plain": [
       "           pH    hardness        solids  chloramines     sulfate  \\\n",
       "id                                                                 \n",
       "1    8.316766  214.373394  22018.417441     8.059332  356.886136   \n",
       "2    9.092223  181.101509  17978.986339     6.546600  310.135738   \n",
       "3    5.584087  188.313324  28748.687739     7.544869  326.678363   \n",
       "4   10.223862  248.071735  28749.716544     7.513408  393.663396   \n",
       "5    8.635849  203.361523  13672.091764     4.563009  303.309771   \n",
       "\n",
       "    conductivity  organic_carbon  trihalomethanes  turbidity  potability  \n",
       "id                                                                        \n",
       "1     363.266516       18.436524       100.341674   4.628771           0  \n",
       "2     398.410813       11.558279        31.997993   4.075075           0  \n",
       "3     280.467916        8.399735        54.917862   2.559708           0  \n",
       "4     283.651634       13.789695        84.603556   2.672989           0  \n",
       "5     474.607645       12.363817        62.798309   4.401425           0  "
      ]
     },
     "execution_count": 188,
     "metadata": {},
     "output_type": "execute_result"
    }
   ],
   "source": [
    "# load\n",
    "import pandas as pd\n",
    "import seaborn as sns\n",
    "import numpy as np\n",
    "import matplotlib.pyplot as plt\n",
    "import scipy.stats as stats\n",
    "\n",
    "df = pd.read_csv('water_potability.csv', header=None) # header=None karena data ini tidak memiliki header\n",
    "atributs = [\"id\", \"pH\", \"hardness\", \"solids\", \"chloramines\", \"sulfate\", \"conductivity\", \"organic_carbon\", \"trihalomethanes\", \"turbidity\", \"potability\"]\n",
    "df.columns = atributs # menambahkan nama kolom\n",
    "df.set_index('id', inplace=True) # inplace menggantikan data yang lama dengan data baru\n",
    "df.head()"
   ]
  },
  {
   "cell_type": "markdown",
   "metadata": {},
   "source": [
    "### pH"
   ]
  },
  {
   "cell_type": "markdown",
   "metadata": {},
   "source": [
    "Deskripsi Statistik"
   ]
  },
  {
   "cell_type": "code",
   "execution_count": 189,
   "metadata": {},
   "outputs": [
    {
     "data": {
      "text/plain": [
       "count       2010.000000\n",
       "mean           7.087193\n",
       "std            1.572803\n",
       "min            0.227499\n",
       "25%            6.090785\n",
       "50%            7.029490\n",
       "75%            8.053006\n",
       "max           14.000000\n",
       "median         7.029490\n",
       "mode           6.807694\n",
       "variansi       2.473709\n",
       "range         13.772501\n",
       "IQR            1.962221\n",
       "skewness       0.048535\n",
       "kurtosis       0.626904\n",
       "Name: pH, dtype: float64"
      ]
     },
     "execution_count": 189,
     "metadata": {},
     "output_type": "execute_result"
    }
   ],
   "source": [
    "# deskripsi statistik\n",
    "desc = df[\"pH\"].describe()\n",
    "desc.loc[\"median\"] = df[\"pH\"].median()\n",
    "\n",
    "# estimasi modus dengan menggunakan bantuan histogram\n",
    "counts, bins = np.histogram(df[\"pH\"], bins=\"auto\")\n",
    "max_bin = np.argmax(counts)\n",
    "desc.loc[\"mode\"] = bins[max_bin:max_bin+2].mean()\n",
    "\n",
    "desc.loc[\"variansi\"] = df[\"pH\"].var()\n",
    "desc.loc[\"range\"] = df[\"pH\"].max() - df[\"pH\"].min()\n",
    "desc.loc[\"IQR\"] = desc.loc[\"75%\"] - desc.loc[\"25%\"]\n",
    "desc.loc[\"skewness\"] = df[\"pH\"].skew()\n",
    "desc.loc[\"kurtosis\"] = df[\"pH\"].kurtosis()\n",
    "\n",
    "desc"
   ]
  },
  {
   "cell_type": "markdown",
   "metadata": {},
   "source": [
    "Visualisasi"
   ]
  },
  {
   "cell_type": "code",
   "execution_count": 190,
   "metadata": {},
   "outputs": [
    {
     "data": {
      "text/plain": [
       "<AxesSubplot:xlabel='pH', ylabel='Count'>"
      ]
     },
     "execution_count": 190,
     "metadata": {},
     "output_type": "execute_result"
    },
    {
     "data": {
      "image/png": "[encoded data removed]",
      "text/plain": [
       "<Figure size 432x288 with 1 Axes>"
      ]
     },
     "metadata": {
      "needs_background": "light"
     },
     "output_type": "display_data"
    }
   ],
   "source": [
    "# histogram\n",
    "sns.histplot(df[\"pH\"], kde=True) # kde=True menampilkan grafik kumulatif (garis tipis)"
   ]
  },
  {
   "cell_type": "code",
   "execution_count": 191,
   "metadata": {},
   "outputs": [
    {
     "data": {
      "text/plain": [
       "<AxesSubplot:>"
      ]
     },
     "execution_count": 191,
     "metadata": {},
     "output_type": "execute_result"
    },
    {
     "data": {
      "image/png": "[encoded data removed]",
      "text/plain": [
       "<Figure size 432x288 with 1 Axes>"
      ]
     },
     "metadata": {
      "needs_background": "light"
     },
     "output_type": "display_data"
    }
   ],
   "source": [
    "# boxplot\n",
    "df.boxplot(column=\"pH\")"
   ]
  },
  {
   "cell_type": "markdown",
   "metadata": {},
   "source": [
    "- Histogram  \n",
    "Grafik terlihat seperti berdistribusi normal dengan nilai modus, median, dan mean yang sama sekitar tujuh. Grafik terlihat juga seperti tertarik ke atas, ini ditunujukkan dengan nilai kurtosis yang lebih besar dari 0.\n",
    "\n",
    "- Boxplot  \n",
    "Distribusi terlihat simetris, nilai rata rata = 7 diikuti dengan nilai kuartil 1 yang sama dengan 6 dan kuartil 3 sama dengan 8. Ini didukung dengan nilai skewed yang mendekati nol. Outlier cenderung lebih menyebar di luar sisi minimum."
   ]
  },
  {
   "cell_type": "markdown",
   "metadata": {},
   "source": [
    "Normality test"
   ]
  },
  {
   "cell_type": "code",
   "execution_count": 192,
   "metadata": {},
   "outputs": [
    {
     "name": "stdout",
     "output_type": "stream",
     "text": [
      "pH is not normal\n"
     ]
    }
   ],
   "source": [
    "# statistical tests\n",
    "\n",
    "stat, p = stats.normaltest(df[\"pH\"])\n",
    "if p < 0.05: # p < 0.05 menunjukkan bahwa data tidak normal\n",
    "    print(\"pH is not normal\")\n",
    "else:\n",
    "    print(\"pH is normal\")"
   ]
  },
  {
   "cell_type": "markdown",
   "metadata": {},
   "source": [
    "Graphical methods  \n",
    "Dengan melihat pada histogram pH, sekilas dapat kita ketahui grafik membentuk distribusi normal. Data pH memenuhi rata rata = modus = mean, yaitu sekitar 7. Kurva juga terlihat berbentuk simetri terhadap sumbu tegak pada x = $\\mu$ dan secara asimtotik, kurva mendekati sumbu datar ke arah kiri dan kanan yang juga berawal dari $\\mu$."
   ]
  },
  {
   "cell_type": "markdown",
   "metadata": {},
   "source": [
    "### hardness"
   ]
  },
  {
   "cell_type": "markdown",
   "metadata": {},
   "source": [
    "Deskripsi Statistik"
   ]
  },
  {
   "cell_type": "code",
   "execution_count": 193,
   "metadata": {},
   "outputs": [
    {
     "data": {
      "text/plain": [
       "count       2010.000000\n",
       "mean         195.969209\n",
       "std           32.643166\n",
       "min           73.492234\n",
       "25%          176.740657\n",
       "50%          197.203525\n",
       "75%          216.447589\n",
       "max          317.338124\n",
       "median       197.203525\n",
       "mode         201.667638\n",
       "variansi    1065.576277\n",
       "range        243.845890\n",
       "IQR           39.706932\n",
       "skewness      -0.085321\n",
       "kurtosis       0.525480\n",
       "Name: hardness, dtype: float64"
      ]
     },
     "execution_count": 193,
     "metadata": {},
     "output_type": "execute_result"
    }
   ],
   "source": [
    "# deskripsi statistik\n",
    "desc = df[\"hardness\"].describe()\n",
    "desc.loc[\"median\"] = df[\"hardness\"].median()\n",
    "\n",
    "# estimasi modus dengan menggunakan bantuan histogram\n",
    "counts, bins = np.histogram(df[\"hardness\"], bins=\"auto\")\n",
    "max_bin = np.argmax(counts)\n",
    "desc.loc[\"mode\"] = bins[max_bin:max_bin+2].mean()\n",
    "\n",
    "desc.loc[\"variansi\"] = df[\"hardness\"].var()\n",
    "desc.loc[\"range\"] = df[\"hardness\"].max() - df[\"hardness\"].min()\n",
    "desc.loc[\"IQR\"] = desc.loc[\"75%\"] - desc.loc[\"25%\"]\n",
    "desc.loc[\"skewness\"] = df[\"hardness\"].skew()\n",
    "desc.loc[\"kurtosis\"] = df[\"hardness\"].kurtosis()\n",
    "\n",
    "desc\n"
   ]
  },
  {
   "cell_type": "markdown",
   "metadata": {},
   "source": [
    "Visualisasi"
   ]
  },
  {
   "cell_type": "code",
   "execution_count": 194,
   "metadata": {},
   "outputs": [
    {
     "data": {
      "text/plain": [
       "<AxesSubplot:xlabel='hardness', ylabel='Count'>"
      ]
     },
     "execution_count": 194,
     "metadata": {},
     "output_type": "execute_result"
    },
    {
     "data": {
      "image/png": "[encoded data removed]",
      "text/plain": [
       "<Figure size 432x288 with 1 Axes>"
      ]
     },
     "metadata": {
      "needs_background": "light"
     },
     "output_type": "display_data"
    }
   ],
   "source": [
    "# histogram\n",
    "sns.histplot(df[\"hardness\"], kde=True) # kde=True menampilkan grafik kumulatif (garis tipis)"
   ]
  },
  {
   "cell_type": "code",
   "execution_count": 195,
   "metadata": {},
   "outputs": [
    {
     "data": {
      "text/plain": [
       "<AxesSubplot:>"
      ]
     },
     "execution_count": 195,
     "metadata": {},
     "output_type": "execute_result"
    },
    {
     "data": {
      "image/png": "[encoded data removed]",
      "text/plain": [
       "<Figure size 432x288 with 1 Axes>"
      ]
     },
     "metadata": {
      "needs_background": "light"
     },
     "output_type": "display_data"
    }
   ],
   "source": [
    "# boxplot\n",
    "df.boxplot(column=\"hardness\")"
   ]
  },
  {
   "cell_type": "markdown",
   "metadata": {},
   "source": [
    "- Histogram  \n",
    "Terlihat pada grafik nilai modus, median memiliki nilai yang haampir sama yaitu sekitar 200. Jika dihitung, nilai rata rata juga mendekati 200. Grafik terlihat simetris, namun pada daerah sekitar 250 - 300, terjadi pelandaian yang membuat grafik tidak terlihat simetris lagi. Dapat dikatakan, grafik masih terlihat berdistribusi normal\n",
    "\n",
    "- Boxplot  \n",
    "Jarak antara Q1 dan Q3 masih terlihat simetris dan nilai rata rata terlihat sama dengan median. Jumlah outlier banyak menumpuk di atas maksimal dan lebih menyebar pada bagian bawah minimum. Dapat dikatakan, grafik masih terlihat berdistribusi normal"
   ]
  },
  {
   "cell_type": "markdown",
   "metadata": {},
   "source": [
    "Normality test"
   ]
  },
  {
   "cell_type": "code",
   "execution_count": 196,
   "metadata": {},
   "outputs": [
    {
     "name": "stdout",
     "output_type": "stream",
     "text": [
      "hardness is not normal\n"
     ]
    }
   ],
   "source": [
    "# statistical tests\n",
    "\n",
    "stat, p = stats.normaltest(df[\"hardness\"])\n",
    "if p < 0.05: # p < 0.05 menunjukkan bahwa data tidak normal\n",
    "    print(\"hardness is not normal\")\n",
    "else:\n",
    "    print(\"hardness is normal\")"
   ]
  },
  {
   "cell_type": "markdown",
   "metadata": {},
   "source": [
    "Graphical methods  \n",
    "Jika dikaitkan dengan grafik, penyebab yang membuat kolom hardness ternyata tidak nomal adalah adanya ketidaksimetrisan pada data di antara 250 - 300"
   ]
  },
  {
   "cell_type": "markdown",
   "metadata": {},
   "source": [
    "### solids"
   ]
  },
  {
   "cell_type": "markdown",
   "metadata": {},
   "source": [
    "Deskripsi Statistik"
   ]
  },
  {
   "cell_type": "code",
   "execution_count": 197,
   "metadata": {},
   "outputs": [
    {
     "data": {
      "text/plain": [
       "count       2.010000e+03\n",
       "mean        2.190467e+04\n",
       "std         8.625398e+03\n",
       "min         3.209426e+02\n",
       "25%         1.561441e+04\n",
       "50%         2.092688e+04\n",
       "75%         2.717053e+04\n",
       "max         5.648867e+04\n",
       "median      2.092688e+04\n",
       "mode        1.934550e+04\n",
       "variansi    7.439749e+07\n",
       "range       5.616773e+04\n",
       "IQR         1.155612e+04\n",
       "skewness    5.910114e-01\n",
       "kurtosis    3.373203e-01\n",
       "Name: solids, dtype: float64"
      ]
     },
     "execution_count": 197,
     "metadata": {},
     "output_type": "execute_result"
    }
   ],
   "source": [
    "# deskripsi statistik\n",
    "desc = df[\"solids\"].describe()\n",
    "desc.loc[\"median\"] = df[\"solids\"].median()\n",
    "\n",
    "# estimasi modus dengan menggunakan bantuan histogram\n",
    "counts, bins = np.histogram(df[\"solids\"], bins=\"auto\")\n",
    "max_bin = np.argmax(counts)\n",
    "desc.loc[\"mode\"] = bins[max_bin:max_bin+2].mean()\n",
    "\n",
    "desc.loc[\"variansi\"] = df[\"solids\"].var()\n",
    "desc.loc[\"range\"] = df[\"solids\"].max() - df[\"solids\"].min()\n",
    "desc.loc[\"IQR\"] = desc.loc[\"75%\"] - desc.loc[\"25%\"]\n",
    "desc.loc[\"skewness\"] = df[\"solids\"].skew()\n",
    "desc.loc[\"kurtosis\"] = df[\"solids\"].kurtosis()\n",
    "\n",
    "desc\n"
   ]
  },
  {
   "cell_type": "markdown",
   "metadata": {},
   "source": [
    "Visualisasi"
   ]
  },
  {
   "cell_type": "code",
   "execution_count": 198,
   "metadata": {},
   "outputs": [
    {
     "data": {
      "text/plain": [
       "<AxesSubplot:xlabel='solids', ylabel='Count'>"
      ]
     },
     "execution_count": 198,
     "metadata": {},
     "output_type": "execute_result"
    },
    {
     "data": {
      "image/png": "[encoded data removed]",
      "text/plain": [
       "<Figure size 432x288 with 1 Axes>"
      ]
     },
     "metadata": {
      "needs_background": "light"
     },
     "output_type": "display_data"
    }
   ],
   "source": [
    "# histogram\n",
    "sns.histplot(df[\"solids\"], kde=True) # kde=True menampilkan grafik kumulatif (garis tipis)"
   ]
  },
  {
   "cell_type": "code",
   "execution_count": 199,
   "metadata": {},
   "outputs": [
    {
     "data": {
      "text/plain": [
       "<AxesSubplot:>"
      ]
     },
     "execution_count": 199,
     "metadata": {},
     "output_type": "execute_result"
    },
    {
     "data": {
      "image/png": "[encoded data removed]",
      "text/plain": [
       "<Figure size 432x288 with 1 Axes>"
      ]
     },
     "metadata": {
      "needs_background": "light"
     },
     "output_type": "display_data"
    }
   ],
   "source": [
    "# boxplot\n",
    "df.boxplot(column=\"solids\")"
   ]
  },
  {
   "cell_type": "markdown",
   "metadata": {},
   "source": [
    "- Histogram  \n",
    "Terlihat pada grafik, nilai modus cenderung berada di sebelah kiri dari median. grafik tidak terlihat simetris. Dapat dikatakan, grafik tidak berdistribusi normal. Ini didukung dengan nilai skewness yang lebih dari 0.5 menandakan grafik adalah positive skew.\n",
    "\n",
    "- Boxplot  \n",
    "Nilai median tidak terletak di tengah data. Terdapat banyak outlier yang berada di daerah luar maksimum, sedangkan pada daerah di luar minimum tidak ada. Ini mengindikasikan bahwa distribusi data tidak simetris. Dapat dikatakan, grafik tidak berdistribusi normal."
   ]
  },
  {
   "cell_type": "markdown",
   "metadata": {},
   "source": [
    "Normality test"
   ]
  },
  {
   "cell_type": "code",
   "execution_count": 200,
   "metadata": {},
   "outputs": [
    {
     "name": "stdout",
     "output_type": "stream",
     "text": [
      "solids is not normal\n"
     ]
    }
   ],
   "source": [
    "# statistical tests\n",
    "\n",
    "stat, p = stats.normaltest(df[\"solids\"])\n",
    "if p < 0.05: # p < 0.05 menunjukkan bahwa data tidak normal\n",
    "    print(\"solids is not normal\")\n",
    "else:\n",
    "    print(\"solids is normal\")"
   ]
  },
  {
   "cell_type": "markdown",
   "metadata": {},
   "source": [
    "Graphical methods  \n",
    "Hasil tes mengatakan bahwa grafik solids tidak normal. Hal ini mendukung bahwa memang benar grafik tidak berdistribusi normal, cenderung berbentuk positif skew."
   ]
  },
  {
   "cell_type": "markdown",
   "metadata": {},
   "source": [
    "### chloramines"
   ]
  },
  {
   "cell_type": "markdown",
   "metadata": {},
   "source": [
    "Deskripsi Statistik"
   ]
  },
  {
   "cell_type": "code",
   "execution_count": 201,
   "metadata": {},
   "outputs": [
    {
     "data": {
      "text/plain": [
       "count       2010.000000\n",
       "mean           7.134322\n",
       "std            1.585214\n",
       "min            1.390871\n",
       "25%            6.138326\n",
       "50%            7.142014\n",
       "75%            8.109933\n",
       "max           13.127000\n",
       "median         7.142014\n",
       "mode           7.722204\n",
       "variansi       2.512904\n",
       "range         11.736129\n",
       "IQR            1.971607\n",
       "skewness       0.013003\n",
       "kurtosis       0.549782\n",
       "Name: chloramines, dtype: float64"
      ]
     },
     "execution_count": 201,
     "metadata": {},
     "output_type": "execute_result"
    }
   ],
   "source": [
    "# deskripsi statistik\n",
    "desc = df[\"chloramines\"].describe()\n",
    "desc.loc[\"median\"] = df[\"chloramines\"].median()\n",
    "\n",
    "# estimasi modus dengan menggunakan bantuan histogram\n",
    "counts, bins = np.histogram(df[\"chloramines\"], bins=\"auto\")\n",
    "max_bin = np.argmax(counts)\n",
    "desc.loc[\"mode\"] = bins[max_bin:max_bin+2].mean()\n",
    "\n",
    "desc.loc[\"variansi\"] = df[\"chloramines\"].var()\n",
    "desc.loc[\"range\"] = df[\"chloramines\"].max() - df[\"chloramines\"].min()\n",
    "desc.loc[\"IQR\"] = desc.loc[\"75%\"] - desc.loc[\"25%\"]\n",
    "desc.loc[\"skewness\"] = df[\"chloramines\"].skew()\n",
    "desc.loc[\"kurtosis\"] = df[\"chloramines\"].kurtosis()\n",
    "\n",
    "desc\n"
   ]
  },
  {
   "cell_type": "markdown",
   "metadata": {},
   "source": [
    "Visualisasi"
   ]
  },
  {
   "cell_type": "code",
   "execution_count": 202,
   "metadata": {},
   "outputs": [
    {
     "data": {
      "text/plain": [
       "<AxesSubplot:xlabel='chloramines', ylabel='Count'>"
      ]
     },
     "execution_count": 202,
     "metadata": {},
     "output_type": "execute_result"
    },
    {
     "data": {
      "image/png": "[encoded data removed]",
      "text/plain": [
       "<Figure size 432x288 with 1 Axes>"
      ]
     },
     "metadata": {
      "needs_background": "light"
     },
     "output_type": "display_data"
    }
   ],
   "source": [
    "# histogram\n",
    "sns.histplot(df[\"chloramines\"], kde=True) # kde=True menampilkan grafik kumulatif (garis tipis)"
   ]
  },
  {
   "cell_type": "code",
   "execution_count": 203,
   "metadata": {},
   "outputs": [
    {
     "data": {
      "text/plain": [
       "<AxesSubplot:>"
      ]
     },
     "execution_count": 203,
     "metadata": {},
     "output_type": "execute_result"
    },
    {
     "data": {
      "image/png": "[encoded data removed]",
      "text/plain": [
       "<Figure size 432x288 with 1 Axes>"
      ]
     },
     "metadata": {
      "needs_background": "light"
     },
     "output_type": "display_data"
    }
   ],
   "source": [
    "# boxplot\n",
    "df.boxplot(column=\"chloramines\")"
   ]
  },
  {
   "cell_type": "markdown",
   "metadata": {},
   "source": [
    "- Histogram  \n",
    "terlihat pada grafik, nilai modus tidak berada di tengah tengah grafik. Meskipun jika diperhatikan nilai median dan rata rata sama. Grafik juga tidak simetris dan kurang membentuk bell curve. Dapat dikatakan grafik tersebut tidak berdistribusi normal.\n",
    "\n",
    "- Boxplot  \n",
    "median terdapat di tengah tengah data. Sekilas, jarak Q1 dnegan Q2 lebih lebar daripada Q3 dengan Q2, ini berarti distribui kurang simetris. Persebaran data lebih banyak terdapat di bagian luar batas maksimum. Dapat dikatakan grafik tidak berdistribusi normal."
   ]
  },
  {
   "cell_type": "markdown",
   "metadata": {},
   "source": [
    "Normality test"
   ]
  },
  {
   "cell_type": "code",
   "execution_count": 204,
   "metadata": {},
   "outputs": [
    {
     "name": "stdout",
     "output_type": "stream",
     "text": [
      "chloramines is not normal\n"
     ]
    }
   ],
   "source": [
    "# statistical tests\n",
    "\n",
    "stat, p = stats.normaltest(df[\"chloramines\"])\n",
    "if p < 0.05: # p < 0.05 menunjukkan bahwa data tidak normal\n",
    "    print(\"chloramines is not normal\")\n",
    "else:\n",
    "    print(\"chloramines is normal\")"
   ]
  },
  {
   "cell_type": "markdown",
   "metadata": {},
   "source": [
    "Graphical methods  \n",
    "Hasil normality test mendukung bahwa grafik memang terlihat tidak berdistribusi normal karena kurang terlihat membentuk bell curve."
   ]
  },
  {
   "cell_type": "markdown",
   "metadata": {},
   "source": [
    "### sulfate"
   ]
  },
  {
   "cell_type": "markdown",
   "metadata": {},
   "source": [
    "Deskripsi Statistik"
   ]
  },
  {
   "cell_type": "code",
   "execution_count": 205,
   "metadata": {},
   "outputs": [
    {
     "data": {
      "text/plain": [
       "count       2010.000000\n",
       "mean         333.211376\n",
       "std           41.211111\n",
       "min          129.000000\n",
       "25%          307.626986\n",
       "50%          332.214113\n",
       "75%          359.268147\n",
       "max          481.030642\n",
       "median       332.214113\n",
       "mode         325.017062\n",
       "variansi    1698.355672\n",
       "range        352.030642\n",
       "IQR           51.641161\n",
       "skewness      -0.045728\n",
       "kurtosis       0.786854\n",
       "Name: sulfate, dtype: float64"
      ]
     },
     "execution_count": 205,
     "metadata": {},
     "output_type": "execute_result"
    }
   ],
   "source": [
    "# deskripsi statistik\n",
    "desc = df[\"sulfate\"].describe()\n",
    "desc.loc[\"median\"] = df[\"sulfate\"].median()\n",
    "\n",
    "# estimasi modus dengan menggunakan bantuan histogram\n",
    "counts, bins = np.histogram(df[\"sulfate\"], bins=\"auto\")\n",
    "max_bin = np.argmax(counts)\n",
    "desc.loc[\"mode\"] = bins[max_bin:max_bin+2].mean()\n",
    "\n",
    "desc.loc[\"variansi\"] = df[\"sulfate\"].var()\n",
    "desc.loc[\"range\"] = df[\"sulfate\"].max() - df[\"sulfate\"].min()\n",
    "desc.loc[\"IQR\"] = desc.loc[\"75%\"] - desc.loc[\"25%\"]\n",
    "desc.loc[\"skewness\"] = df[\"sulfate\"].skew()\n",
    "desc.loc[\"kurtosis\"] = df[\"sulfate\"].kurtosis()\n",
    "\n",
    "desc\n"
   ]
  },
  {
   "cell_type": "markdown",
   "metadata": {},
   "source": [
    "Visualisasi"
   ]
  },
  {
   "cell_type": "code",
   "execution_count": 206,
   "metadata": {},
   "outputs": [
    {
     "data": {
      "text/plain": [
       "<AxesSubplot:xlabel='sulfate', ylabel='Count'>"
      ]
     },
     "execution_count": 206,
     "metadata": {},
     "output_type": "execute_result"
    },
    {
     "data": {
      "image/png": "[encoded data removed]",
      "text/plain": [
       "<Figure size 432x288 with 1 Axes>"
      ]
     },
     "metadata": {
      "needs_background": "light"
     },
     "output_type": "display_data"
    }
   ],
   "source": [
    "# histogram\n",
    "sns.histplot(df[\"sulfate\"], kde=True) # kde=True menampilkan grafik kumulatif (garis tipis)"
   ]
  },
  {
   "cell_type": "code",
   "execution_count": 207,
   "metadata": {},
   "outputs": [
    {
     "data": {
      "text/plain": [
       "<AxesSubplot:>"
      ]
     },
     "execution_count": 207,
     "metadata": {},
     "output_type": "execute_result"
    },
    {
     "data": {
      "image/png": "[encoded data removed]",
      "text/plain": [
       "<Figure size 432x288 with 1 Axes>"
      ]
     },
     "metadata": {
      "needs_background": "light"
     },
     "output_type": "display_data"
    }
   ],
   "source": [
    "# boxplot\n",
    "df.boxplot(column=\"sulfate\")"
   ]
  },
  {
   "cell_type": "markdown",
   "metadata": {},
   "source": [
    "- Histogram  \n",
    "Grafik membentuk bell curve, nilai median dan mean hampir sama. Ini mendukung untuk mengatakan grafik berdistribusi normal, tetapi grafik kurang terlihat simetris. Terlihat pada nilai < 250 yang lebih menyebar dibandingkan di sisi kanan median. Dapat dikatakan, grafik tidak berdistribusi normal.\n",
    "\n",
    "- Boxplot  \n",
    "Median cenderung berada di atas nilai tengah persebaran data. Q1 dan Q3 terlihat simetris. Namun ada banyak banyak sekali persebaran data di bawah nilai minumum. Ini dibuktikan dengan nilai skew yang negatif yang mengindikasikan grafik membentuk negatives skew."
   ]
  },
  {
   "cell_type": "markdown",
   "metadata": {},
   "source": [
    "Normality test"
   ]
  },
  {
   "cell_type": "code",
   "execution_count": 208,
   "metadata": {},
   "outputs": [
    {
     "name": "stdout",
     "output_type": "stream",
     "text": [
      "sulfate is not normal\n"
     ]
    }
   ],
   "source": [
    "# statistical tests\n",
    "\n",
    "stat, p = stats.normaltest(df[\"sulfate\"])\n",
    "if p < 0.05: # p < 0.05 menunjukkan bahwa data tidak normal\n",
    "    print(\"sulfate is not normal\")\n",
    "else:\n",
    "    print(\"sulfate is normal\")"
   ]
  },
  {
   "cell_type": "markdown",
   "metadata": {},
   "source": [
    "Graphical methods  \n",
    "Hasil statistical mendukung kesimpulan dari eyeballing terhadap histogram bahwa sulfate tidak berdisiribusi normal. Ini didukung dengan nilai skew yang terlalu negatif dan kurtosis yang > 0.5 membuat grafik terlihat seperti tertarik ke atas."
   ]
  },
  {
   "cell_type": "markdown",
   "metadata": {},
   "source": [
    "### conductivity"
   ]
  },
  {
   "cell_type": "markdown",
   "metadata": {},
   "source": [
    "Deskripsi Statistik"
   ]
  },
  {
   "cell_type": "code",
   "execution_count": 209,
   "metadata": {},
   "outputs": [
    {
     "data": {
      "text/plain": [
       "count       2.010000e+03\n",
       "mean        2.190467e+04\n",
       "std         8.625398e+03\n",
       "min         3.209426e+02\n",
       "25%         1.561441e+04\n",
       "50%         2.092688e+04\n",
       "75%         2.717053e+04\n",
       "max         5.648867e+04\n",
       "median      2.092688e+04\n",
       "mode        1.934550e+04\n",
       "variansi    7.439749e+07\n",
       "range       5.616773e+04\n",
       "IQR         1.155612e+04\n",
       "skewness    5.910114e-01\n",
       "kurtosis    3.373203e-01\n",
       "Name: solids, dtype: float64"
      ]
     },
     "execution_count": 209,
     "metadata": {},
     "output_type": "execute_result"
    }
   ],
   "source": [
    "# deskripsi statistik\n",
    "desc = df[\"solids\"].describe()\n",
    "desc.loc[\"median\"] = df[\"solids\"].median()\n",
    "\n",
    "# estimasi modus dengan menggunakan bantuan histogram\n",
    "counts, bins = np.histogram(df[\"solids\"], bins=\"auto\")\n",
    "max_bin = np.argmax(counts)\n",
    "desc.loc[\"mode\"] = bins[max_bin:max_bin+2].mean()\n",
    "\n",
    "desc.loc[\"variansi\"] = df[\"solids\"].var()\n",
    "desc.loc[\"range\"] = df[\"solids\"].max() - df[\"solids\"].min()\n",
    "desc.loc[\"IQR\"] = desc.loc[\"75%\"] - desc.loc[\"25%\"]\n",
    "desc.loc[\"skewness\"] = df[\"solids\"].skew()\n",
    "desc.loc[\"kurtosis\"] = df[\"solids\"].kurtosis()\n",
    "\n",
    "desc\n"
   ]
  },
  {
   "cell_type": "markdown",
   "metadata": {},
   "source": [
    "Visualisasi"
   ]
  },
  {
   "cell_type": "code",
   "execution_count": 210,
   "metadata": {},
   "outputs": [
    {
     "data": {
      "text/plain": [
       "<AxesSubplot:xlabel='solids', ylabel='Count'>"
      ]
     },
     "execution_count": 210,
     "metadata": {},
     "output_type": "execute_result"
    },
    {
     "data": {
      "image/png": "[encoded data removed]",
      "text/plain": [
       "<Figure size 432x288 with 1 Axes>"
      ]
     },
     "metadata": {
      "needs_background": "light"
     },
     "output_type": "display_data"
    }
   ],
   "source": [
    "# histogram\n",
    "sns.histplot(df[\"solids\"], kde=True) # kde=True menampilkan grafik kumulatif (garis tipis)"
   ]
  },
  {
   "cell_type": "code",
   "execution_count": 211,
   "metadata": {},
   "outputs": [
    {
     "data": {
      "text/plain": [
       "<AxesSubplot:>"
      ]
     },
     "execution_count": 211,
     "metadata": {},
     "output_type": "execute_result"
    },
    {
     "data": {
      "image/png": "[encoded data removed]",
      "text/plain": [
       "<Figure size 432x288 with 1 Axes>"
      ]
     },
     "metadata": {
      "needs_background": "light"
     },
     "output_type": "display_data"
    }
   ],
   "source": [
    "# boxplot\n",
    "df.boxplot(column=\"solids\")"
   ]
  },
  {
   "cell_type": "markdown",
   "metadata": {},
   "source": [
    "- Histogram  \n",
    "Grafik kurang membentuk bell curve. Modus berada di sebelah kiri dari median dan median berada di sebelah kiri mean. Ini menunjukkan bahwa grafik tidak berdistirbusi normal. Grafik terlihat membentuk positively skewed. Ini didukung dengan nilai skew yang positif degnan nilai > 0,5 (moderate skewed).\n",
    "\n",
    "- Boxplot  \n",
    "Nilai median tidak terdapat di tengah tengah persebaran data, nliai Q3 lebih lebar jaraknya terhadap median daripada Q1. Terdapat banyak sekali outlier di luar daerah maksimum. Ini berbanding terbalik dengan di luar daerah minimum yang tidak terdapat outlier sama sekali. Dapat dikatan grafik tidak berdistribusi normal."
   ]
  },
  {
   "cell_type": "markdown",
   "metadata": {},
   "source": [
    "Normality test"
   ]
  },
  {
   "cell_type": "code",
   "execution_count": 212,
   "metadata": {},
   "outputs": [
    {
     "name": "stdout",
     "output_type": "stream",
     "text": [
      "solids is not normal\n"
     ]
    }
   ],
   "source": [
    "# statistical tests\n",
    "\n",
    "stat, p = stats.normaltest(df[\"solids\"])\n",
    "if p < 0.05: # p < 0.05 menunjukkan bahwa data tidak normal\n",
    "    print(\"solids is not normal\")\n",
    "else:\n",
    "    print(\"solids is normal\")"
   ]
  },
  {
   "cell_type": "markdown",
   "metadata": {},
   "source": [
    "Graphical methods  \n",
    "Hasil statistical test mendukung penglihatan histogram bahwa grafik tidak berdistribusi normal. Grafik cenderung membentuk positively skewed."
   ]
  },
  {
   "cell_type": "markdown",
   "metadata": {},
   "source": [
    "### organic_carbon"
   ]
  },
  {
   "cell_type": "markdown",
   "metadata": {},
   "source": [
    "Deskripsi Statistik"
   ]
  },
  {
   "cell_type": "code",
   "execution_count": 213,
   "metadata": {},
   "outputs": [
    {
     "data": {
      "text/plain": [
       "count       2010.000000\n",
       "mean          14.357940\n",
       "std            3.325770\n",
       "min            2.200000\n",
       "25%           12.122530\n",
       "50%           14.323286\n",
       "75%           16.683562\n",
       "max           27.006707\n",
       "median        14.323286\n",
       "mode          12.477064\n",
       "variansi      11.060746\n",
       "range         24.806707\n",
       "IQR            4.561031\n",
       "skewness      -0.020220\n",
       "kurtosis       0.031018\n",
       "Name: organic_carbon, dtype: float64"
      ]
     },
     "execution_count": 213,
     "metadata": {},
     "output_type": "execute_result"
    }
   ],
   "source": [
    "# deskripsi statistik\n",
    "desc = df[\"organic_carbon\"].describe()\n",
    "desc.loc[\"median\"] = df[\"organic_carbon\"].median()\n",
    "\n",
    "# estimasi modus dengan menggunakan bantuan histogram\n",
    "counts, bins = np.histogram(df[\"organic_carbon\"], bins=\"auto\")\n",
    "max_bin = np.argmax(counts)\n",
    "desc.loc[\"mode\"] = bins[max_bin:max_bin+2].mean()\n",
    "\n",
    "desc.loc[\"variansi\"] = df[\"organic_carbon\"].var()\n",
    "desc.loc[\"range\"] = df[\"organic_carbon\"].max() - df[\"organic_carbon\"].min()\n",
    "desc.loc[\"IQR\"] = desc.loc[\"75%\"] - desc.loc[\"25%\"]\n",
    "desc.loc[\"skewness\"] = df[\"organic_carbon\"].skew()\n",
    "desc.loc[\"kurtosis\"] = df[\"organic_carbon\"].kurtosis()\n",
    "\n",
    "desc\n"
   ]
  },
  {
   "cell_type": "markdown",
   "metadata": {},
   "source": [
    "Visualisasi"
   ]
  },
  {
   "cell_type": "code",
   "execution_count": 214,
   "metadata": {},
   "outputs": [
    {
     "data": {
      "text/plain": [
       "<AxesSubplot:xlabel='organic_carbon', ylabel='Count'>"
      ]
     },
     "execution_count": 214,
     "metadata": {},
     "output_type": "execute_result"
    },
    {
     "data": {
      "image/png": "[encoded data removed]",
      "text/plain": [
       "<Figure size 432x288 with 1 Axes>"
      ]
     },
     "metadata": {
      "needs_background": "light"
     },
     "output_type": "display_data"
    }
   ],
   "source": [
    "# histogram\n",
    "sns.histplot(df[\"organic_carbon\"], kde=True) # kde=True menampilkan grafik kumulatif (garis tipis)"
   ]
  },
  {
   "cell_type": "code",
   "execution_count": 215,
   "metadata": {},
   "outputs": [
    {
     "data": {
      "text/plain": [
       "<AxesSubplot:>"
      ]
     },
     "execution_count": 215,
     "metadata": {},
     "output_type": "execute_result"
    },
    {
     "data": {
      "image/png": "[encoded data removed]",
      "text/plain": [
       "<Figure size 432x288 with 1 Axes>"
      ]
     },
     "metadata": {
      "needs_background": "light"
     },
     "output_type": "display_data"
    }
   ],
   "source": [
    "# boxplot\n",
    "df.boxplot(column=\"organic_carbon\")"
   ]
  },
  {
   "cell_type": "markdown",
   "metadata": {},
   "source": [
    "- Histogram  \n",
    "Nilai mean, modus, dan median hampir sama yaitu sekitar 14,3. Grafik juga tidak terlihat terlalu memuncak maupun melandai. Nilai median terdapat di tengah tengah distribusi data. Meksipun kemiringan grafik kurang simetris, tetapi tetap dapat dikatakan bahwa grafik berdistribusi normal.\n",
    "\n",
    "- Boxplot  \n",
    "Nilai median berada di tengah tengah distribusi data. Jarak Q1 dan Q3 juga simetris terhadap median. Jummlah outliear di kedua sisi seimbang. Dapat dikatakan grafik berdistribusi normal"
   ]
  },
  {
   "cell_type": "markdown",
   "metadata": {},
   "source": [
    "Normality test"
   ]
  },
  {
   "cell_type": "code",
   "execution_count": 216,
   "metadata": {},
   "outputs": [
    {
     "name": "stdout",
     "output_type": "stream",
     "text": [
      "organic_carbon is normal\n"
     ]
    }
   ],
   "source": [
    "# statistical tests\n",
    "\n",
    "stat, p = stats.normaltest(df[\"organic_carbon\"])\n",
    "if p < 0.05: # p < 0.05 menunjukkan bahwa data tidak normal\n",
    "    print(\"organic_carbon is not normal\")\n",
    "else:\n",
    "    print(\"organic_carbon is normal\")"
   ]
  },
  {
   "cell_type": "markdown",
   "metadata": {},
   "source": [
    "Graphical methods  \n",
    "Hasil statistical method mendukung nilai penglihatan pada histogram bahwa grafik berdistribusi normal."
   ]
  },
  {
   "cell_type": "markdown",
   "metadata": {},
   "source": [
    "### trihalomethanes"
   ]
  },
  {
   "cell_type": "markdown",
   "metadata": {},
   "source": [
    "Deskripsi Statistik"
   ]
  },
  {
   "cell_type": "code",
   "execution_count": 217,
   "metadata": {},
   "outputs": [
    {
     "data": {
      "text/plain": [
       "count       2010.000000\n",
       "mean          66.400717\n",
       "std           16.081109\n",
       "min            8.577013\n",
       "25%           55.949993\n",
       "50%           66.482041\n",
       "75%           77.294613\n",
       "max          124.000000\n",
       "median        66.482041\n",
       "mode          62.990707\n",
       "variansi     258.602066\n",
       "range        115.422987\n",
       "IQR           21.344620\n",
       "skewness      -0.051383\n",
       "kurtosis       0.223017\n",
       "Name: trihalomethanes, dtype: float64"
      ]
     },
     "execution_count": 217,
     "metadata": {},
     "output_type": "execute_result"
    }
   ],
   "source": [
    "# deskripsi statistik\n",
    "desc = df[\"trihalomethanes\"].describe()\n",
    "desc.loc[\"median\"] = df[\"trihalomethanes\"].median()\n",
    "\n",
    "# estimasi modus dengan menggunakan bantuan histogram\n",
    "counts, bins = np.histogram(df[\"trihalomethanes\"], bins=\"auto\")\n",
    "max_bin = np.argmax(counts)\n",
    "desc.loc[\"mode\"] = bins[max_bin:max_bin+2].mean()\n",
    "\n",
    "desc.loc[\"variansi\"] = df[\"trihalomethanes\"].var()\n",
    "desc.loc[\"range\"] = df[\"trihalomethanes\"].max() - df[\"trihalomethanes\"].min()\n",
    "desc.loc[\"IQR\"] = desc.loc[\"75%\"] - desc.loc[\"25%\"]\n",
    "desc.loc[\"skewness\"] = df[\"trihalomethanes\"].skew()\n",
    "desc.loc[\"kurtosis\"] = df[\"trihalomethanes\"].kurtosis()\n",
    "\n",
    "desc\n"
   ]
  },
  {
   "cell_type": "markdown",
   "metadata": {},
   "source": [
    "Visualisasi"
   ]
  },
  {
   "cell_type": "code",
   "execution_count": 218,
   "metadata": {},
   "outputs": [
    {
     "data": {
      "text/plain": [
       "<AxesSubplot:xlabel='trihalomethanes', ylabel='Count'>"
      ]
     },
     "execution_count": 218,
     "metadata": {},
     "output_type": "execute_result"
    },
    {
     "data": {
      "image/png": "[encoded data removed]",
      "text/plain": [
       "<Figure size 432x288 with 1 Axes>"
      ]
     },
     "metadata": {
      "needs_background": "light"
     },
     "output_type": "display_data"
    }
   ],
   "source": [
    "# histogram\n",
    "sns.histplot(df[\"trihalomethanes\"], kde=True) # kde=True menampilkan grafik kumulatif (garis tipis)"
   ]
  },
  {
   "cell_type": "code",
   "execution_count": 219,
   "metadata": {},
   "outputs": [
    {
     "data": {
      "text/plain": [
       "<AxesSubplot:>"
      ]
     },
     "execution_count": 219,
     "metadata": {},
     "output_type": "execute_result"
    },
    {
     "data": {
      "image/png": "[encoded data removed]",
      "text/plain": [
       "<Figure size 432x288 with 1 Axes>"
      ]
     },
     "metadata": {
      "needs_background": "light"
     },
     "output_type": "display_data"
    }
   ],
   "source": [
    "# boxplot\n",
    "df.boxplot(column=\"trihalomethanes\")"
   ]
  },
  {
   "cell_type": "markdown",
   "metadata": {},
   "source": [
    "- Histogram  \n",
    "Nilai mean, modus, dan median hampir sama yaitu sekitar 66,4. Grafik juga tidak terlihat terlalu memuncak maupun melandai. Nilai median terdapat di tengah tengah distribusi data. Meksipun kemiringan grafik kurang simetris, tetapi tetap dapat dikatakan bahwa grafik berdistribusi normal.\n",
    "\n",
    "- Boxplot  \n",
    "Nilai median berada di tengah tengah distribusi data. Jarak Q1 dan Q3 juga simetris terhadap median. Jummlah outliear di kedua sisi seimbang. Dapat dikatakan grafik berdistribusi normal"
   ]
  },
  {
   "cell_type": "markdown",
   "metadata": {},
   "source": [
    "Normality test"
   ]
  },
  {
   "cell_type": "code",
   "execution_count": 220,
   "metadata": {},
   "outputs": [
    {
     "name": "stdout",
     "output_type": "stream",
     "text": [
      "trihalomethanes is normal\n"
     ]
    }
   ],
   "source": [
    "# statistical tests\n",
    "\n",
    "stat, p = stats.normaltest(df[\"trihalomethanes\"])\n",
    "if p < 0.05: # p < 0.05 menunjukkan bahwa data tidak normal\n",
    "    print(\"trihalomethanes is not normal\")\n",
    "else:\n",
    "    print(\"trihalomethanes is normal\")"
   ]
  },
  {
   "cell_type": "markdown",
   "metadata": {},
   "source": [
    "Graphical methods  \n",
    "Hasil statistical method mendukung nilai penglihatan pada histogram bahwa grafik berdistribusi normal."
   ]
  },
  {
   "cell_type": "markdown",
   "metadata": {},
   "source": [
    "### turbidity"
   ]
  },
  {
   "cell_type": "markdown",
   "metadata": {},
   "source": [
    "Deskripsi Statistik"
   ]
  },
  {
   "cell_type": "code",
   "execution_count": 221,
   "metadata": {},
   "outputs": [
    {
     "data": {
      "text/plain": [
       "count       2010.000000\n",
       "mean           3.969497\n",
       "std            0.780471\n",
       "min            1.450000\n",
       "25%            3.442882\n",
       "50%            3.967374\n",
       "75%            4.514663\n",
       "max            6.494749\n",
       "median         3.967374\n",
       "mode           3.720137\n",
       "variansi       0.609135\n",
       "range          5.044749\n",
       "IQR            1.071781\n",
       "skewness      -0.032266\n",
       "kurtosis      -0.049831\n",
       "Name: turbidity, dtype: float64"
      ]
     },
     "execution_count": 221,
     "metadata": {},
     "output_type": "execute_result"
    }
   ],
   "source": [
    "# deskripsi statistik\n",
    "desc = df[\"turbidity\"].describe()\n",
    "desc.loc[\"median\"] = df[\"turbidity\"].median()\n",
    "\n",
    "# estimasi modus dengan menggunakan bantuan histogram\n",
    "counts, bins = np.histogram(df[\"turbidity\"], bins=\"auto\")\n",
    "max_bin = np.argmax(counts)\n",
    "desc.loc[\"mode\"] = bins[max_bin:max_bin+2].mean()\n",
    "\n",
    "desc.loc[\"variansi\"] = df[\"turbidity\"].var()\n",
    "desc.loc[\"range\"] = df[\"turbidity\"].max() - df[\"turbidity\"].min()\n",
    "desc.loc[\"IQR\"] = desc.loc[\"75%\"] - desc.loc[\"25%\"]\n",
    "desc.loc[\"skewness\"] = df[\"turbidity\"].skew()\n",
    "desc.loc[\"kurtosis\"] = df[\"turbidity\"].kurtosis()\n",
    "\n",
    "desc\n"
   ]
  },
  {
   "cell_type": "markdown",
   "metadata": {},
   "source": [
    "Visualisasi"
   ]
  },
  {
   "cell_type": "code",
   "execution_count": 222,
   "metadata": {},
   "outputs": [
    {
     "data": {
      "text/plain": [
       "<AxesSubplot:xlabel='turbidity', ylabel='Count'>"
      ]
     },
     "execution_count": 222,
     "metadata": {},
     "output_type": "execute_result"
    },
    {
     "data": {
      "image/png": "[encoded data removed]",
      "text/plain": [
       "<Figure size 432x288 with 1 Axes>"
      ]
     },
     "metadata": {
      "needs_background": "light"
     },
     "output_type": "display_data"
    }
   ],
   "source": [
    "# histogram\n",
    "sns.histplot(df[\"turbidity\"], kde=True) # kde=True menampilkan grafik kumulatif (garis tipis)"
   ]
  },
  {
   "cell_type": "code",
   "execution_count": 223,
   "metadata": {},
   "outputs": [
    {
     "data": {
      "text/plain": [
       "<AxesSubplot:>"
      ]
     },
     "execution_count": 223,
     "metadata": {},
     "output_type": "execute_result"
    },
    {
     "data": {
      "image/png": "[encoded data removed]",
      "text/plain": [
       "<Figure size 432x288 with 1 Axes>"
      ]
     },
     "metadata": {
      "needs_background": "light"
     },
     "output_type": "display_data"
    }
   ],
   "source": [
    "# boxplot\n",
    "df.boxplot(column=\"turbidity\")"
   ]
  },
  {
   "cell_type": "markdown",
   "metadata": {},
   "source": [
    "- Histogram  \n",
    "Nilai mean, modus, dan median hampir sama yaitu sekitar 3,96. Grafik juga tidak terlihat terlalu memuncak maupun melandai. Nilai median terdapat di tengah tengah distribusi data. Meksipun kemiringan grafik kurang simetris, tetapi tetap dapat dikatakan bahwa grafik berdistribusi normal.\n",
    "\n",
    "- Boxplot  \n",
    "Nilai median berada di tengah tengah distribusi data. Jarak Q1 dan Q3 juga simetris terhadap median. Jummlah outliear di kedua sisi seimbang. Dapat dikatakan grafik berdistribusi normal"
   ]
  },
  {
   "cell_type": "markdown",
   "metadata": {},
   "source": [
    "Normality test"
   ]
  },
  {
   "cell_type": "code",
   "execution_count": 224,
   "metadata": {},
   "outputs": [
    {
     "name": "stdout",
     "output_type": "stream",
     "text": [
      "turbidity is normal\n"
     ]
    }
   ],
   "source": [
    "# statistical tests\n",
    "\n",
    "stat, p = stats.normaltest(df[\"turbidity\"])\n",
    "if p < 0.05: # p < 0.05 menunjukkan bahwa data tidak normal\n",
    "    print(\"turbidity is not normal\")\n",
    "else:\n",
    "    print(\"turbidity is normal\")"
   ]
  },
  {
   "cell_type": "markdown",
   "metadata": {},
   "source": [
    "Graphical methods  \n",
    "Hasil statistical method mendukung nilai penglihatan pada histogram bahwa grafik berdistribusi normal."
   ]
  },
  {
   "cell_type": "markdown",
   "metadata": {},
   "source": [
    "## Tes Hipotesis\n",
    "> Untuk setiap hipotesis akan dituliskan 6 langkah testing beserta boxplot\n",
    "### 1 sampel\n",
    "a. Nilai rata-rata pH di atas 7?  \n",
    "1) Hipotesis nol H<sub>0</sub>:  $\\mu$ = 7  \n",
    "2) Hipotesis alternatif H<sub>1</sub>: $\\mu$ > 7  \n",
    "3) Tingkat signifikasi: α = 0.05  \n",
    "4) Uji statistik yang sesuai dan critical region  \n",
    "5) Uji statistik dari data sample dan p-value  "
   ]
  },
  {
   "cell_type": "code",
   "execution_count": 225,
   "metadata": {},
   "outputs": [
    {
     "name": "stdout",
     "output_type": "stream",
     "text": [
      "Digunakan uji statistik rata rata satu sampel menggunakan z test dengan mengganti sigma dengan s karena nilai n > 30\n",
      "\n",
      "== Informasi Sampel ==\n",
      "n = 2010\n",
      "Tingkat signifikansi α = 0.05\n",
      "std = 1.5728029470456655\n",
      "mean = 7.0871927687138285\n",
      "\n",
      "== Uji Statistik ==\n",
      "critical region > 1.6448536269514722\n",
      "z = 2.485445147379887\n",
      "p-value = 0.006469476288896462\n"
     ]
    }
   ],
   "source": [
    "print(\"Digunakan uji statistik rata rata satu sampel menggunakan z test dengan mengganti sigma dengan s karena nilai n > 30\")\n",
    "\n",
    "print(\"\\n== Informasi Sampel ==\")\n",
    "\n",
    "mu0 = 7         # H0: mu = 7\n",
    "n = df.shape[0] # banyak sampel\n",
    "print(\"n =\", n)\n",
    "\n",
    "α = 0.05\n",
    "print(\"Tingkat signifikansi α =\", α)\n",
    "\n",
    "s = df[\"pH\"].std()    # standar deviasi sampel\n",
    "print(\"std =\", s)\n",
    "\n",
    "mean = df[\"pH\"].mean()  # rata-rata sampel\n",
    "print(\"mean =\", mean)\n",
    "\n",
    "print(\"\\n== Uji Statistik ==\")\n",
    "critical_region = stats.norm.ppf(1 - α)\n",
    "print(\"critical region >\", critical_region)\n",
    "\n",
    "z = (mean - mu0) / (s / np.sqrt(n))\n",
    "print(\"z =\", z)\n",
    "\n",
    "p_value = stats.norm.sf(abs(z))\n",
    "print(\"p-value =\", p_value)\n"
   ]
  },
  {
   "cell_type": "markdown",
   "metadata": {},
   "source": [
    "6) Keputusan: "
   ]
  },
  {
   "cell_type": "code",
   "execution_count": 226,
   "metadata": {},
   "outputs": [
    {
     "name": "stdout",
     "output_type": "stream",
     "text": [
      "z > critical region\n",
      "p-value < α\n",
      "Hipotesis nol ditolak\n"
     ]
    }
   ],
   "source": [
    "if z > critical_region:\n",
    "    print(\"z > critical region\")\n",
    "else:\n",
    "    print(\"z <= critical region\")\n",
    "\n",
    "if p_value >= α:\n",
    "    print(\"p-value >= α\")\n",
    "else:\n",
    "    print(\"p-value < α\")\n",
    "\n",
    "if z > critical_region and p_value < α:\n",
    "    print(\"Hipotesis nol ditolak\")\n",
    "else:\n",
    "    print(\"Hipotesis nol diterima\")"
   ]
  },
  {
   "cell_type": "markdown",
   "metadata": {},
   "source": [
    "Boxplot"
   ]
  },
  {
   "cell_type": "code",
   "execution_count": 227,
   "metadata": {},
   "outputs": [
    {
     "data": {
      "text/plain": [
       "<AxesSubplot:>"
      ]
     },
     "execution_count": 227,
     "metadata": {},
     "output_type": "execute_result"
    },
    {
     "data": {
      "image/png": "[encoded data removed]",
      "text/plain": [
       "<Figure size 432x288 with 1 Axes>"
      ]
     },
     "metadata": {
      "needs_background": "light"
     },
     "output_type": "display_data"
    }
   ],
   "source": [
    "# boxplot ph\n",
    "df.boxplot(column=\"pH\")"
   ]
  },
  {
   "cell_type": "markdown",
   "metadata": {},
   "source": [
    "b. Nilai Rata-rata Hardness tidak sama dengan 205?  \n",
    "1) Hipotesis nol H<sub>0</sub>: $\\mu$ = 205  \n",
    "2) Hipotesis alternatif H<sub>1</sub>: $\\mu$ ≠ 205  \n",
    "3) Tingkat signifikasi: α = 0.05  \n",
    "4) Uji statistik yang sesuai dan critical region  \n",
    "5) Uji statistik dari data sample dan p-value  \n"
   ]
  },
  {
   "cell_type": "code",
   "execution_count": 266,
   "metadata": {},
   "outputs": [
    {
     "name": "stdout",
     "output_type": "stream",
     "text": [
      "Digunakan uji statistik rata rata satu sampel menggunakan z test dengan mengganti sigma dengan s karena nilai n > 30\n",
      "\n",
      "== Informasi Sampel ==\n",
      "n = 2010\n",
      "Tingkat signifikansi α = 0.05\n",
      "std = 32.643165859429864\n",
      "mean = 195.96920903783524\n",
      "\n",
      "== Uji Statistik ==\n",
      "critical region > 1.959963984540054\n",
      "atau\n",
      "critical region < -1.9599639845400545\n",
      "z = -12.403137170010732\n",
      "p-value = 2.5128904895144654e-35\n"
     ]
    }
   ],
   "source": [
    "print(\"Digunakan uji statistik rata rata satu sampel menggunakan z test dengan mengganti sigma dengan s karena nilai n > 30\")\n",
    "\n",
    "print(\"\\n== Informasi Sampel ==\")\n",
    "\n",
    "mu0 = 205         # H0: mu = 205\n",
    "n = df.shape[0] # banyak sampel\n",
    "print(\"n =\", n)\n",
    "\n",
    "α = 0.05\n",
    "print(\"Tingkat signifikansi α =\", α)\n",
    "\n",
    "s = df[\"hardness\"].std()    # standar deviasi sampel\n",
    "print(\"std =\", s)\n",
    "\n",
    "mean = df[\"hardness\"].mean()  # rata-rata sampel\n",
    "print(\"mean =\", mean)\n",
    "\n",
    "print(\"\\n== Uji Statistik ==\")\n",
    "critical_region_kanan = stats.norm.ppf(1 - α/2)\n",
    "critical_region_kiri = stats.norm.ppf(α/2)\n",
    "print(\"critical region >\", critical_region_kanan)\n",
    "print(\"atau\")\n",
    "print(\"critical region <\", critical_region_kiri)\n",
    "\n",
    "z = (mean - mu0) / (s / np.sqrt(n))\n",
    "print(\"z =\", z)\n",
    "\n",
    "p_value = 2 * stats.norm.sf(abs(z))\n",
    "print(\"p-value =\", p_value)\n"
   ]
  },
  {
   "cell_type": "markdown",
   "metadata": {},
   "source": [
    "6) Keputusan: \n"
   ]
  },
  {
   "cell_type": "code",
   "execution_count": 229,
   "metadata": {},
   "outputs": [
    {
     "name": "stdout",
     "output_type": "stream",
     "text": [
      "z < critical region kiri\n",
      "p-value < α\n",
      "Hipotesis nol ditolak\n"
     ]
    }
   ],
   "source": [
    "if z > critical_region_kanan:\n",
    "    print(\"z > critical region kanan\")\n",
    "elif z < critical_region_kiri:\n",
    "    print(\"z < critical region kiri\")\n",
    "else:\n",
    "    print(\"critical region kiri < z < critical region kanan\")\n",
    "\n",
    "if p_value >= α:\n",
    "    print(\"p-value >= α\")\n",
    "else:\n",
    "    print(\"p-value < α\")\n",
    "\n",
    "if (z > critical_region_kanan or z < critical_region_kiri) and p_value < α:\n",
    "    print(\"Hipotesis nol ditolak\")\n",
    "else:\n",
    "    print(\"Hipotesis nol diterima\")"
   ]
  },
  {
   "cell_type": "markdown",
   "metadata": {},
   "source": [
    "Boxplot"
   ]
  },
  {
   "cell_type": "code",
   "execution_count": 230,
   "metadata": {},
   "outputs": [
    {
     "data": {
      "text/plain": [
       "<AxesSubplot:>"
      ]
     },
     "execution_count": 230,
     "metadata": {},
     "output_type": "execute_result"
    },
    {
     "data": {
      "image/png": "[encoded data removed]",
      "text/plain": [
       "<Figure size 432x288 with 1 Axes>"
      ]
     },
     "metadata": {
      "needs_background": "light"
     },
     "output_type": "display_data"
    }
   ],
   "source": [
    "# boxplot hardness\n",
    "df.boxplot(column=\"hardness\")"
   ]
  },
  {
   "cell_type": "markdown",
   "metadata": {},
   "source": [
    "\n",
    "c. Nilai Rata-rata 100 baris pertama kolom Solids bukan 21900?  \n",
    "1) Hipotesis nol H<sub>0</sub>: $\\mu$ = 21900  \n",
    "2) Hipotesis alternatif H<sub>1</sub>: $\\mu$ ≠ 21900  \n",
    "3) Tingkat signifikasi: α = 0.05  \n",
    "4) Uji statistik yang sesuai dan critical region  \n",
    "5) Uji statistik dari data sample dan p-value  \n"
   ]
  },
  {
   "cell_type": "code",
   "execution_count": 231,
   "metadata": {},
   "outputs": [
    {
     "name": "stdout",
     "output_type": "stream",
     "text": [
      "Digunakan uji statistik rata rata satu sampel menggunakan z test dengan mengganti sigma dengan s karena nilai n > 30\n",
      "== Informasi Sampel ==\n",
      "n = 100\n",
      "Tingkat signifikansi α = 0.05\n",
      "s = 7935.967706199006\n",
      "mean = 22347.334446383426\n",
      "\n",
      "== Uji Statistik ==\n",
      "critical region > 1.959963984540054\n",
      "atau\n",
      "critical region < -1.9599639845400545\n",
      "z = 0.5636797715721551\n",
      "p-value = 0.5729720864655174\n"
     ]
    }
   ],
   "source": [
    "print(\"Digunakan uji statistik rata rata satu sampel menggunakan z test dengan mengganti sigma dengan s karena nilai n > 30\")\n",
    "\n",
    "print(\"== Informasi Sampel ==\")\n",
    "\n",
    "mu0 = 21900         # H0: mu = 21900\n",
    "n = 100 # banyak sampel\n",
    "print(\"n =\", n)\n",
    "\n",
    "α = 0.05\n",
    "print(\"Tingkat signifikansi α =\", α)\n",
    "\n",
    "s = df[\"solids\"][:100].std()    # standar deviasi sampel\n",
    "print(\"s =\", s)\n",
    "\n",
    "mean = df[\"solids\"][:100].mean()  # rata-rata sampel\n",
    "print(\"mean =\", mean)\n",
    "\n",
    "print(\"\\n== Uji Statistik ==\")\n",
    "critical_region_kanan = stats.norm.ppf(1 - α/2)\n",
    "critical_region_kiri = stats.norm.ppf(α/2)\n",
    "print(\"critical region >\", critical_region_kanan)\n",
    "print(\"atau\")\n",
    "print(\"critical region <\", critical_region_kiri)\n",
    "\n",
    "z = (mean - mu0) / (s / np.sqrt(n))\n",
    "print(\"z =\", z)\n",
    "\n",
    "p_value = 2 * stats.norm.sf(abs(z))\n",
    "print(\"p-value =\", p_value)\n"
   ]
  },
  {
   "cell_type": "markdown",
   "metadata": {},
   "source": [
    "6) keputusan: \n"
   ]
  },
  {
   "cell_type": "code",
   "execution_count": 232,
   "metadata": {},
   "outputs": [
    {
     "name": "stdout",
     "output_type": "stream",
     "text": [
      "critical region kiri < z < critical region kanan\n",
      "p-value >= α\n",
      "Hipotesis nol diterima\n"
     ]
    }
   ],
   "source": [
    "if z > critical_region_kanan:\n",
    "    print(\"z > critical region kanan\")\n",
    "elif z < critical_region_kiri:\n",
    "    print(\"z < critical region kiri\")\n",
    "else:\n",
    "    print(\"critical region kiri < z < critical region kanan\")\n",
    "\n",
    "if p_value >= α:\n",
    "    print(\"p-value >= α\")\n",
    "else:\n",
    "    print(\"p-value < α\")\n",
    "\n",
    "if (z > critical_region_kanan or z < critical_region_kiri) and p_value < α:\n",
    "    print(\"Hipotesis nol ditolak\")\n",
    "else:\n",
    "    print(\"Hipotesis nol diterima\")"
   ]
  },
  {
   "cell_type": "markdown",
   "metadata": {},
   "source": [
    "Boxplot"
   ]
  },
  {
   "cell_type": "code",
   "execution_count": 233,
   "metadata": {},
   "outputs": [
    {
     "data": {
      "text/plain": [
       "<AxesSubplot:>"
      ]
     },
     "execution_count": 233,
     "metadata": {},
     "output_type": "execute_result"
    },
    {
     "data": {
      "image/png": "[encoded data removed]",
      "text/plain": [
       "<Figure size 432x288 with 1 Axes>"
      ]
     },
     "metadata": {
      "needs_background": "light"
     },
     "output_type": "display_data"
    }
   ],
   "source": [
    "# boxplot 100 first row solids\n",
    "df_100_solids = df[:100]\n",
    "df_100_solids.boxplot(column=\"solids\")"
   ]
  },
  {
   "cell_type": "markdown",
   "metadata": {},
   "source": [
    "\n",
    "d. Proporsi nilai Conductivity yang lebih dari 450, adalah tidak sama dengan 10%?  \n",
    "1) Hipotesis nol H<sub>0</sub>: $\\hat{p}$ = 0.1  \n",
    "2) Hipotesis alternatif H<sub>1</sub>: $\\hat{p}$ ≠ 0.1  \n",
    "3) Tingkat signifikasi: α = 0.05  \n",
    "4) Uji statistik yang sesuai dan critical region  \n",
    "5) Uji statistik dari data sample dan p-value  \n"
   ]
  },
  {
   "cell_type": "code",
   "execution_count": 234,
   "metadata": {},
   "outputs": [
    {
     "name": "stdout",
     "output_type": "stream",
     "text": [
      "Digunakan uji statistik proporsi satu sampel menggunakan binomial didekati normal karena jumlan n > 30\n",
      "\n",
      "== Informasi Sampel ==\n",
      "x = 745\n",
      "n = 2010\n",
      "p0 = 0.1\n",
      "p_hat = 0.3706467661691542\n",
      "Tingkat signifikansi α = 0.05\n",
      "\n",
      "== Uji Statistik ==\n",
      "critical region > 1.959963984540054\n",
      "atau\n",
      "critical region < -1.9599639845400545\n",
      "z = 25.123117485249054\n",
      "p-value = 2.7805643687767913e-139\n"
     ]
    }
   ],
   "source": [
    "print(\"Digunakan uji statistik proporsi satu sampel menggunakan binomial didekati normal karena jumlan n > 30\")\n",
    "\n",
    "print(\"\\n== Informasi Sampel ==\")\n",
    "x = len(df[\"conductivity\"].loc[df[\"conductivity\"] > 450])\n",
    "print(\"x =\", x)\n",
    "\n",
    "n = len(df[\"conductivity\"]) # banyak sampel\n",
    "print(\"n =\", n)\n",
    "\n",
    "p0 = 0.1\n",
    "print(\"p0 =\", p0)\n",
    "\n",
    "p_hat = x / n\n",
    "print(\"p_hat =\", p_hat)\n",
    "\n",
    "α = 0.05\n",
    "print(\"Tingkat signifikansi α =\", α)\n",
    "\n",
    "print(\"\\n== Uji Statistik ==\")\n",
    "critical_region_kanan = stats.norm.ppf(1 - α/2)\n",
    "critical_region_kiri = stats.norm.ppf(α/2)\n",
    "print(\"critical region >\", critical_region_kanan)\n",
    "print(\"atau\")\n",
    "print(\"critical region <\", critical_region_kiri)\n",
    "\n",
    "z = (p_hat - p0) / np.sqrt(p_hat * (1 - p_hat) / n)\n",
    "print(\"z =\", z)\n",
    "\n",
    "p_value = 2 * stats.norm.sf(abs(z))\n",
    "print(\"p-value =\", p_value)\n"
   ]
  },
  {
   "cell_type": "markdown",
   "metadata": {},
   "source": [
    "6) Keputusan: \n"
   ]
  },
  {
   "cell_type": "code",
   "execution_count": 235,
   "metadata": {},
   "outputs": [
    {
     "name": "stdout",
     "output_type": "stream",
     "text": [
      "z > critical region kanan\n",
      "p-value < α\n",
      "Hipotesis nol ditolak\n"
     ]
    }
   ],
   "source": [
    "if z > critical_region_kanan:\n",
    "    print(\"z > critical region kanan\")\n",
    "elif z < critical_region_kiri:\n",
    "    print(\"z < critical region kiri\")\n",
    "else:\n",
    "    print(\"critical region kiri < z < critical region kanan\")\n",
    "\n",
    "if p_value >= α:\n",
    "    print(\"p-value >= α\")\n",
    "else:\n",
    "    print(\"p-value < α\")\n",
    "\n",
    "if (z > critical_region_kanan or z < critical_region_kiri) and p_value < α:\n",
    "    print(\"Hipotesis nol ditolak\")\n",
    "else:\n",
    "    print(\"Hipotesis nol diterima\")"
   ]
  },
  {
   "cell_type": "markdown",
   "metadata": {},
   "source": [
    "Boxplot"
   ]
  },
  {
   "cell_type": "code",
   "execution_count": 236,
   "metadata": {},
   "outputs": [
    {
     "data": {
      "text/plain": [
       "<AxesSubplot:>"
      ]
     },
     "execution_count": 236,
     "metadata": {},
     "output_type": "execute_result"
    },
    {
     "data": {
      "image/png": "[encoded data removed]",
      "text/plain": [
       "<Figure size 432x288 with 1 Axes>"
      ]
     },
     "metadata": {
      "needs_background": "light"
     },
     "output_type": "display_data"
    }
   ],
   "source": [
    "# boxplot conductivity\n",
    "df.boxplot(column=\"conductivity\")"
   ]
  },
  {
   "cell_type": "markdown",
   "metadata": {},
   "source": [
    "\n",
    "e. Proporsi nilai Trihalomethanes yang kurang dari 40, adalah kurang dari 5%?  \n",
    "1) Hipotesis nol H<sub>0</sub>: $\\hat{p}$ = 0.05  \n",
    "2) Hipotesis alternatif H<sub>1</sub>: $\\hat{p}$ < 0.05  \n",
    "3) Tingkat signifikasi: α = 0.05  \n",
    "4) Uji statistik yang sesuai dan critical region  \n",
    "5) Uji statistik dari data sample dan p-value  \n"
   ]
  },
  {
   "cell_type": "code",
   "execution_count": 237,
   "metadata": {},
   "outputs": [
    {
     "name": "stdout",
     "output_type": "stream",
     "text": [
      "Digunakan uji statistik proporsi satu sampel menggunakan binomial didekati normal karena jumlan n > 30\n",
      "\n",
      "== Informasi Sampel ==\n",
      "x = 106\n",
      "n = 2010\n",
      "p0 = 0.05\n",
      "p_hat = 0.0527363184079602\n",
      "Tingkat signifikansi α = 0.05\n",
      "\n",
      "== Uji Statistik ==\n",
      "critical region < -1.6448536269514729\n",
      "z = 0.5488760912378876\n",
      "p-value = 0.2915452434643749\n"
     ]
    }
   ],
   "source": [
    "print(\"Digunakan uji statistik proporsi satu sampel menggunakan binomial didekati normal karena jumlan n > 30\")\n",
    "\n",
    "print(\"\\n== Informasi Sampel ==\")\n",
    "x = len(df[\"trihalomethanes\"].loc[df[\"trihalomethanes\"] < 40])\n",
    "print(\"x =\", x)\n",
    "\n",
    "n = len(df[\"trihalomethanes\"]) # banyak sampel\n",
    "print(\"n =\", n)\n",
    "\n",
    "p0 = 0.05\n",
    "print(\"p0 =\", p0)\n",
    "\n",
    "p_hat = x / n\n",
    "print(\"p_hat =\", p_hat)\n",
    "\n",
    "α = 0.05\n",
    "print(\"Tingkat signifikansi α =\", α)\n",
    "\n",
    "print(\"\\n== Uji Statistik ==\")\n",
    "critical_region = stats.norm.ppf(α)\n",
    "print(\"critical region <\", critical_region)\n",
    "\n",
    "z = (p_hat - p0) / np.sqrt(p_hat * (1 - p_hat) / n)\n",
    "print(\"z =\", z)\n",
    "\n",
    "p_value = stats.norm.sf(abs(z))\n",
    "print(\"p-value =\", p_value)\n"
   ]
  },
  {
   "cell_type": "markdown",
   "metadata": {},
   "source": [
    "6) Keputusan: \n",
    "\n"
   ]
  },
  {
   "cell_type": "code",
   "execution_count": 238,
   "metadata": {},
   "outputs": [
    {
     "name": "stdout",
     "output_type": "stream",
     "text": [
      "z > critical region\n",
      "p-value >= α\n",
      "Hipotesis nol diterima\n"
     ]
    }
   ],
   "source": [
    "if z > critical_region:\n",
    "    print(\"z > critical region\")\n",
    "else:\n",
    "    print(\"z <= critical region\")\n",
    "\n",
    "if p_value >= α:\n",
    "    print(\"p-value >= α\")\n",
    "else:\n",
    "    print(\"p-value < α\")\n",
    "\n",
    "if (z < critical_region) and p_value < α:\n",
    "    print(\"Hipotesis nol ditolak\")\n",
    "else:\n",
    "    print(\"Hipotesis nol diterima\")"
   ]
  },
  {
   "cell_type": "markdown",
   "metadata": {},
   "source": [
    "Boxplot"
   ]
  },
  {
   "cell_type": "code",
   "execution_count": 239,
   "metadata": {},
   "outputs": [
    {
     "data": {
      "text/plain": [
       "<AxesSubplot:>"
      ]
     },
     "execution_count": 239,
     "metadata": {},
     "output_type": "execute_result"
    },
    {
     "data": {
      "image/png": "[encoded data removed]",
      "text/plain": [
       "<Figure size 432x288 with 1 Axes>"
      ]
     },
     "metadata": {
      "needs_background": "light"
     },
     "output_type": "display_data"
    }
   ],
   "source": [
    "# boxplot trihalomethanes\n",
    "df.boxplot(column=\"trihalomethanes\")"
   ]
  },
  {
   "cell_type": "markdown",
   "metadata": {},
   "source": [
    "### 2 sampel\n",
    "a. Data kolom Sulfate dibagi 2 sama rata: bagian awal dan bagian akhir kolom. Benarkah rata-rata kedua bagian tersebut sama?\n",
    "\n",
    "μ1 = rata-rata bagian awal <br>\n",
    "μ2 = rata-rata bagian akhir\n",
    "\n",
    "1) Hipotesis nol: H<sub>0</sub> = (μ1 - μ2 = 0) <br> \n",
    "2) Hipotesis alternatif: H<sub>1</sub> = (μ1 - μ2 $\\ne$ 0)  \n",
    "3) Tingkat signifikasi: $\\alpha$ = 0.05  \n",
    "\n",
    "Daerah kritis $z < -z_{\\alpha_{/2}} \\lor z > z_{\\alpha_{/2}}$\n",
    "\n",
    "Terdapat 2010 instance/individu dalam populasi, sehingga bagian awal berjumlah 1005 instance dan bagian akhir berjumlah 1005 instance\n",
    "\n",
    "Uji hipotesis dilakukan dengan menghitung Z dari sampel bagian awal dan sampel bagian akhir\n",
    "\n",
    "$$ z = \\frac{(\\bar{x_{1}} - \\bar{x_{2}}) - d_{0}} {\\sqrt{\\sigma_{1}^{2}/n_{1} + \\sigma_{2}^{2}/n_{2}}}$$\n",
    "\n",
    "Z akan dibandingkan dengan daerah kritis yang telah ditentukan berdasarkan $\\alpha$\n",
    "\n",
    "Lalu, juga dilakukan test p value dengan membandingkan nilai probabilitas Z dengan nilai $\\alpha$\n",
    "\n",
    "Jika Z memasuki daerah kritis atau p value kurang dari $\\alpha$, maka dapat diambil kesimpulan H0 ditolak\n",
    "\n",
    "Jika Z di luar daerah kritis dan p value lebih dari $\\alpha$, maka H0 diterima"
   ]
  },
  {
   "cell_type": "markdown",
   "metadata": {},
   "source": [
    "4) Uji statistik yang sesuai dan critical region"
   ]
  },
  {
   "cell_type": "code",
   "execution_count": 240,
   "metadata": {},
   "outputs": [
    {
     "data": {
      "text/plain": [
       "[]"
      ]
     },
     "execution_count": 240,
     "metadata": {},
     "output_type": "execute_result"
    },
    {
     "data": {
      "image/png": "[encoded data removed]",
      "text/plain": [
       "<Figure size 576x864 with 2 Axes>"
      ]
     },
     "metadata": {
      "needs_background": "light"
     },
     "output_type": "display_data"
    }
   ],
   "source": [
    "α = 0.05\n",
    "sulfateAwal = df[\"sulfate\"][:len(df)//2]\n",
    "nAwal5a = len(sulfateAwal)\n",
    "miuAwal5a = sulfateAwal.mean()\n",
    "sigmaAwal5a = sulfateAwal.std()\n",
    "\n",
    "sulfateAkhir = df[\"sulfate\"][len(df)//2:]\n",
    "nAkhir5a = len(sulfateAkhir)\n",
    "miuAkhir5a = sulfateAkhir.mean()\n",
    "sigmaAkhir5a = sulfateAkhir.std()\n",
    "\n",
    "fig, axs = plt.subplots(2, figsize=(8,12))\n",
    "\n",
    "sulfateAwal.plot.box(label = \"Sulfate bagian awal\", ax=axs[0])\n",
    "sulfateAkhir.plot.box(label = \"Sulfate bagian akhir\", ax=axs[1])\n",
    "plt.plot()"
   ]
  },
  {
   "cell_type": "markdown",
   "metadata": {},
   "source": [
    "5) Uji statistik dari data sample dan p-value"
   ]
  },
  {
   "cell_type": "code",
   "execution_count": 241,
   "metadata": {},
   "outputs": [
    {
     "name": "stdout",
     "output_type": "stream",
     "text": [
      "Nilai z adalah -2.0752690696871983\n",
      "Nilai p adalah 0.0379616043851286\n",
      "Nilai kritis adalah -1.959963984540054 dan 1.959963984540054\n",
      "\n",
      "Rentang kritis : Z < -1.959963984540054 atau Z > 1.959963984540054\n"
     ]
    }
   ],
   "source": [
    "d0 = 0\n",
    "z5a = ((miuAwal5a-miuAkhir5a)-d0)/np.sqrt((pow(sigmaAwal5a,2)/nAwal5a)+(pow(sigmaAkhir5a,2)/nAkhir5a))\n",
    "criticalValue5a = (stats.norm.ppf(1-α/2))\n",
    "if z5a < 0:\n",
    "  pValue5a = 2*(stats.norm.cdf(z5a))\n",
    "else:\n",
    "  pValue5a = 2*(stats.norm.sf(z5a))\n",
    "print(\"Nilai z adalah \" + str(z5a))\n",
    "print(\"Nilai p adalah \" + str(pValue5a))\n",
    "print(\"Nilai kritis adalah \" + str(-criticalValue5a) + \" dan \" + str(criticalValue5a))\n",
    "print()\n",
    "print(f\"Rentang kritis : Z < {-criticalValue5a} atau Z > {criticalValue5a}\")"
   ]
  },
  {
   "cell_type": "markdown",
   "metadata": {},
   "source": [
    "\n",
    "6) Keputusan :"
   ]
  },
  {
   "cell_type": "code",
   "execution_count": 242,
   "metadata": {},
   "outputs": [
    {
     "name": "stdout",
     "output_type": "stream",
     "text": [
      "Z masuk dalam daerah kritis, H0 pasti ditolak\n",
      "P value kurang dari alpha, H0 pasti ditolak\n",
      "Karena salah satu syarat ditolak, maka kesimpulannya H0 ditolak\n",
      "Sehingga rata-rata kedua bagian itu tidak sama\n"
     ]
    }
   ],
   "source": [
    "if z5a > criticalValue5a or z5a < -criticalValue5a:\n",
    "    print(\"Z masuk dalam daerah kritis, H0 pasti ditolak\")\n",
    "else:\n",
    "    print(\"Z di luar daerah kritis, H0 mungkin diterima\")\n",
    "\n",
    "if pValue5a < α:\n",
    "    print(\"P value kurang dari alpha, H0 pasti ditolak\")\n",
    "else:\n",
    "    print(\"P value lebih dari alpha, H0 mungkin diterima\")\n",
    "\n",
    "if (z5a > criticalValue5a or z5a < -criticalValue5a) or (pValue5a < α):\n",
    "    print(\"Karena salah satu syarat ditolak, maka kesimpulannya H0 ditolak\")\n",
    "    print(\"Sehingga rata-rata kedua bagian itu tidak sama\")\n",
    "else:\n",
    "    print(\"Karena kedua syarat terpenuhi, maka kesimpulannya H0 diterima\")\n",
    "    print(\"Sehingga rata-rata kedua bagian itu sama\")"
   ]
  },
  {
   "cell_type": "markdown",
   "metadata": {},
   "source": [
    "b. Data kolom OrganicCarbon dibagi 2 sama rata: bagian awal dan bagian akhir kolom. Benarkah rata-rata bagian awal lebih besar dari pada bagian akhir sebesar 0.15? \n",
    "\n",
    "μ1 = rata-rata bagian awal <br>\n",
    "μ2 = rata-rata bagian akhir\n",
    "\n",
    "1. Hipotesis nol: H<sub>0</sub> =  (μ1 - μ2 = 0.15) <br>  \n",
    "2. Hipotesis alternatif: H<sub>1</sub> = (μ1 - μ2 $\\ne$ 0.15)  \n",
    "3. Tingkat signifikasi: $\\alpha$ = 0.05  \n",
    "\n",
    "Daerah kritis $z < -z_{\\alpha_{/2}} \\lor z > z_{\\alpha_{/2}}$\n",
    "\n",
    "Terdapat 2010 instance/individu dalam populasi, sehingga bagian awal berjumlah 1005 instance dan bagian akhir berjumlah 1005 instance\n",
    "\n",
    "Uji hipotesis dilakukan dengan menghitung Z dari sampel bagian awal dan sampel bagian akhir\n",
    "\n",
    "$$ z = \\frac{(\\bar{x_{1}} - \\bar{x_{2}}) - d_{0}} {\\sqrt{\\sigma_{1}^{2}/n_{1} + \\sigma_{2}^{2}/n_{2}}}$$\n",
    "\n",
    "Z akan dibandingkan dengan daerah kritis yang telah ditentukan berdasarkan $\\alpha$\n",
    "\n",
    "Lalu, juga dilakukan test p value dengan membandingkan nilai probabilitas Z dengan nilai $\\alpha$\n",
    "\n",
    "Jika Z memasuki daerah kritis atau p value kurang dari $\\alpha$, maka dapat diambil kesimpulan H0 ditolak\n",
    "\n",
    "Jika Z di luar daerah kritis dan p value lebih dari $\\alpha$, maka H0 diterima"
   ]
  },
  {
   "cell_type": "markdown",
   "metadata": {},
   "source": [
    "4) Uji statistik yang sesuai dan critical region"
   ]
  },
  {
   "cell_type": "code",
   "execution_count": 243,
   "metadata": {},
   "outputs": [
    {
     "data": {
      "text/plain": [
       "[]"
      ]
     },
     "execution_count": 243,
     "metadata": {},
     "output_type": "execute_result"
    },
    {
     "data": {
      "image/png": "[encoded data removed]",
      "text/plain": [
       "<Figure size 576x864 with 2 Axes>"
      ]
     },
     "metadata": {
      "needs_background": "light"
     },
     "output_type": "display_data"
    }
   ],
   "source": [
    "α = 0.05\n",
    "organicCarbonAwal = df[\"organic_carbon\"][:len(df)//2]\n",
    "nAwal5b = len(organicCarbonAwal)\n",
    "miuAwal5b = organicCarbonAwal.mean()\n",
    "sigmaAwal5b = organicCarbonAwal.std()\n",
    "\n",
    "organicCarbonAkhir = df[\"organic_carbon\"][len(df)//2:]\n",
    "nAkhir5b = len(organicCarbonAkhir)\n",
    "miuAkhir5b = organicCarbonAkhir.mean()\n",
    "sigmaAkhir5b = organicCarbonAkhir.std()\n",
    "\n",
    "fig, axs = plt.subplots(2, figsize=(8,12))\n",
    "\n",
    "organicCarbonAwal.plot.box(label = \"Organic Carbon bagian awal\", ax=axs[0])\n",
    "organicCarbonAkhir.plot.box(label = \"Organic Carbon bagian akhir\", ax=axs[1])\n",
    "plt.plot()"
   ]
  },
  {
   "cell_type": "markdown",
   "metadata": {},
   "source": [
    "5) Uji statistik dari data sample dan p-value"
   ]
  },
  {
   "cell_type": "code",
   "execution_count": 244,
   "metadata": {},
   "outputs": [
    {
     "name": "stdout",
     "output_type": "stream",
     "text": [
      "Nilai z adalah -2.413145517798807\n",
      "Nilai p adalah 0.01581550381760006\n",
      "Nilai kritis adalah -1.959963984540054 dan 1.959963984540054\n",
      "\n",
      "Rentang kritis : Z < -1.959963984540054 atau Z > 1.959963984540054\n"
     ]
    }
   ],
   "source": [
    "d0 = 0.15\n",
    "z5b = ((miuAwal5b-miuAkhir5b)-d0)/np.sqrt((pow(sigmaAwal5b,2)/nAwal5b)+(pow(sigmaAkhir5b,2)/nAkhir5b))\n",
    "criticalValue5b = (stats.norm.ppf(1-α/2))\n",
    "if z5b < 0:\n",
    "  pValue5b = 2*(stats.norm.cdf(z5b))\n",
    "else:\n",
    "  pValue5b = 2*(stats.norm.sf(z5b))\n",
    "print(\"Nilai z adalah \" + str(z5b))\n",
    "print(\"Nilai p adalah \" + str(pValue5b))\n",
    "print(\"Nilai kritis adalah \" + str(-criticalValue5b) + \" dan \" + str(criticalValue5b))\n",
    "print()\n",
    "print(f\"Rentang kritis : Z < {-criticalValue5b} atau Z > {criticalValue5b}\")"
   ]
  },
  {
   "cell_type": "markdown",
   "metadata": {},
   "source": [
    "6) Keputusan: "
   ]
  },
  {
   "cell_type": "code",
   "execution_count": 245,
   "metadata": {},
   "outputs": [
    {
     "name": "stdout",
     "output_type": "stream",
     "text": [
      "Z masuk dalam daerah kritis, H0 pasti ditolak\n",
      "P value kurang dari alpha, H0 pasti ditolak\n",
      "Karena salah satu syarat ditolak, maka kesimpulannya H0 ditolak\n",
      "Sehingga rata-rata bagian awal tidak lebih besar 0.15 dari bagian akhir\n"
     ]
    }
   ],
   "source": [
    "if z5b > criticalValue5b or z5b < -criticalValue5b:\n",
    "    print(\"Z masuk dalam daerah kritis, H0 pasti ditolak\")\n",
    "else:\n",
    "    print(\"Z di luar daerah kritis, H0 mungkin diterima\")\n",
    "\n",
    "if pValue5a < α:\n",
    "    print(\"P value kurang dari alpha, H0 pasti ditolak\")\n",
    "else:\n",
    "    print(\"P value lebih dari alpha, H0 mungkin diterima\")\n",
    "\n",
    "if (z5b > criticalValue5b or z5b < -criticalValue5b) or (pValue5b < α):\n",
    "    print(\"Karena salah satu syarat ditolak, maka kesimpulannya H0 ditolak\")\n",
    "    print(\"Sehingga rata-rata bagian awal tidak lebih besar 0.15 dari bagian akhir\")\n",
    "else:\n",
    "    print(\"Karena kedua syarat terpenuhi, maka kesimpulannya H0 diterima\")\n",
    "    print(\"Sehingga rata-rata bagian awal lebih besar 0.15 dari bagian akhir\")"
   ]
  },
  {
   "cell_type": "markdown",
   "metadata": {},
   "source": [
    "c. Rata-rata 100 baris pertama kolom Chloramines sama dengan 100 baris terakhirnya? \n",
    "\n",
    "μ1 = rata-rata 100 baris pertama <br>\n",
    "μ2 = rata-rata 100 baris terakhir\n",
    "\n",
    "1. Hipotesis nol: H<sub>0</sub> =  (μ1 - μ2 = 0) <br>  \n",
    "2. Hipotesis alternatif: H<sub>1</sub> =  (μ1 - μ2 $\\ne$ 0)  \n",
    "3. Tingkat signifikasi: α = 0.05  \n",
    "\n",
    "Daerah kritis $z < -z_{\\alpha_{/2}} \\lor z > z_{\\alpha_{/2}}$\n",
    "\n",
    "Terdapat 2010 instance/individu dalam populasi, sehingga bagian awal berjumlah 1005 instance dan bagian akhir berjumlah 1005 instance\n",
    "\n",
    "Uji hipotesis dilakukan dengan menghitung Z dari sampel sejumlah 100 pertama yang diambil dari populasi bagian awal dan 100 terakhir yang diambil dari bagian akhir\n",
    "\n",
    "$$ z = \\frac{(\\bar{x_{1}} - \\bar{x_{2}}) - d_{0}} {\\sqrt{\\sigma_{1}^{2}/n_{1} + \\sigma_{2}^{2}/n_{2}}}$$\n",
    "\n",
    "Z akan dibandingkan dengan daerah kritis yang telah ditentukan berdasarkan $\\alpha$\n",
    "\n",
    "Lalu, juga dilakukan test p value dengan membandingkan nilai probabilitas Z dengan nilai $\\alpha$\n",
    "\n",
    "Jika Z memasuki daerah kritis atau p value kurang dari $\\alpha$, maka dapat diambil kesimpulan H0 ditolak\n",
    "\n",
    "Jika Z di luar daerah kritis dan p value lebih dari $\\alpha$, maka H0 diterima"
   ]
  },
  {
   "cell_type": "markdown",
   "metadata": {},
   "source": [
    "4) Uji statistik yang sesuai dan critical region"
   ]
  },
  {
   "cell_type": "code",
   "execution_count": 246,
   "metadata": {},
   "outputs": [
    {
     "data": {
      "text/plain": [
       "[]"
      ]
     },
     "execution_count": 246,
     "metadata": {},
     "output_type": "execute_result"
    },
    {
     "data": {
      "image/png": "[encoded data removed]",
      "text/plain": [
       "<Figure size 576x864 with 2 Axes>"
      ]
     },
     "metadata": {
      "needs_background": "light"
     },
     "output_type": "display_data"
    }
   ],
   "source": [
    "α = 0.05\n",
    "nAwal5c = 100\n",
    "chloraminesAwal = df[\"chloramines\"][:nAwal5c]\n",
    "miuAwal5c = chloraminesAwal.mean()\n",
    "sigmaAwal5c = chloraminesAwal.std()\n",
    "\n",
    "nAkhir5c = 100\n",
    "chloraminesAkhir = df[\"organic_carbon\"][len(df)-nAkhir5c:]\n",
    "miuAkhir5c = chloraminesAkhir.mean()\n",
    "sigmaAkhir5c = chloraminesAkhir.std()\n",
    "\n",
    "fig, axs = plt.subplots(2, figsize=(8,12))\n",
    "\n",
    "chloraminesAwal.plot.box(label = \"Chloramines 100 baris pertama\", ax=axs[0])\n",
    "chloraminesAkhir.plot.box(label = \"Chloramines 100 baris terakhir\", ax=axs[1])\n",
    "plt.plot()"
   ]
  },
  {
   "cell_type": "markdown",
   "metadata": {},
   "source": [
    "5) Uji statistik dari data sample dan p-value"
   ]
  },
  {
   "cell_type": "code",
   "execution_count": 247,
   "metadata": {},
   "outputs": [
    {
     "name": "stdout",
     "output_type": "stream",
     "text": [
      "Nilai z adalah -20.078518196114587\n",
      "Nilai p adalah 1.1373712316589296e-89\n",
      "Nilai kritis adalah -1.959963984540054 dan 1.959963984540054\n",
      "\n",
      "Rentang kritis : Z < -1.959963984540054 atau Z > 1.959963984540054\n"
     ]
    }
   ],
   "source": [
    "d0 = 0\n",
    "z5c = ((miuAwal5c-miuAkhir5c)-d0)/np.sqrt((pow(sigmaAwal5c,2)/nAwal5c)+(pow(sigmaAkhir5c,2)/nAkhir5c))\n",
    "criticalValue5c = (stats.norm.ppf(1-α/2))\n",
    "if z5c < 0:\n",
    "  pValue5c = 2*(stats.norm.cdf(z5c))\n",
    "else:\n",
    "  pValue5c = 2*(stats.norm.sf(z5c))\n",
    "print(\"Nilai z adalah \" + str(z5c))\n",
    "print(\"Nilai p adalah \" + str(pValue5c))\n",
    "print(\"Nilai kritis adalah \" + str(-criticalValue5c) + \" dan \" + str(criticalValue5c))\n",
    "print()\n",
    "print(f\"Rentang kritis : Z < {-criticalValue5c} atau Z > {criticalValue5c}\")"
   ]
  },
  {
   "cell_type": "markdown",
   "metadata": {},
   "source": [
    "6) Keputusan: "
   ]
  },
  {
   "cell_type": "code",
   "execution_count": 248,
   "metadata": {},
   "outputs": [
    {
     "name": "stdout",
     "output_type": "stream",
     "text": [
      "Z masuk dalam daerah kritis, H0 pasti ditolak\n",
      "P value kurang dari alpha, H0 pasti ditolak\n",
      "Karena salah satu syarat ditolak, maka kesimpulannya H0 ditolak\n",
      "Sehingga rata-rata kedua bagian itu tidak sama\n"
     ]
    }
   ],
   "source": [
    "if z5c > criticalValue5c or z5c < -criticalValue5c:\n",
    "    print(\"Z masuk dalam daerah kritis, H0 pasti ditolak\")\n",
    "else:\n",
    "    print(\"Z di luar daerah kritis, H0 mungkin diterima\")\n",
    "\n",
    "if pValue5a < α:\n",
    "    print(\"P value kurang dari alpha, H0 pasti ditolak\")\n",
    "else:\n",
    "    print(\"P value lebih dari alpha, H0 mungkin diterima\")\n",
    "\n",
    "if (z5c > criticalValue5c or z5c < -criticalValue5c) or (pValue5c < α):\n",
    "    print(\"Karena salah satu syarat ditolak, maka kesimpulannya H0 ditolak\")\n",
    "    print(\"Sehingga rata-rata kedua bagian itu tidak sama\")\n",
    "else:\n",
    "    print(\"Karena kedua syarat terpenuhi, maka kesimpulannya H0 diterima\")\n",
    "    print(\"Sehingga rata-rata kedua bagian itu sama\")"
   ]
  },
  {
   "cell_type": "markdown",
   "metadata": {},
   "source": [
    "\n",
    "d. Proporsi nilai bagian awal Turbidity yang lebih dari 4, adalah lebih besar daripada, proporsi nilai yang sama di bagian akhir Turbidity? \n",
    "\n",
    "p1 = proporsi bagian awal <br>\n",
    "p2 = proporsi bagian akhir\n",
    "\n",
    "1. Hipotesis nol: H<sub>0</sub> = (p1 = p2) <br>  \n",
    "2. Hipotesis alternatif: H<sub>1</sub> = (p1 > p2)  -> (one-tailed test)  \n",
    "3. Tingkat signifikasi: α = 0.05  \n",
    "\n",
    "Daerah kritis $z > z_\\alpha$\n",
    "\n",
    "Terdapat 2010 instance/individu dalam populasi, sehingga bagian awal berjumlah 1005 instance dan bagian akhir berjumlah 1005 instance\n",
    "\n",
    "Uji hipotesis dilakukan dengan menghitung Z dari sampel bagian awal dan sampel bagian akhir\n",
    "\n",
    "$$ z = \\frac{\\hat{p_{1}}-\\hat{p_{2}}}{\\sqrt{\\hat{p}\\hat{q}(1/n_{1}+1/n_{2})}} $$\n",
    "\n",
    "Z akan dibandingkan dengan daerah kritis yang telah ditentukan berdasarkan $\\alpha$\n",
    "\n",
    "Lalu, juga dilakukan test p value dengan membandingkan nilai probabilitas Z dengan nilai $\\alpha$\n",
    "\n",
    "Jika Z memasuki daerah kritis atau p value kurang dari $\\alpha$, maka dapat diambil kesimpulan H0 ditolak\n",
    "\n",
    "Jika Z di luar daerah kritis dan p value lebih dari $\\alpha$, maka H0 diterima"
   ]
  },
  {
   "cell_type": "markdown",
   "metadata": {},
   "source": [
    "4) Uji statistik yang sesuai dan critical region"
   ]
  },
  {
   "cell_type": "code",
   "execution_count": 249,
   "metadata": {},
   "outputs": [
    {
     "data": {
      "text/plain": [
       "[]"
      ]
     },
     "execution_count": 249,
     "metadata": {},
     "output_type": "execute_result"
    },
    {
     "data": {
      "image/png": "[encoded data removed]",
      "text/plain": [
       "<Figure size 576x864 with 4 Axes>"
      ]
     },
     "metadata": {
      "needs_background": "light"
     },
     "output_type": "display_data"
    }
   ],
   "source": [
    "α = 0.05\n",
    "turbidityAwal = df[\"turbidity\"][:len(df)//2]\n",
    "nAwal5d = len(turbidityAwal)\n",
    "sampleAwal5d = turbidityAwal[turbidityAwal > 4]\n",
    "xAwal5d = len(sampleAwal5d)\n",
    "pAwal5d = xAwal5d / nAwal5d\n",
    "\n",
    "turbidityAkhir = df[\"turbidity\"][len(df)//2:]\n",
    "nAkhir5d = len(turbidityAkhir)\n",
    "sampleAkhir5d = turbidityAkhir[turbidityAkhir > 4]\n",
    "xAkhir5d = len(sampleAkhir5d)\n",
    "pAkhir5d = xAkhir5d / nAkhir5d\n",
    "\n",
    "fig, axs = plt.subplots(2, 2, figsize=(8,12))\n",
    "\n",
    "turbidityAwal.plot.box(label = \"Turbidity bagian awal\", ax=axs[0,0])\n",
    "turbidityAkhir.plot.box(label = \"Turbidity bagian akhir\", ax=axs[0,1])\n",
    "sampleAwal5d.plot.box(label = \"Sampel Turbidity awal > 4\", ax=axs[1,0])\n",
    "sampleAkhir5d.plot.box(label = \"Sampel Turbidity akhir > 4\", ax=axs[1,1])\n",
    "plt.plot()"
   ]
  },
  {
   "cell_type": "markdown",
   "metadata": {},
   "source": [
    "5) Uji statistik dari data sample dan p-value"
   ]
  },
  {
   "cell_type": "code",
   "execution_count": 250,
   "metadata": {},
   "outputs": [
    {
     "name": "stdout",
     "output_type": "stream",
     "text": [
      "Banyak Turbudity awal yang lebih dari 4 adalah 486 dari 1005\n",
      "Banyak Turbudity akhir yang lebih dari 4 adalah 489 dari 1005\n",
      "\n",
      "Proporsi bagian awal adalah 0.4835820895522388\n",
      "Proporsi bagian akhir adalah 0.48656716417910445\n",
      "Proporsi gabungan adalah 0.48507462686567165\n",
      "\n",
      "Nilai z adalah -0.13388958661778735\n",
      "Nilai kritis adalah 1.6448536269514722\n",
      "\n",
      "Rentang kritis : Z > 1.6448536269514722\n"
     ]
    }
   ],
   "source": [
    "criticalValue5d = stats.norm.ppf(1-α)\n",
    "p = (xAwal5d + xAkhir5d) / (nAwal5d + nAkhir5d)             # Probability Z\n",
    "q = 1-p                                                     # Probability non-Z\n",
    "z5d = (pAwal5d - pAkhir5d) / np.sqrt(p*q * (1/nAwal5d + 1/nAkhir5d))\n",
    "if z5d < 0:\n",
    "  pValue5d = (stats.norm.cdf(z5d))\n",
    "else:\n",
    "  pValue5d = (stats.norm.sf(z5d))\n",
    "\n",
    "print(\"Banyak Turbudity awal yang lebih dari 4 adalah \" + str(xAwal5d) + \" dari \" + str(nAwal5d))\n",
    "print(\"Banyak Turbudity akhir yang lebih dari 4 adalah \" + str(xAkhir5d) + \" dari \" + str(nAkhir5d))\n",
    "print()\n",
    "print(\"Proporsi bagian awal adalah \" + str(pAwal5d))\n",
    "print(\"Proporsi bagian akhir adalah \" + str(pAkhir5d))\n",
    "print(\"Proporsi gabungan adalah \" + str(p))\n",
    "print()\n",
    "print(\"Nilai z adalah \" + str(z5d))\n",
    "print(\"Nilai kritis adalah \" + str(criticalValue5d))\n",
    "print()\n",
    "print(f\"Rentang kritis : Z > {criticalValue5d}\")"
   ]
  },
  {
   "cell_type": "markdown",
   "metadata": {},
   "source": [
    "6) Keputusan:"
   ]
  },
  {
   "cell_type": "code",
   "execution_count": 251,
   "metadata": {},
   "outputs": [
    {
     "name": "stdout",
     "output_type": "stream",
     "text": [
      "Z di luar daerah kritis, H0 mungkin diterima\n",
      "P value lebih dari alpha, H0 mungkin diterima\n",
      "Karena kedua syarat terpenuhi, maka kesimpulannya H0 diterima\n",
      "Sehingga proporsi bagian awal lebih besar dari bagian akhir\n"
     ]
    }
   ],
   "source": [
    "if z5d > criticalValue5d:\n",
    "    print(\"Z masuk dalam daerah kritis, H0 pasti ditolak\")\n",
    "else:\n",
    "    print(\"Z di luar daerah kritis, H0 mungkin diterima\")\n",
    "\n",
    "if pValue5d < α:\n",
    "    print(\"P value kurang dari alpha, H0 pasti ditolak\")\n",
    "else:\n",
    "    print(\"P value lebih dari alpha, H0 mungkin diterima\")\n",
    "\n",
    "if (z5d > criticalValue5d) or (pValue5d < α):\n",
    "    print(\"Karena salah satu syarat ditolak, maka kesimpulannya H0 ditolak\")\n",
    "    print(\"Sehingga proporsi bagian awal tidak lebih besar dari bagian akhir\")\n",
    "else:\n",
    "    print(\"Karena kedua syarat terpenuhi, maka kesimpulannya H0 diterima\")\n",
    "    print(\"Sehingga proporsi bagian awal lebih besar dari bagian akhir\")"
   ]
  },
  {
   "cell_type": "markdown",
   "metadata": {},
   "source": [
    "e. Bagian awal kolom Sulfate memiliki variansi yang sama dengan bagian akhirnya?\n",
    "\n",
    "${σ_{1}}^{2}$ = variansi bagian awal <br>\n",
    "${σ_{2}}^{2}$ = variansi bagian akhir\n",
    "\n",
    "1. Hipotesis nol: H<sub>0</sub> =  (${σ_{1}}^{2}$ = ${σ_{2}}^{2}$) <br>  \n",
    "2. Hipotesis alternatif: H<sub>1</sub> =  (${σ_{1}}^{2}$ $\\ne$ ${σ_{2}}^{2}$)  \n",
    "3. Tingkat signifikasi: α = 0.05  \n",
    "\n",
    "Daerah kritis $f > f_{1-\\alpha/2}(v_1,v_2) \\lor (0 < f < f_{\\alpha/2}(v_1,v_2))$ dengan ${v_1 = n_1 - 1}$ dan ${v_2 = n_2 - 1}$\n",
    "\n",
    "Uji hipotesis dilakukan dengan mencari nilai distribusi f dan membandingkannya dengan daerah kritis\n",
    "\n",
    "Distribusi f dihitung dengan menggunakan rumus dibawah, dengan ${s_1}^2$ dan ${s_2}^2$ merupakan nilai variansi sampel\n",
    "\n",
    "Sampel diambil sejumlah 152 dari kolom bagian awal dan akhir\n",
    "\n",
    "$$ f = \\frac{{s_1}^{2}}{{s_2}^{2}} $$\n",
    "\n",
    "Jika nilai f masuk ke dalam daerah kritis, maka H0 ditolak\n",
    "\n",
    "Jika nilai f di luar daerah kritis, maka H0 diterima"
   ]
  },
  {
   "cell_type": "markdown",
   "metadata": {},
   "source": [
    "4) Uji statistik yang sesuai dan critical region"
   ]
  },
  {
   "cell_type": "code",
   "execution_count": 252,
   "metadata": {},
   "outputs": [
    {
     "data": {
      "text/plain": [
       "[]"
      ]
     },
     "execution_count": 252,
     "metadata": {},
     "output_type": "execute_result"
    },
    {
     "data": {
      "image/png": "[encoded data removed]",
      "text/plain": [
       "<Figure size 576x864 with 2 Axes>"
      ]
     },
     "metadata": {
      "needs_background": "light"
     },
     "output_type": "display_data"
    }
   ],
   "source": [
    "α = 0.05\n",
    "sulfateAwal = df[\"sulfate\"][:len(df)//2]\n",
    "nAwal5e = len(sulfateAwal)\n",
    "vAwal5e = nAwal5e-1\n",
    "varAwal5e = sulfateAwal.var()\n",
    "\n",
    "sulfateAkhir = df[\"sulfate\"][len(df)//2:]\n",
    "nAkhir5e = len(sulfateAkhir)\n",
    "vAkhir5e = nAkhir5e-1\n",
    "varAkhir5e = sulfateAkhir.var()\n",
    "\n",
    "fig, axs = plt.subplots(2, figsize=(8,12))\n",
    "\n",
    "sulfateAwal.plot.box(label = \"Sulfate bagian awal\", ax=axs[0])\n",
    "sulfateAkhir.plot.box(label = \"Sulfate bagian akhir\", ax=axs[1])\n",
    "plt.plot()"
   ]
  },
  {
   "cell_type": "markdown",
   "metadata": {},
   "source": [
    "5) Uji statistik dari data sample dan p-value"
   ]
  },
  {
   "cell_type": "code",
   "execution_count": 253,
   "metadata": {},
   "outputs": [
    {
     "name": "stdout",
     "output_type": "stream",
     "text": [
      "Nilai f adalah 1.0152511043950063\n",
      "Nilai kritis adalah 0.883572344355818 dan 1.1317692392568777\n",
      "\n",
      "Rentang kritis : 0 < f < 0.883572344355818 atau f > 1.1317692392568777\n"
     ]
    }
   ],
   "source": [
    "f = varAwal5e / varAkhir5e\n",
    "criticalValueRight5e = stats.f.ppf(1-(α/2), vAwal5e, vAkhir5e)\n",
    "criticalValueLeft5e = stats.f.ppf(α/2, vAwal5e, vAkhir5e)\n",
    "\n",
    "print(\"Nilai f adalah \" + str(f))\n",
    "print(\"Nilai kritis adalah \" + str(criticalValueLeft5e) + \" dan \" + str(criticalValueRight5e))\n",
    "print()\n",
    "print(f\"Rentang kritis : 0 < f < {criticalValueLeft5e} atau f > {criticalValueRight5e}\")"
   ]
  },
  {
   "cell_type": "markdown",
   "metadata": {},
   "source": [
    "6) Keputusan: "
   ]
  },
  {
   "cell_type": "code",
   "execution_count": 254,
   "metadata": {},
   "outputs": [
    {
     "name": "stdout",
     "output_type": "stream",
     "text": [
      "Z di luar daerah kritis, H0 diterima\n",
      "Sehingga variansi bagian awal sama dengan bagian akhir\n"
     ]
    }
   ],
   "source": [
    "if  (0 < f < criticalValueLeft5e) or (f > criticalValueRight5e):\n",
    "    print(\"Z masuk dalam daerah kritis, H0 ditolak\")\n",
    "    print(\"Sehingga variansi bagian awal tidak sama dengan bagian akhir\")\n",
    "else:\n",
    "    print(\"Z di luar daerah kritis, H0 diterima\")\n",
    "    print(\"Sehingga variansi bagian awal sama dengan bagian akhir\")"
   ]
  },
  {
   "cell_type": "markdown",
   "metadata": {},
   "source": [
    "## Tes Korelasi\n",
    ">Test korelasi : Tentukan apakah setiap kolom non-target berkorelasi dengan kolom target,\n",
    "dengan menggambarkan juga scatter plot nya. Gunakan correlation test.\n",
    "\n",
    ">Tes Korelasi yang digunakan adalah Pearson's Correlation Coefficient, mengukur hubungan linier antar variabel. Secara matematis jika (σXY) adalah kovarian antara X dan Y, dan (σX) adalah simpangan baku dari X, maka koefisien korelasi Pearson ρ adalah\n",
    ">$$ Rho_{_{X,Y}} = \\frac{σXY} {σXσY} $$\n",
    "> Rumus ini ada dalam library python\n",
    "\n",
    "### *KEKUATAN DAN ARAH HUBUNGAN*\n",
    "##### Kekuatan hubungan dapat dilihat dari koefisien korelasi. Koefisien korelasi berada pada rentang antara -1 dan 1:\n",
    "\n",
    "- -1 menunjukkan korelasi  dan  negatif yang kuat. setiap kali  meningkat,  berkurang.\n",
    "- 0 berarti tidak ada hubungan antara  dan .\n",
    "- 1 menunjukkan korelasi  dan  positif yang kuat. setiap kali  meningkat,  meningkat.\n",
    "\n",
    "##### Untuk memudahkan melakukan interpretasi mengenai kekuatan hubungan antara dua variabel, terdapat kriteria sebagai berikut:\n",
    "\n",
    "- 0 : Tidak ada korelasi antara dua variabel\n",
    "- 0 – 0,25: Korelasi sangat lemah\n",
    "- 0,25 – 0,5: Korelasi lemah\n",
    "- 0,5 – 0,75: Korelasi kuat\n",
    "- 0,75 – 0,99: Korelasi sangat kuat\n",
    "- 1: Korelasi sempurna"
   ]
  },
  {
   "cell_type": "code",
   "execution_count": 255,
   "metadata": {},
   "outputs": [],
   "source": [
    "target = atributs[10]           # Kolom target = Potability\n",
    "y = df[target]                  # Data target\n",
    "\n",
    "def cekCorrelation(nonTarget, Target, corr):\n",
    "    print(f\"Korelasi {nonTarget.title()} dengan {Target.title()} adalah\", corr)\n",
    "    sign = \"\"\n",
    "    if corr > 0:\n",
    "        sign = \"positif\"\n",
    "    elif corr < 0:\n",
    "        sign = \"negatif\"\n",
    "    else:\n",
    "        sign = \"tidak berkorelasi\"\n",
    "\n",
    "    tipe = \"\"\n",
    "    val = abs(corr)\n",
    "    if val < 0.25:\n",
    "        tipe = \"sangat lemah\"\n",
    "    elif val < 0.5:\n",
    "        tipe = \"lemah\"\n",
    "    elif val < 0.75:\n",
    "        tipe = \"kuat\"\n",
    "    elif val < 1:\n",
    "        tipe = \"sangat kuat\"\n",
    "    elif val==1:\n",
    "        tipe = \"sempurna\"\n",
    "\n",
    "    if corr==0:\n",
    "        print(f\"Berdasarkan nilai p, maka {nonTarget.title()} dan {Target.title()} {sign}\")\n",
    "    else:\n",
    "        print(f\"Berdasarkan nilai p, maka {nonTarget.title()} dan {Target.title()} berkorelasi {sign} dan {tipe}\")"
   ]
  },
  {
   "cell_type": "markdown",
   "metadata": {},
   "source": [
    "#### 1. Scatter Plot pH dengan Potability"
   ]
  },
  {
   "cell_type": "code",
   "execution_count": 256,
   "metadata": {},
   "outputs": [
    {
     "name": "stdout",
     "output_type": "stream",
     "text": [
      "Korelasi Ph dengan Potability adalah 0.01547509440843348\n",
      "Berdasarkan nilai p, maka Ph dan Potability berkorelasi positif dan sangat lemah\n"
     ]
    },
    {
     "data": {
      "image/png": "[encoded data removed]",
      "text/plain": [
       "<Figure size 432x288 with 1 Axes>"
      ]
     },
     "metadata": {
      "needs_background": "light"
     },
     "output_type": "display_data"
    }
   ],
   "source": [
    "non1 = atributs[1]\n",
    "x1 = df[non1]\n",
    "corr = x1.corr(y)\n",
    "plt.scatter(x1, y); plt.xlabel(non1); plt.ylabel(target.title())\n",
    "\n",
    "cekCorrelation(non1, target, corr)"
   ]
  },
  {
   "cell_type": "markdown",
   "metadata": {},
   "source": [
    "#### 2. Scatter Plot Hardness dengan Potability"
   ]
  },
  {
   "cell_type": "code",
   "execution_count": 257,
   "metadata": {},
   "outputs": [
    {
     "name": "stdout",
     "output_type": "stream",
     "text": [
      "Korelasi Hardness dengan Potability adalah -0.0014631528959479344\n",
      "Berdasarkan nilai p, maka Hardness dan Potability berkorelasi negatif dan sangat lemah\n"
     ]
    },
    {
     "data": {
      "image/png": "[encoded data removed]",
      "text/plain": [
       "<Figure size 432x288 with 1 Axes>"
      ]
     },
     "metadata": {
      "needs_background": "light"
     },
     "output_type": "display_data"
    }
   ],
   "source": [
    "non2 = atributs[2]\n",
    "x2 = df[non2]\n",
    "corr = x2.corr(y)\n",
    "plt.scatter(x2, y); plt.xlabel(non2); plt.ylabel(target.title())\n",
    "\n",
    "cekCorrelation(non2, target, corr)"
   ]
  },
  {
   "cell_type": "markdown",
   "metadata": {},
   "source": [
    "#### 3. Scatter Plot Solids dengan Potability"
   ]
  },
  {
   "cell_type": "code",
   "execution_count": 258,
   "metadata": {},
   "outputs": [
    {
     "name": "stdout",
     "output_type": "stream",
     "text": [
      "Korelasi Solids dengan Potability adalah 0.03897657818173466\n",
      "Berdasarkan nilai p, maka Solids dan Potability berkorelasi positif dan sangat lemah\n"
     ]
    },
    {
     "data": {
      "image/png": "[encoded data removed]",
      "text/plain": [
       "<Figure size 432x288 with 1 Axes>"
      ]
     },
     "metadata": {
      "needs_background": "light"
     },
     "output_type": "display_data"
    }
   ],
   "source": [
    "non3 = atributs[3]\n",
    "x3 = df[non3]\n",
    "corr = x3.corr(y)\n",
    "plt.scatter(x3, y); plt.xlabel(non3); plt.ylabel(target.title())\n",
    "\n",
    "cekCorrelation(non3, target, corr)"
   ]
  },
  {
   "cell_type": "markdown",
   "metadata": {},
   "source": [
    "#### 4. Scatter Plot Chloramines dengan Potability"
   ]
  },
  {
   "cell_type": "code",
   "execution_count": 259,
   "metadata": {},
   "outputs": [
    {
     "name": "stdout",
     "output_type": "stream",
     "text": [
      "Korelasi Chloramines dengan Potability adalah 0.02077892184052409\n",
      "Berdasarkan nilai p, maka Chloramines dan Potability berkorelasi positif dan sangat lemah\n"
     ]
    },
    {
     "data": {
      "image/png": "[encoded data removed]",
      "text/plain": [
       "<Figure size 432x288 with 1 Axes>"
      ]
     },
     "metadata": {
      "needs_background": "light"
     },
     "output_type": "display_data"
    }
   ],
   "source": [
    "non4 = atributs[4]\n",
    "x4 = df[non4]\n",
    "corr = x4.corr(y)\n",
    "plt.scatter(x4, y); plt.xlabel(non4); plt.ylabel(target.title())\n",
    "\n",
    "cekCorrelation(non4, target, corr)"
   ]
  },
  {
   "cell_type": "markdown",
   "metadata": {},
   "source": [
    "#### 5. Scatter Plot Sulfate dengan Potability\n"
   ]
  },
  {
   "cell_type": "code",
   "execution_count": 260,
   "metadata": {},
   "outputs": [
    {
     "name": "stdout",
     "output_type": "stream",
     "text": [
      "Korelasi Sulfate dengan Potability adalah -0.015703164419273778\n",
      "Berdasarkan nilai p, maka Sulfate dan Potability berkorelasi negatif dan sangat lemah\n"
     ]
    },
    {
     "data": {
      "image/png": "[encoded data removed]",
      "text/plain": [
       "<Figure size 432x288 with 1 Axes>"
      ]
     },
     "metadata": {
      "needs_background": "light"
     },
     "output_type": "display_data"
    }
   ],
   "source": [
    "non5 = atributs[5]\n",
    "x5 = df[non5]\n",
    "corr = x5.corr(y)\n",
    "plt.scatter(x5, y); plt.xlabel(non5); plt.ylabel(target.title())\n",
    "\n",
    "cekCorrelation(non5, target, corr)"
   ]
  },
  {
   "cell_type": "markdown",
   "metadata": {},
   "source": [
    "#### 6. Scatter Plot Conductivity dengan Potability\n"
   ]
  },
  {
   "cell_type": "code",
   "execution_count": 261,
   "metadata": {},
   "outputs": [
    {
     "name": "stdout",
     "output_type": "stream",
     "text": [
      "Korelasi Conductivity dengan Potability adalah -0.016257120111377067\n",
      "Berdasarkan nilai p, maka Conductivity dan Potability berkorelasi negatif dan sangat lemah\n"
     ]
    },
    {
     "data": {
      "image/png": "[encoded data removed]",
      "text/plain": [
       "<Figure size 432x288 with 1 Axes>"
      ]
     },
     "metadata": {
      "needs_background": "light"
     },
     "output_type": "display_data"
    }
   ],
   "source": [
    "non6 = atributs[6]\n",
    "x6 = df[non6]\n",
    "corr = x6.corr(y)\n",
    "plt.scatter(x6, y); plt.xlabel(non6); plt.ylabel(target.title())\n",
    "\n",
    "cekCorrelation(non6, target, corr)"
   ]
  },
  {
   "cell_type": "markdown",
   "metadata": {},
   "source": [
    "#### 7. Scatter Plot OrganicCarbon dengan Potability\n"
   ]
  },
  {
   "cell_type": "code",
   "execution_count": 262,
   "metadata": {},
   "outputs": [
    {
     "name": "stdout",
     "output_type": "stream",
     "text": [
      "Korelasi Organic_Carbon dengan Potability adalah -0.015488461910747259\n",
      "Berdasarkan nilai p, maka Organic_Carbon dan Potability berkorelasi negatif dan sangat lemah\n"
     ]
    },
    {
     "data": {
      "image/png": "[encoded data removed]",
      "text/plain": [
       "<Figure size 432x288 with 1 Axes>"
      ]
     },
     "metadata": {
      "needs_background": "light"
     },
     "output_type": "display_data"
    }
   ],
   "source": [
    "non7 = atributs[7]\n",
    "x7 = df[non7]\n",
    "corr = x7.corr(y)\n",
    "plt.scatter(x7, y); plt.xlabel(non7); plt.ylabel(target.title())\n",
    "\n",
    "cekCorrelation(non7, target, corr)"
   ]
  },
  {
   "cell_type": "markdown",
   "metadata": {},
   "source": [
    "#### 8. Scatter Plot Trihalomethanes dengan Potability"
   ]
  },
  {
   "cell_type": "code",
   "execution_count": 263,
   "metadata": {},
   "outputs": [
    {
     "name": "stdout",
     "output_type": "stream",
     "text": [
      "Korelasi Trihalomethanes dengan Potability adalah 0.009236711064712997\n",
      "Berdasarkan nilai p, maka Trihalomethanes dan Potability berkorelasi positif dan sangat lemah\n"
     ]
    },
    {
     "data": {
      "image/png": "[encoded data removed]",
      "text/plain": [
       "<Figure size 432x288 with 1 Axes>"
      ]
     },
     "metadata": {
      "needs_background": "light"
     },
     "output_type": "display_data"
    }
   ],
   "source": [
    "non8 = atributs[8]\n",
    "x8 = df[non8]\n",
    "corr = x8.corr(y)\n",
    "plt.scatter(x8, y); plt.xlabel(non8); plt.ylabel(target.title())\n",
    "\n",
    "cekCorrelation(non8, target, corr)"
   ]
  },
  {
   "cell_type": "markdown",
   "metadata": {},
   "source": [
    "#### 9. Scatter Plot Turbidity dengan Potability"
   ]
  },
  {
   "cell_type": "code",
   "execution_count": 264,
   "metadata": {},
   "outputs": [
    {
     "name": "stdout",
     "output_type": "stream",
     "text": [
      "Korelasi Turbidity dengan Potability adalah 0.022331042640622665\n",
      "Berdasarkan nilai p, maka Turbidity dan Potability berkorelasi positif dan sangat lemah\n"
     ]
    },
    {
     "data": {
      "image/png": "[encoded data removed]",
      "text/plain": [
       "<Figure size 432x288 with 1 Axes>"
      ]
     },
     "metadata": {
      "needs_background": "light"
     },
     "output_type": "display_data"
    }
   ],
   "source": [
    "non9 = atributs[9]\n",
    "x9 = df[non9]\n",
    "corr = x9.corr(y)\n",
    "plt.scatter(x9, y); plt.xlabel(non9); plt.ylabel(target.title())\n",
    "\n",
    "cekCorrelation(non9, target, corr)"
   ]
  },
  {
   "cell_type": "markdown",
   "metadata": {},
   "source": [
    "### Referensi syntax markdown \n",
    "[cheat sheet](https://www.markdownguide.org/cheat-sheet/)  \n",
    "[mathematics](https://rpruim.github.io/s341/S19/from-class/MathinRmd.html)\n"
   ]
  }
 ],
 "metadata": {
  "interpreter": {
   "hash": "40cf7a1061013614c60d9a89e6a9ad09253e16cd13af19a45f84172550acdad0"
  },
  "kernelspec": {
   "display_name": "Python 3.9.1 64-bit",
   "language": "python",
   "name": "python3"
  },
  "language_info": {
   "codemirror_mode": {
    "name": "ipython",
    "version": 3
   },
   "file_extension": ".py",
   "mimetype": "text/x-python",
   "name": "python",
   "nbconvert_exporter": "python",
   "pygments_lexer": "ipython3",
   "version": "3.9.1"
  },
  "orig_nbformat": 4
 },
 "nbformat": 4,
 "nbformat_minor": 2
}
